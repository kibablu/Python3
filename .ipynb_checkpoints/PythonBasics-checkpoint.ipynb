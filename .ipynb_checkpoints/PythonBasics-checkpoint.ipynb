{
 "cells": [
  {
   "cell_type": "markdown",
   "metadata": {},
   "source": [
    "# \"And like all skills, the more you program, the better you’ll become.\"\n",
    "\n",
    "## When asking programming questions, remember to do the following:\n",
    "\n",
    "1.Explain what you are trying to do, not just what you did.This lets your helper know if you are on the wrong track.\n",
    "2.Specify the point at which the error happens. Does it occur at the very start of the program or only after you do a    certain action?\n",
    "3.Copy and paste the entire error message and your code to http://pastebin.com/ or http://gist.github.com/\n",
    "4.Explain what you’ve already tried to do to solve your problem.This tells people you’ve already put in some work to figure things out on your own.\n",
    "5.List the version of Python you’re using.Also, say which operating system and version you’re running.\n",
    "6.If the error came up after you made a change to your code, explain exactly what you changed.\n",
    "7.Say whether you’re able to reproduce the error every time you run the program or whether it happens only after you perform certain actions.Explain what those actions are, if so."
   ]
  },
  {
   "cell_type": "markdown",
   "metadata": {},
   "source": [
    "## Storing values in a variables\n",
    "A variable is like a box in the computer’s memory where you can store a single value."
   ]
  },
  {
   "cell_type": "code",
   "execution_count": 18,
   "metadata": {},
   "outputs": [
    {
     "data": {
      "text/plain": [
       "'Goodby'"
      ]
     },
     "execution_count": 18,
     "metadata": {},
     "output_type": "execute_result"
    }
   ],
   "source": [
    "cat = 'Hello'\n",
    "cat = 'Goodby'\n",
    "cat"
   ]
  },
  {
   "cell_type": "code",
   "execution_count": 19,
   "metadata": {},
   "outputs": [
    {
     "data": {
      "text/plain": [
       "54"
      ]
     },
     "execution_count": 19,
     "metadata": {},
     "output_type": "execute_result"
    }
   ],
   "source": [
    "cats = 34\n",
    "mouse = 20\n",
    "cats + mouse"
   ]
  },
  {
   "cell_type": "markdown",
   "metadata": {},
   "source": [
    "## Variable Names\n",
    "\n",
    "1.It can be only one word.\n",
    "2.It can use only letters, numbers, and the underscore ( _ ) character.\n",
    "3.It can’t begin with a number."
   ]
  },
  {
   "cell_type": "code",
   "execution_count": 31,
   "metadata": {},
   "outputs": [
    {
     "name": "stdout",
     "output_type": "stream",
     "text": [
      "Hello World!\n",
      "What is your name?\n",
      "president\n",
      "It's nice to meet you, Mr. president\n",
      "The lenght of your name is:\n",
      "9\n",
      "What is your age?\n",
      "34\n",
      "You will be, 35 in a year\n"
     ]
    }
   ],
   "source": [
    "# This program says hello and asks for my name.\n",
    "print (\"Hello World!\")\n",
    "print (\"What is your name?\")\n",
    "myName = input() # user input data\n",
    "print (\"It's nice to meet you, \" + \"Mr. \" + myName)\n",
    "print(\"The lenght of your name is:\")\n",
    "print (len(myName))\n",
    "print (\"What is your age?\")\n",
    "myAge = input()\n",
    "print (\"You will be, \" + str(int(myAge) + 1) + \" in a year\")"
   ]
  },
  {
   "cell_type": "code",
   "execution_count": 32,
   "metadata": {},
   "outputs": [
    {
     "data": {
      "text/plain": [
       "12"
      ]
     },
     "execution_count": 32,
     "metadata": {},
     "output_type": "execute_result"
    }
   ],
   "source": [
    "len(\"Hello World!\")"
   ]
  },
  {
   "cell_type": "code",
   "execution_count": 30,
   "metadata": {},
   "outputs": [
    {
     "name": "stdout",
     "output_type": "stream",
     "text": [
      "4\n"
     ]
    },
    {
     "data": {
      "text/plain": [
       "str"
      ]
     },
     "execution_count": 30,
     "metadata": {},
     "output_type": "execute_result"
    }
   ],
   "source": [
    "type(input())"
   ]
  },
  {
   "cell_type": "code",
   "execution_count": 43,
   "metadata": {},
   "outputs": [
    {
     "data": {
      "text/plain": [
       "34.14"
      ]
     },
     "execution_count": 43,
     "metadata": {},
     "output_type": "execute_result"
    }
   ],
   "source": [
    "int('67')\n",
    "str(34)\n",
    "float(54)\n",
    "float('34.14')"
   ]
  },
  {
   "cell_type": "code",
   "execution_count": 48,
   "metadata": {},
   "outputs": [
    {
     "data": {
      "text/plain": [
       "False"
      ]
     },
     "execution_count": 48,
     "metadata": {},
     "output_type": "execute_result"
    }
   ],
   "source": [
    "42 == 042.0\n",
    "42 == '42'"
   ]
  },
  {
   "cell_type": "code",
   "execution_count": 54,
   "metadata": {},
   "outputs": [
    {
     "data": {
      "text/plain": [
       "10.65"
      ]
     },
     "execution_count": 54,
     "metadata": {},
     "output_type": "execute_result"
    }
   ],
   "source": [
    "round(10.647, 2) # round off then how many decimals to be rounded off"
   ]
  }
 ],
 "metadata": {
  "kernelspec": {
   "display_name": "Python 3",
   "language": "python",
   "name": "python3"
  },
  "language_info": {
   "codemirror_mode": {
    "name": "ipython",
    "version": 3
   },
   "file_extension": ".py",
   "mimetype": "text/x-python",
   "name": "python",
   "nbconvert_exporter": "python",
   "pygments_lexer": "ipython3",
   "version": "3.6.8"
  }
 },
 "nbformat": 4,
 "nbformat_minor": 2
}
