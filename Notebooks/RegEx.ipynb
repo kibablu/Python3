{
 "cells": [
  {
   "cell_type": "markdown",
   "metadata": {},
   "source": [
    "## Pattern Matching with Regular Expression"
   ]
  },
  {
   "cell_type": "markdown",
   "metadata": {},
   "source": [
    "Regular Expression allow you to specify a pattern of text to search for."
   ]
  },
  {
   "cell_type": "markdown",
   "metadata": {},
   "source": [
    "### Finding Patterns of Text Without Regular Expressions\n",
    "\n",
    "Say you want to find a phone number in a string.You know the pattern:three numbers, a hyphen, three numbers, a hyphen, and four numbers.Here’s an example: 415-555-4242.Let’s use a function named isPhoneNumber() to check whether a string matches this pattern, returning either True or False ."
   ]
  },
  {
   "cell_type": "code",
   "execution_count": 2,
   "metadata": {},
   "outputs": [
    {
     "data": {
      "text/plain": [
       "True"
      ]
     },
     "execution_count": 2,
     "metadata": {},
     "output_type": "execute_result"
    }
   ],
   "source": [
    "# describe more about .isdecimal()\n",
    "'2'.isdecimal()"
   ]
  },
  {
   "cell_type": "code",
   "execution_count": 3,
   "metadata": {},
   "outputs": [
    {
     "data": {
      "text/plain": [
       "False"
      ]
     },
     "execution_count": 3,
     "metadata": {},
     "output_type": "execute_result"
    }
   ],
   "source": [
    "not '2'.isdecimal()"
   ]
  },
  {
   "cell_type": "code",
   "execution_count": 9,
   "metadata": {},
   "outputs": [
    {
     "name": "stdout",
     "output_type": "stream",
     "text": [
      "434-434-5678 is a phone number?\n",
      "True\n"
     ]
    }
   ],
   "source": [
    "def isPhoneNumber(text):\n",
    "    if len(text) != 12: # check if the length of text is 12\n",
    "        return False\n",
    "    for i in range(0, 3): # loop through the first 3 character\n",
    "        if not text[i].isdecimal(): # checks if digits in [i] are not numeric character and return false\n",
    "            return False\n",
    "    if text[3] != '-':\n",
    "        return False\n",
    "    for i in range(4,7):\n",
    "        if not text[i].isdecimal():\n",
    "            return False\n",
    "    if text[7] != '-':\n",
    "        return False\n",
    "    for i in range(8,12):\n",
    "        if not text[i].isdecimal():\n",
    "            return False\n",
    "    return True # retun true is all checks are ok\n",
    "\n",
    "print('434-434-5678 is a phone number?')\n",
    "print(isPhoneNumber('434-434-5678'))"
   ]
  },
  {
   "cell_type": "code",
   "execution_count": 10,
   "metadata": {},
   "outputs": [
    {
     "name": "stdout",
     "output_type": "stream",
     "text": [
      "False\n"
     ]
    }
   ],
   "source": [
    "print(isPhoneNumber('44-434-5678'))"
   ]
  },
  {
   "cell_type": "code",
   "execution_count": 11,
   "metadata": {},
   "outputs": [
    {
     "name": "stdout",
     "output_type": "stream",
     "text": [
      "False\n"
     ]
    }
   ],
   "source": [
    "print(isPhoneNumber('Wash- wash'))"
   ]
  },
  {
   "cell_type": "code",
   "execution_count": 12,
   "metadata": {},
   "outputs": [
    {
     "name": "stdout",
     "output_type": "stream",
     "text": [
      "Phone number found: 434-434-5678\n",
      "Phone number found: 434-434-5678\n",
      "Done\n"
     ]
    }
   ],
   "source": [
    "message = 'Call me at 434-434-5678 tomorrow. 434-434-5678 is my office'\n",
    "for i in range(len(message)):\n",
    "    chunk = message[i:i+12]\n",
    "    if isPhoneNumber(chunk):\n",
    "        print('Phone number found: ' + chunk)\n",
    "print('Done')"
   ]
  },
  {
   "cell_type": "markdown",
   "metadata": {},
   "source": [
    "#### Explanation of line 12 code\n",
    "\n",
    "On each iteration of the for loop, a new chunk of 12 characters from message is assigned to the variable chunk. For example, on the first iteration, i is 0, and chunk is assigned message[0:12] (that is, the string 'Call me at 4').On the next iteration, i is 1, and chunk is assigned message[1:13] (the string\n",
    "'all me at 41').You pass chunk to isPhoneNumber() to see whether it matches the phone number pattern, and if so, you print the chunk.Continue to loop through message, and eventually the 12 characters in chunk will be a phone number.The loop goes through the entire string, testing each 12-character piece and printing any chunk it finds that satisfies isPhoneNumber().Once we’re done going through message, we print Done ."
   ]
  },
  {
   "cell_type": "markdown",
   "metadata": {},
   "source": [
    "### Finding Patterns of Text with Regular Expressions"
   ]
  },
  {
   "cell_type": "markdown",
   "metadata": {},
   "source": [
    "Regular expressions, called _regexes_ for short, are descriptions for a pattern of text."
   ]
  },
  {
   "cell_type": "markdown",
   "metadata": {},
   "source": [
    "For example, a __\\d in a regex stands for a digit character— that is, any single numeral 0 to 9__. The regex __\\d\\d\\d-\\d\\d\\d-\\d\\d\\d\\d__ is used by Python to match the same text the previous isPhoneNumber() function did: a string of three numbers, a hyphen, three more numbers, another hyphen, and four numbers. Any other string would not match the \\d\\d\\d-\\d\\d\\d-\\d\\d\\d\\d regex."
   ]
  },
  {
   "cell_type": "markdown",
   "metadata": {},
   "source": [
    "But regular expressions can be much more sophisticated.For example, adding a 3 in curly brackets ( __{3}__ ) after a pattern is like saying, “Match this pattern three times.” So the slightly shorter regex __\\d{3}-\\d{3}-\\d{4}__ also\n",
    "matches the correct phone number format."
   ]
  },
  {
   "cell_type": "code",
   "execution_count": null,
   "metadata": {},
   "outputs": [],
   "source": [
    "# importing the regular expression module\n",
    "import re"
   ]
  },
  {
   "cell_type": "markdown",
   "metadata": {},
   "source": [
    "Passing a string value representing your regular expression to __re.compile()__ returns a Regex pattern object (or simply, a Regex object)."
   ]
  },
  {
   "cell_type": "code",
   "execution_count": null,
   "metadata": {},
   "outputs": [],
   "source": [
    "import re\n",
    "\n",
    "phoneNumRegex = re.compile(r'\\d\\d\\d-\\d\\d\\d-\\d\\d\\d\\d') # phoneNumRegex variable contains a Regex object"
   ]
  },
  {
   "cell_type": "markdown",
   "metadata": {},
   "source": [
    "__NOTE__\n",
    "\n",
    "by putting an __r__ before the first quote of the string value, you can mark the string as a raw string , which does not escape characters.\n",
    "\n",
    "Since regular expressions frequently use backslashes in them, it is convenient to pass raw strings to the __re.compile()__ function instead of typing extra backslashes."
   ]
  },
  {
   "cell_type": "markdown",
   "metadata": {},
   "source": [
    "### Matching Regex Objects\n",
    "\n",
    "A Regex object’s __search() method__ searches the string it is passed for any matches to the regex.The search() method will return __None__ if the regex pattern is not found in the string.If the pattern is found, the search() method __returns a Match object__. Match objects have a __group() method__ that will return the actual matched text from the searched string."
   ]
  },
  {
   "cell_type": "code",
   "execution_count": 1,
   "metadata": {},
   "outputs": [
    {
     "name": "stdout",
     "output_type": "stream",
     "text": [
      "Phone number found: 451-456-3456\n"
     ]
    }
   ],
   "source": [
    "import re\n",
    "\n",
    "phoneNumRegex = re.compile(r'\\d\\d\\d-\\d\\d\\d-\\d\\d\\d\\d')\n",
    "mo = phoneNumRegex.search('My number is: 451-456-3456.')\n",
    "print('Phone number found: ' + mo.group())"
   ]
  },
  {
   "cell_type": "markdown",
   "metadata": {},
   "source": [
    "#### Explanation \n",
    "\n",
    "we pass our desired pattern to __re.compile()__ and store the resulting Regex object in phoneNumRegex.Then we call __search()__ on phoneNumRegex and pass search() the string we want to search for a match.The result of the search gets stored in the variable __mo__.In this example, we know that our pattern will be found in the string, so we know that a Match object will be returned.Knowing that __mo__ contains a Match object and not the null value None, we can call __group()__ on __mo__ to return the match.Writing __mo.group()__ inside our print statement displays the whole match, 415-555-4242."
   ]
  },
  {
   "cell_type": "markdown",
   "metadata": {},
   "source": [
    "### Review of Regular Expression Matching\n",
    "\n",
    "While there are several steps to using regular expressions in Python, each step is fairly simple."
   ]
  },
  {
   "cell_type": "markdown",
   "metadata": {},
   "source": [
    "1. Import the regex module with import re.\n",
    "\n",
    "2. Create a Regex object with the re.compile() function. (Remember to use a raw string.)\n",
    "\n",
    "3. Pass the string you want to search into the Regex object’s search() method.This returns a Match object.\n",
    "\n",
    "4. Call the Match object’s group() method to return a string of the actual matched text."
   ]
  },
  {
   "cell_type": "code",
   "execution_count": null,
   "metadata": {},
   "outputs": [],
   "source": []
  }
 ],
 "metadata": {
  "kernelspec": {
   "display_name": "Python 3",
   "language": "python",
   "name": "python3"
  },
  "language_info": {
   "codemirror_mode": {
    "name": "ipython",
    "version": 3
   },
   "file_extension": ".py",
   "mimetype": "text/x-python",
   "name": "python",
   "nbconvert_exporter": "python",
   "pygments_lexer": "ipython3",
   "version": "3.6.8"
  }
 },
 "nbformat": 4,
 "nbformat_minor": 2
}
