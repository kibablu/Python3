{
 "cells": [
  {
   "cell_type": "code",
   "execution_count": 1,
   "metadata": {},
   "outputs": [
    {
     "data": {
      "text/plain": [
       "True"
      ]
     },
     "execution_count": 1,
     "metadata": {},
     "output_type": "execute_result"
    }
   ],
   "source": [
    "eggs = True\n",
    "eggs"
   ]
  },
  {
   "cell_type": "code",
   "execution_count": 12,
   "metadata": {},
   "outputs": [
    {
     "data": {
      "text/plain": [
       "False"
      ]
     },
     "execution_count": 12,
     "metadata": {},
     "output_type": "execute_result"
    }
   ],
   "source": [
    "True != False\n",
    "34 == '34' # Note that an integer or floating-point value will always be unequal to a string value."
   ]
  },
  {
   "cell_type": "markdown",
   "metadata": {},
   "source": [
    "## Binary Boolean Operators\n",
    "The **and** operator evaluates an expression to <font color=gree>True</font> if both Boolean values are <font color=gree>True</font>; otherwise, it evaluates to <font color=gree>False</font>."
   ]
  },
  {
   "cell_type": "code",
   "execution_count": 14,
   "metadata": {},
   "outputs": [
    {
     "data": {
      "text/plain": [
       "True"
      ]
     },
     "execution_count": 14,
     "metadata": {},
     "output_type": "execute_result"
    }
   ],
   "source": [
    "True and True"
   ]
  },
  {
   "cell_type": "code",
   "execution_count": 15,
   "metadata": {},
   "outputs": [
    {
     "data": {
      "text/plain": [
       "False"
      ]
     },
     "execution_count": 15,
     "metadata": {},
     "output_type": "execute_result"
    }
   ],
   "source": [
    "True and False"
   ]
  },
  {
   "cell_type": "code",
   "execution_count": 16,
   "metadata": {},
   "outputs": [
    {
     "data": {
      "text/plain": [
       "False"
      ]
     },
     "execution_count": 16,
     "metadata": {},
     "output_type": "execute_result"
    }
   ],
   "source": [
    "False and False"
   ]
  },
  {
   "cell_type": "code",
   "execution_count": 17,
   "metadata": {},
   "outputs": [
    {
     "data": {
      "text/plain": [
       "False"
      ]
     },
     "execution_count": 17,
     "metadata": {},
     "output_type": "execute_result"
    }
   ],
   "source": [
    "False and True"
   ]
  },
  {
   "cell_type": "code",
   "execution_count": 24,
   "metadata": {},
   "outputs": [
    {
     "data": {
      "text/plain": [
       "True"
      ]
     },
     "execution_count": 24,
     "metadata": {},
     "output_type": "execute_result"
    }
   ],
   "source": [
    "(5 < 7) and (8 < 19)"
   ]
  },
  {
   "cell_type": "markdown",
   "metadata": {},
   "source": [
    ">The **or** operator evaluates an expression to <font color=gree>True</font> if either of the two Boolean values is <font color=gree>True</font>. If both are <font color=gree>False</font>, it evaluates to <font color=gree>False</font>."
   ]
  },
  {
   "cell_type": "code",
   "execution_count": 18,
   "metadata": {},
   "outputs": [
    {
     "data": {
      "text/plain": [
       "True"
      ]
     },
     "execution_count": 18,
     "metadata": {},
     "output_type": "execute_result"
    }
   ],
   "source": [
    "True or True"
   ]
  },
  {
   "cell_type": "code",
   "execution_count": 19,
   "metadata": {},
   "outputs": [
    {
     "data": {
      "text/plain": [
       "True"
      ]
     },
     "execution_count": 19,
     "metadata": {},
     "output_type": "execute_result"
    }
   ],
   "source": [
    "True or False"
   ]
  },
  {
   "cell_type": "code",
   "execution_count": 20,
   "metadata": {},
   "outputs": [
    {
     "data": {
      "text/plain": [
       "False"
      ]
     },
     "execution_count": 20,
     "metadata": {},
     "output_type": "execute_result"
    }
   ],
   "source": [
    "False or False"
   ]
  },
  {
   "cell_type": "code",
   "execution_count": 21,
   "metadata": {},
   "outputs": [
    {
     "data": {
      "text/plain": [
       "True"
      ]
     },
     "execution_count": 21,
     "metadata": {},
     "output_type": "execute_result"
    }
   ],
   "source": [
    "False or True"
   ]
  },
  {
   "cell_type": "code",
   "execution_count": 25,
   "metadata": {},
   "outputs": [
    {
     "data": {
      "text/plain": [
       "True"
      ]
     },
     "execution_count": 25,
     "metadata": {},
     "output_type": "execute_result"
    }
   ],
   "source": [
    "(26 == 26) or (3 != 3)"
   ]
  },
  {
   "cell_type": "markdown",
   "metadata": {},
   "source": [
    ">The computer will evaluate the left expression first, and then it will evaluate the right expression.When it knows the Boolean value for each, it will then evaluate the whole expression down to one Boolean value."
   ]
  },
  {
   "cell_type": "markdown",
   "metadata": {},
   "source": [
    "The **not** Operator operates on only one Boolean value(or expression).The **not** operator simply evaluates to the opposite Boolean value."
   ]
  },
  {
   "cell_type": "code",
   "execution_count": 22,
   "metadata": {},
   "outputs": [
    {
     "data": {
      "text/plain": [
       "False"
      ]
     },
     "execution_count": 22,
     "metadata": {},
     "output_type": "execute_result"
    }
   ],
   "source": [
    "not True"
   ]
  },
  {
   "cell_type": "code",
   "execution_count": 23,
   "metadata": {},
   "outputs": [
    {
     "data": {
      "text/plain": [
       "True"
      ]
     },
     "execution_count": 23,
     "metadata": {},
     "output_type": "execute_result"
    }
   ],
   "source": [
    "not False"
   ]
  },
  {
   "cell_type": "code",
   "execution_count": 27,
   "metadata": {},
   "outputs": [
    {
     "data": {
      "text/plain": [
       "True"
      ]
     },
     "execution_count": 27,
     "metadata": {},
     "output_type": "execute_result"
    }
   ],
   "source": [
    "3 != 4 and not 45 == 45 or 34 < 65"
   ]
  },
  {
   "cell_type": "markdown",
   "metadata": {},
   "source": [
    ">After any math and comparison operators evaluate, Python evaluates the **not** operators first, then the **and** operators, and then the **or** operators."
   ]
  },
  {
   "cell_type": "markdown",
   "metadata": {},
   "source": [
    "## Elements of Flow Control\n",
    "Flow control statements often start with a part called the condition, and all are followed by a block of code called the clause.\n",
    "\n",
    "### Conditions\n",
    "Conditions always evaluate down to a Boolean value, True or False.A flow control statement decides what to do based on whether its condition is True or False , and almost every flow control statement uses a condition.\n",
    "\n",
    "### Blocks of Code\n",
    "You can tell when a block begins and ends from the indentation of the lines of code.There are three rules for blocks.\n",
    "1. Blocks begin when the indentation increases.\n",
    "2. Blocks can contain other blocks.\n",
    "3. Blocks end when the indentation decreases to zero or to a containing block’s indentation."
   ]
  },
  {
   "cell_type": "code",
   "execution_count": 30,
   "metadata": {},
   "outputs": [
    {
     "ename": "NameError",
     "evalue": "name 'name' is not defined",
     "output_type": "error",
     "traceback": [
      "\u001b[0;31m---------------------------------------------------------------------------\u001b[0m",
      "\u001b[0;31mNameError\u001b[0m                                 Traceback (most recent call last)",
      "\u001b[0;32m<ipython-input-30-a1d04d30d120>\u001b[0m in \u001b[0;36m<module>\u001b[0;34m\u001b[0m\n\u001b[0;32m----> 1\u001b[0;31m \u001b[0;32mif\u001b[0m \u001b[0mname\u001b[0m \u001b[0;34m==\u001b[0m \u001b[0;34m'President'\u001b[0m\u001b[0;34m:\u001b[0m\u001b[0;34m\u001b[0m\u001b[0;34m\u001b[0m\u001b[0m\n\u001b[0m\u001b[1;32m      2\u001b[0m     \u001b[0mprint\u001b[0m\u001b[0;34m(\u001b[0m\u001b[0;34m'Hello President'\u001b[0m\u001b[0;34m)\u001b[0m\u001b[0;34m\u001b[0m\u001b[0;34m\u001b[0m\u001b[0m\n\u001b[1;32m      3\u001b[0m \u001b[0;32mif\u001b[0m \u001b[0mpassword\u001b[0m \u001b[0;34m==\u001b[0m \u001b[0;34m(\u001b[0m\u001b[0;34m'abcde123'\u001b[0m\u001b[0;34m)\u001b[0m\u001b[0;34m:\u001b[0m\u001b[0;34m\u001b[0m\u001b[0;34m\u001b[0m\u001b[0m\n\u001b[1;32m      4\u001b[0m     \u001b[0mprint\u001b[0m\u001b[0;34m(\u001b[0m\u001b[0;34m'Idiot that a weak password'\u001b[0m\u001b[0;34m)\u001b[0m\u001b[0;34m\u001b[0m\u001b[0;34m\u001b[0m\u001b[0m\n\u001b[1;32m      5\u001b[0m \u001b[0;32melse\u001b[0m\u001b[0;34m:\u001b[0m\u001b[0;34m\u001b[0m\u001b[0;34m\u001b[0m\u001b[0m\n",
      "\u001b[0;31mNameError\u001b[0m: name 'name' is not defined"
     ]
    }
   ],
   "source": [
    "# an example of flow control \n",
    "# we haven't defined variables that's you see some errors\n",
    "\n",
    "if name == 'President': # condition\n",
    "    print('Hello President') # block of code\n",
    "if password == ('abcde123'):\n",
    "    print('Idiot that a weak password')\n",
    "else:\n",
    "    print('Choose another password!')"
   ]
  },
  {
   "cell_type": "markdown",
   "metadata": {},
   "source": [
    "## Flow Control Statements\n",
    "\n",
    "### if Statements\n",
    "An **if** statement’s clause (that is, the block following the if statement) will execute if the statement’s condition is <font color=green>True</font>.The clause is skipped if the condition is <font color=green>False</font>\n",
    "An if statement could be read as, “If this condition is true, execute the code in the clause.\n",
    "\n",
    "An **if** statement consists of the following:\n",
    "1. The **if** keyword\n",
    "2. A condition (that is, an expression that evaluates to <font color=green>True</font> or <font color=green>False</font> )\n",
    "3. A colon\n",
    "4. Starting on the next line, an indented block of code (called the **if** clause)"
   ]
  },
  {
   "cell_type": "code",
   "execution_count": 1,
   "metadata": {},
   "outputs": [
    {
     "name": "stdout",
     "output_type": "stream",
     "text": [
      "Hi, Mr President.\n"
     ]
    }
   ],
   "source": [
    "name = 'President'\n",
    "if name == 'President': # condition\n",
    "    print('Hi, Mr President.') # clause"
   ]
  },
  {
   "cell_type": "markdown",
   "metadata": {},
   "source": [
    "### else Statements\n",
    "The **else** clause is executed only when the if statement’s condition is <font color=green>False</font>.\n",
    "If this condition is true, execute this code.Or else, execute that code.An **else** statement doesn’t have a condition.\n",
    "\n",
    "An **else** statement consists of the following:\n",
    "1. The **else** keyword\n",
    "2. A colon\n",
    "3. Starting on the next line, an indented block of code (called the **else** clause)"
   ]
  },
  {
   "cell_type": "code",
   "execution_count": 5,
   "metadata": {},
   "outputs": [
    {
     "name": "stdout",
     "output_type": "stream",
     "text": [
      "Hello, stranger\n"
     ]
    }
   ],
   "source": [
    "name = 'President'\n",
    "if name == 'Vice President':\n",
    "    print('Hi, Mr President')\n",
    "else:\n",
    "    print('Hello, stranger')"
   ]
  },
  {
   "cell_type": "markdown",
   "metadata": {},
   "source": [
    "### elif Statements\n",
    "The **elif** statement is an **“else if”** statement that always follows an **if** or another **elif** statement.It provides another condition that is checked only if any of the previous conditions were <font color=green>False</font>.\n",
    "\n",
    "An **elif** statement always consists of the following:\n",
    "1. The **elif** keyword\n",
    "2. A condition (that is, an expression that evaluates to <font color=green>True</font> or <font color=green>False</font>)\n",
    "3. A colon\n",
    "4. Starting on the next line, an indented block of code (called the **elif** clause)"
   ]
  },
  {
   "cell_type": "code",
   "execution_count": 8,
   "metadata": {},
   "outputs": [
    {
     "name": "stdout",
     "output_type": "stream",
     "text": [
      "You're good for the job\n"
     ]
    }
   ],
   "source": [
    "name = 'President'\n",
    "age = 37\n",
    "\n",
    "if name == 'Vice President':\n",
    "    print('Hi, Mr President')\n",
    "elif age > 35: # condition\n",
    "    print(\"You're good for the job\") # clause\n",
    "else:\n",
    "    print('Hello, stranger')"
   ]
  },
  {
   "cell_type": "markdown",
   "metadata": {},
   "source": [
    "The **elif** clause executes if age > 35 is <font color=green>True</font> and name == 'President' is <font color=green>False</font>.However, if both of the conditions are <font color=green>False</font>, then both of the clauses are skipped and **else** clause will be executed.\n",
    "When there is a chain of **elif** statements, only one or none of the clauses will be executed.Once one of the statements’ conditions is found to be <font color=green>True</font> , the rest of the **elif** clauses are automatically skipped."
   ]
  },
  {
   "cell_type": "markdown",
   "metadata": {},
   "source": [
    "### while Loop Statements\n",
    "The code in a **while** clause will be executed as long as the **while** statement’s condition is <font color=green>True</font>.\n",
    "\n",
    "A **while** statement always consists of the following:\n",
    "1. The **while** keyword\n",
    "2. A condition (that is, an expression that evaluates to <font color=green>True</font>or <font color=green>False</font>)\n",
    "3. A colon\n",
    "4. Starting on the next line, an indented block of code (called the while clause)\n",
    "\n",
    "You can see that a **while** statement looks similar to an **if** statement. The difference is in how they behave. At the end of an **if** clause, the program execution continues after the **if** statement. But at the end of a **while** clause, the program execution jumps back to the start of the while statement. The **while** clause is often called the **while loop** or just the loop."
   ]
  },
  {
   "cell_type": "code",
   "execution_count": 5,
   "metadata": {},
   "outputs": [
    {
     "name": "stdout",
     "output_type": "stream",
     "text": [
      "Hello lovely there!\n"
     ]
    }
   ],
   "source": [
    "# if statement\n",
    "cat = 0\n",
    "if cat < 5:\n",
    "    print(\"Hello lovely there!\")\n",
    "    cat = cat + 1"
   ]
  },
  {
   "cell_type": "code",
   "execution_count": 6,
   "metadata": {},
   "outputs": [
    {
     "name": "stdout",
     "output_type": "stream",
     "text": [
      "Hello lovely there!\n",
      "Hello lovely there!\n",
      "Hello lovely there!\n",
      "Hello lovely there!\n",
      "Hello lovely there!\n"
     ]
    }
   ],
   "source": [
    "# while loop\n",
    "cat = 0\n",
    "while cat < 5: # cat less than 5 it will print out until cat equal to 5 which is False\n",
    "    print(\"Hello lovely there!\")\n",
    "    cat = cat + 1 # increment"
   ]
  },
  {
   "cell_type": "markdown",
   "metadata": {},
   "source": [
    "In the **while loop**, the condition is always checked at the start of each iteration (that is, each time the loop is executed). If the condition is <font color=green>True</font>, then the clause is executed, and afterward, the condition is checked again. The first time the condition is found to be <font color=green>False</font>, the **while** clause is skipped."
   ]
  },
  {
   "cell_type": "code",
   "execution_count": 7,
   "metadata": {},
   "outputs": [
    {
     "name": "stdout",
     "output_type": "stream",
     "text": [
      "Enter your name you Idiot!\n",
      "President\n",
      "Enter your name you Idiot!\n",
      "Awesome\n",
      "Enter your name you Idiot!\n",
      "Aha\n",
      "Enter your name you Idiot!\n",
      "It works\n",
      "Enter your name you Idiot!\n",
      "Your name\n",
      "Thank you\n"
     ]
    }
   ],
   "source": [
    "name = \"\"\n",
    "while name != \"Your name\":\n",
    "    print(\"Enter your name you Idiot!\")\n",
    "    name = input()\n",
    "print(\"Thank you\")"
   ]
  },
  {
   "cell_type": "markdown",
   "metadata": {},
   "source": [
    "### break statements\n",
    "If the execution reaches a **break** statement, it immediately exits the **while** loop’s clause.In code, a break statement simply contains the **break** keyword."
   ]
  },
  {
   "cell_type": "code",
   "execution_count": 3,
   "metadata": {},
   "outputs": [
    {
     "name": "stdout",
     "output_type": "stream",
     "text": [
      "Please type your name.\n",
      "Big Head\n",
      "Please type your name.\n",
      "Jin Yang\n",
      "Please type your name.\n",
      "your name\n",
      "Thank you\n"
     ]
    }
   ],
   "source": [
    "while True: # infinite loop, always True\n",
    "    print(\"Please type your name.\")\n",
    "    name = input()\n",
    "    if name == \"your name\":\n",
    "        break\n",
    "print(\"Thank you\")"
   ]
  },
  {
   "cell_type": "markdown",
   "metadata": {},
   "source": [
    "The program enters an infinite loop **(while True)**, ask a user to enter their name, then it goes to an **if** statement to checks if the name is equal to \"your name\", if it is equal then **break** keyword break the loop and executes \"Thank you\".\n",
    "If name is not equal to \"your name\" it goes back to the infinite loop again."
   ]
  },
  {
   "cell_type": "markdown",
   "metadata": {},
   "source": [
    "### continue statements\n",
    "When the program execution reaches a **continue** statement, the program execution immediately jumps back to the start of the loop and reevaluates the loop’s condition."
   ]
  },
  {
   "cell_type": "code",
   "execution_count": 3,
   "metadata": {},
   "outputs": [
    {
     "name": "stdout",
     "output_type": "stream",
     "text": [
      "Who are you?\n",
      "Erick\n",
      "Who are you?\n",
      "Jin Yang\n",
      "Hello, Jin Yang. What is your Password?\n",
      "Amnotbigfatnow\n",
      "Access granted\n"
     ]
    }
   ],
   "source": [
    "while True:\n",
    "    print(\"Who are you?\")\n",
    "    name = input()\n",
    "    if name != 'Jin Yang':\n",
    "        continue # will go back to the start of the loop if name is not equal to Jin Yang\n",
    "    print(\"Hello, Jin Yang. What is your Password?\")\n",
    "    password = input()\n",
    "    if password == 'Amnotbigfatnow':\n",
    "        break\n",
    "print(\"Access granted\")"
   ]
  },
  {
   "cell_type": "markdown",
   "metadata": {},
   "source": [
    "### for Loops and the range() Function\n",
    "\n",
    "Execute a block of code only a certain number of times.You can do this with a **for** loop statement and the **range()** function. example *for i in range(5):*\n",
    "\n",
    "It includes the following:\n",
    "\n",
    "1. The **for** keyword\n",
    "2. A variable name\n",
    "3. The **in** keyword\n",
    "4. A call to the **range()** method with up to three integers passed to it\n",
    "5. A colon\n",
    "6. Starting on the next line, an indented block of code (called the for clause)"
   ]
  },
  {
   "cell_type": "code",
   "execution_count": 4,
   "metadata": {},
   "outputs": [
    {
     "name": "stdout",
     "output_type": "stream",
     "text": [
      "My name is\n",
      "Jin Yang five times(0)\n",
      "Jin Yang five times(1)\n",
      "Jin Yang five times(2)\n",
      "Jin Yang five times(3)\n",
      "Jin Yang five times(4)\n",
      "Jin Yang five times(5)\n"
     ]
    }
   ],
   "source": [
    "print(\"My name is\")\n",
    "for i in range(6): # i is set to 0\n",
    "    print(\"Jin Yang five times(\" + str(i) + \")\")\n",
    "    \n",
    "# The variable i will go up to, but will not include, the integer passed to range() ."
   ]
  },
  {
   "cell_type": "markdown",
   "metadata": {},
   "source": [
    "You can use **break** and **continue** statements inside *for loops* as well. The **continue** statement will continue to the next value of the for loop’s counter, as if the program execution had reached the end of the loop and returned to the start."
   ]
  },
  {
   "cell_type": "code",
   "execution_count": 9,
   "metadata": {},
   "outputs": [
    {
     "name": "stdout",
     "output_type": "stream",
     "text": [
      "5050\n"
     ]
    }
   ],
   "source": [
    "total = 0\n",
    "for num in range(101):\n",
    "    total = total + num\n",
    "print(total)"
   ]
  },
  {
   "cell_type": "code",
   "execution_count": 1,
   "metadata": {},
   "outputs": [
    {
     "name": "stdout",
     "output_type": "stream",
     "text": [
      "My name is\n",
      "Big Head Five Times (0)\n",
      "Big Head Five Times (1)\n",
      "Big Head Five Times (2)\n",
      "Big Head Five Times (3)\n",
      "Big Head Five Times (4)\n"
     ]
    }
   ],
   "source": [
    "print(\"My name is\")\n",
    "i = 0\n",
    "while i < 5:\n",
    "    print(\"Big Head Five Times (\" + str(i) + \")\")\n",
    "    i = i + 1"
   ]
  },
  {
   "cell_type": "markdown",
   "metadata": {},
   "source": [
    "### The Starting, Stopping, and Stepping Arguments to range()\n",
    "\n",
    "This lets you change the integer passed to **range()** to follow any sequence of integers, including starting at a number other than zero.\n",
    "The first argument will be where the for loop’s variable starts, and the second argument will be up to, but not including, the number to stop at."
   ]
  },
  {
   "cell_type": "code",
   "execution_count": 4,
   "metadata": {},
   "outputs": [
    {
     "name": "stdout",
     "output_type": "stream",
     "text": [
      "5\n",
      "6\n",
      "7\n",
      "8\n",
      "9\n"
     ]
    }
   ],
   "source": [
    "for i in range(5, 10):\n",
    "    print(i)"
   ]
  },
  {
   "cell_type": "markdown",
   "metadata": {},
   "source": [
    "The **range()** function can also be called with three arguments. The first two arguments will be the start and stop values, and the third will be the **step argument**. The step is the amount that the variable is increased by after each iteration."
   ]
  },
  {
   "cell_type": "code",
   "execution_count": 5,
   "metadata": {},
   "outputs": [
    {
     "name": "stdout",
     "output_type": "stream",
     "text": [
      "0\n",
      "2\n",
      "4\n",
      "6\n",
      "8\n"
     ]
    }
   ],
   "source": [
    "for i in range(0, 10, 2):\n",
    "    print(i)"
   ]
  },
  {
   "cell_type": "code",
   "execution_count": 7,
   "metadata": {},
   "outputs": [
    {
     "name": "stdout",
     "output_type": "stream",
     "text": [
      "4\n",
      "3\n",
      "2\n",
      "1\n",
      "0\n"
     ]
    }
   ],
   "source": [
    "for i in range(4, -1, -1):\n",
    "    print(i)"
   ]
  },
  {
   "cell_type": "markdown",
   "metadata": {},
   "source": [
    "### Importing Modules\n",
    "\n",
    "Each module is a Python program that contains a related group of functions that can be embedded in your programs.\n",
    "\n",
    "import statement consists of the following:\n",
    "\n",
    "1. The import keyword\n",
    "2. The name of the module\n",
    "3. Optionally, more module names, as long as they are separated by commas *eg import math, os, random*"
   ]
  },
  {
   "cell_type": "code",
   "execution_count": 9,
   "metadata": {},
   "outputs": [
    {
     "name": "stdout",
     "output_type": "stream",
     "text": [
      "6\n",
      "8\n",
      "5\n",
      "10\n",
      "5\n"
     ]
    }
   ],
   "source": [
    "import random # importing module random\n",
    "for i in range(5):\n",
    "    print(random.randint(1, 10)) # calling the randint function inside the random module"
   ]
  },
  {
   "cell_type": "markdown",
   "metadata": {},
   "source": [
    "### from import Statements\n",
    "An alternative form of the import statement is composed of the from keyword, followed by the module name, the import keyword, and a star (all); for example, *from random import **."
   ]
  },
  {
   "cell_type": "code",
   "execution_count": 12,
   "metadata": {},
   "outputs": [
    {
     "name": "stdout",
     "output_type": "stream",
     "text": [
      "Type exit to exit\n",
      "exit\n"
     ]
    },
    {
     "ename": "SystemExit",
     "evalue": "",
     "output_type": "error",
     "traceback": [
      "An exception has occurred, use %tb to see the full traceback.\n",
      "\u001b[0;31mSystemExit\u001b[0m\n"
     ]
    }
   ],
   "source": [
    "import sys\n",
    "\n",
    "while True:\n",
    "    print(\"Type exit to exit\")\n",
    "    response = input()\n",
    "    if response == 'exit':\n",
    "        sys.exit() # calling the exit function inside the system module\n",
    "    print(\"You typed \" + response + \".\")"
   ]
  },
  {
   "cell_type": "code",
   "execution_count": 6,
   "metadata": {},
   "outputs": [
    {
     "name": "stdout",
     "output_type": "stream",
     "text": [
      "input a value between 1 to 10\n",
      "5\n",
      "Greetings!\n"
     ]
    }
   ],
   "source": [
    "# Excercise number 9\n",
    "\n",
    "print (\"input a value between 1 to 10\")\n",
    "response = input()\n",
    "if response == \"1\":\n",
    "    print(\"spam\")\n",
    "elif response == \"2\":\n",
    "    print(\"Howdy\")\n",
    "else:\n",
    "    print(\"Greetings!\")"
   ]
  },
  {
   "cell_type": "code",
   "execution_count": 8,
   "metadata": {},
   "outputs": [
    {
     "name": "stdout",
     "output_type": "stream",
     "text": [
      "1\n",
      "2\n",
      "3\n",
      "4\n",
      "5\n",
      "6\n",
      "7\n",
      "8\n",
      "9\n",
      "10\n"
     ]
    }
   ],
   "source": [
    "# Excercise number 13\n",
    "for i in range (1, 11):\n",
    "    print(i)"
   ]
  },
  {
   "cell_type": "code",
   "execution_count": 18,
   "metadata": {},
   "outputs": [
    {
     "name": "stdout",
     "output_type": "stream",
     "text": [
      "1\n",
      "2\n",
      "3\n",
      "4\n",
      "5\n",
      "6\n",
      "7\n",
      "8\n",
      "9\n",
      "10\n"
     ]
    }
   ],
   "source": [
    "# Excercise number 13\n",
    "i = 0\n",
    "while i < 10:\n",
    "    i = i + 1\n",
    "    print(i)\n",
    "    if i == 10:\n",
    "        break\n",
    "    "
   ]
  }
 ],
 "metadata": {
  "kernelspec": {
   "display_name": "Python 3",
   "language": "python",
   "name": "python3"
  },
  "language_info": {
   "codemirror_mode": {
    "name": "ipython",
    "version": 3
   },
   "file_extension": ".py",
   "mimetype": "text/x-python",
   "name": "python",
   "nbconvert_exporter": "python",
   "pygments_lexer": "ipython3",
   "version": "3.6.8"
  }
 },
 "nbformat": 4,
 "nbformat_minor": 2
}
