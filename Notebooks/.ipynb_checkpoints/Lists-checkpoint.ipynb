{
 "cells": [
  {
   "cell_type": "markdown",
   "metadata": {},
   "source": [
    "Methods, which are functions that are tied to values of a certain data type.\n",
    "\n",
    "### The List Data Type\n",
    "\n",
    "A list is a value that contains multiple values in an ordered sequence. The term list value refers to the list itself (which is a value that can be stored in a variable or passed to a function like any other value), not the values inside the list value. A list value looks like this: **['cat', 'bat', 'rat', 'elephant']**.\n",
    "\n",
    "Values inside the list are also called items. Items are separated with commas (that is, they are comma-delimited)."
   ]
  },
  {
   "cell_type": "code",
   "execution_count": 1,
   "metadata": {},
   "outputs": [
    {
     "data": {
      "text/plain": [
       "[1, 2, 3]"
      ]
     },
     "execution_count": 1,
     "metadata": {},
     "output_type": "execute_result"
    }
   ],
   "source": [
    "[1, 2, 3]"
   ]
  },
  {
   "cell_type": "code",
   "execution_count": 2,
   "metadata": {},
   "outputs": [
    {
     "data": {
      "text/plain": [
       "['Canada', 'Brazil', 'Egypt', 'China', 'Russia']"
      ]
     },
     "execution_count": 2,
     "metadata": {},
     "output_type": "execute_result"
    }
   ],
   "source": [
    "['Canada', 'Brazil', 'Egypt', 'China', 'Russia']"
   ]
  },
  {
   "cell_type": "code",
   "execution_count": 3,
   "metadata": {},
   "outputs": [
    {
     "data": {
      "text/plain": [
       "['Jian Yang', 3.142, True, None, 'Dinesh']"
      ]
     },
     "execution_count": 3,
     "metadata": {},
     "output_type": "execute_result"
    }
   ],
   "source": [
    "['Jian Yang', 3.142, True, None, 'Dinesh']"
   ]
  },
  {
   "cell_type": "code",
   "execution_count": 4,
   "metadata": {},
   "outputs": [
    {
     "data": {
      "text/plain": [
       "['Singapore', 'Rwanda', 'Spain', 'Italy']"
      ]
     },
     "execution_count": 4,
     "metadata": {},
     "output_type": "execute_result"
    }
   ],
   "source": [
    "countries = ['Singapore', 'Rwanda', 'Spain', 'Italy']\n",
    "countries"
   ]
  },
  {
   "cell_type": "markdown",
   "metadata": {},
   "source": [
    "The countries variable is still assigned only one value: the list value. But the list value itself contains other values. The value [ ] is an empty list that contains no values, similar to '' , the empty string."
   ]
  },
  {
   "cell_type": "markdown",
   "metadata": {},
   "source": [
    "### Getting Individual Values in a List with Indexes\n",
    "\n",
    "The integer inside the square brackets that follows the list is called an index. The first value in the list is at\n",
    "index 0,the second value is at index 1,the third value is at index 2,the third value is at index 2,and,so on."
   ]
  },
  {
   "cell_type": "code",
   "execution_count": 10,
   "metadata": {},
   "outputs": [
    {
     "ename": "IndexError",
     "evalue": "list index out of range",
     "output_type": "error",
     "traceback": [
      "\u001b[0;31m---------------------------------------------------------------------------\u001b[0m",
      "\u001b[0;31mIndexError\u001b[0m                                Traceback (most recent call last)",
      "\u001b[0;32m<ipython-input-10-e19b50b194fd>\u001b[0m in \u001b[0;36m<module>\u001b[0;34m\u001b[0m\n\u001b[1;32m      1\u001b[0m \u001b[0mcountries\u001b[0m \u001b[0;34m=\u001b[0m \u001b[0;34m[\u001b[0m\u001b[0;34m'Mexico'\u001b[0m\u001b[0;34m,\u001b[0m \u001b[0;34m'Germany'\u001b[0m\u001b[0;34m,\u001b[0m \u001b[0;34m'Nigeria'\u001b[0m\u001b[0;34m,\u001b[0m \u001b[0;34m'Senegal'\u001b[0m\u001b[0;34m,\u001b[0m \u001b[0;34m'Indonesia'\u001b[0m\u001b[0;34m]\u001b[0m\u001b[0;34m\u001b[0m\u001b[0;34m\u001b[0m\u001b[0m\n\u001b[1;32m      2\u001b[0m \u001b[0mcountries\u001b[0m\u001b[0;34m[\u001b[0m\u001b[0;36m3\u001b[0m\u001b[0;34m]\u001b[0m\u001b[0;34m\u001b[0m\u001b[0;34m\u001b[0m\u001b[0m\n\u001b[0;32m----> 3\u001b[0;31m \u001b[0mcountries\u001b[0m\u001b[0;34m[\u001b[0m\u001b[0;36m6\u001b[0m\u001b[0;34m]\u001b[0m\u001b[0;34m\u001b[0m\u001b[0;34m\u001b[0m\u001b[0m\n\u001b[0m\u001b[1;32m      4\u001b[0m \u001b[0;34m'Hello '\u001b[0m \u001b[0;34m+\u001b[0m \u001b[0mcountries\u001b[0m\u001b[0;34m[\u001b[0m\u001b[0;36m1\u001b[0m\u001b[0;34m]\u001b[0m\u001b[0;34m\u001b[0m\u001b[0;34m\u001b[0m\u001b[0m\n",
      "\u001b[0;31mIndexError\u001b[0m: list index out of range"
     ]
    }
   ],
   "source": [
    "countries = ['Mexico', 'Germany', 'Nigeria', 'Senegal', 'Indonesia']\n",
    "countries[3]\n",
    "countries[6]\n",
    "'Hello ' + countries[1]"
   ]
  },
  {
   "cell_type": "markdown",
   "metadata": {},
   "source": [
    "Indexes can be only integer values, not floats."
   ]
  },
  {
   "cell_type": "code",
   "execution_count": 11,
   "metadata": {},
   "outputs": [
    {
     "ename": "TypeError",
     "evalue": "list indices must be integers or slices, not float",
     "output_type": "error",
     "traceback": [
      "\u001b[0;31m---------------------------------------------------------------------------\u001b[0m",
      "\u001b[0;31mTypeError\u001b[0m                                 Traceback (most recent call last)",
      "\u001b[0;32m<ipython-input-11-375b7fbde5b4>\u001b[0m in \u001b[0;36m<module>\u001b[0;34m\u001b[0m\n\u001b[1;32m      1\u001b[0m \u001b[0mcountries\u001b[0m \u001b[0;34m=\u001b[0m \u001b[0;34m[\u001b[0m\u001b[0;34m'Mexico'\u001b[0m\u001b[0;34m,\u001b[0m \u001b[0;34m'Germany'\u001b[0m\u001b[0;34m,\u001b[0m \u001b[0;34m'Nigeria'\u001b[0m\u001b[0;34m,\u001b[0m \u001b[0;34m'Senegal'\u001b[0m\u001b[0;34m,\u001b[0m \u001b[0;34m'Indonesia'\u001b[0m\u001b[0;34m,\u001b[0m \u001b[0;34m'India'\u001b[0m\u001b[0;34m]\u001b[0m\u001b[0;34m\u001b[0m\u001b[0;34m\u001b[0m\u001b[0m\n\u001b[0;32m----> 2\u001b[0;31m \u001b[0mcountries\u001b[0m\u001b[0;34m[\u001b[0m\u001b[0;36m2.0\u001b[0m\u001b[0;34m]\u001b[0m\u001b[0;34m\u001b[0m\u001b[0;34m\u001b[0m\u001b[0m\n\u001b[0m",
      "\u001b[0;31mTypeError\u001b[0m: list indices must be integers or slices, not float"
     ]
    }
   ],
   "source": [
    "countries = ['Mexico', 'Germany', 'Nigeria', 'Senegal', 'Indonesia', 'India']\n",
    "countries[2.0]"
   ]
  },
  {
   "cell_type": "markdown",
   "metadata": {},
   "source": [
    "Lists can also contain other list values. The values in these lists of lists can be accessed using multiple indexes. The first index dictates which list value to use, and the second indicates the value within the list value."
   ]
  },
  {
   "cell_type": "code",
   "execution_count": 20,
   "metadata": {},
   "outputs": [
    {
     "data": {
      "text/plain": [
       "'Jarkata'"
      ]
     },
     "execution_count": 20,
     "metadata": {},
     "output_type": "execute_result"
    }
   ],
   "source": [
    "countries = [['Pakistani', 'Germany', 'Nigeria', 'Senegal', 'Indonesia', 'India'], \n",
    "             ['Karachi', 'Berlin', 'Lagos', 'Dakar', 'Jarkata', 'Delhi']]\n",
    "countries[0]\n",
    "countries[0][3]\n",
    "countries[1][4]"
   ]
  },
  {
   "cell_type": "markdown",
   "metadata": {},
   "source": [
    "### Negative Indexes\n",
    "\n",
    "While indexes start at **0** and go up, you can also use negative integers for the index. The integer value **-1** refers to the last index in a list, the value **-2** refers to the second-to-last index in a list, and so on."
   ]
  },
  {
   "cell_type": "code",
   "execution_count": 24,
   "metadata": {},
   "outputs": [
    {
     "data": {
      "text/plain": [
       "'Paris'"
      ]
     },
     "execution_count": 24,
     "metadata": {},
     "output_type": "execute_result"
    }
   ],
   "source": [
    "cities =['London', 'Cairo', 'New York', 'Paris', 'Manila', 'Rio dejenairo', 'San Francisco', 'Bay Area']\n",
    "cities[-1]\n",
    "cities[-5]"
   ]
  },
  {
   "cell_type": "markdown",
   "metadata": {},
   "source": [
    "### Getting Sublists with Slices\n",
    "\n",
    "Just as an index can get a single value from a list, a slice can get several values from a list, in the form of a new list. A slice is typed between square brackets, like an index, but it has two integers separated by a colon. Notice the difference between indexes and slices.\n",
    "1. cities[2] is a list with an index (one integer).\n",
    "2. cities[1:4] is a list with a slice (two integers).\n",
    "\n",
    "In a slice, the first integer is the index where the slice starts. The second integer is the index where the slice ends. A slice goes up to, but will not include, the value at the second index. A slice evaluates to a new list value. ie includes the first integer and -1 to the second integer"
   ]
  },
  {
   "cell_type": "code",
   "execution_count": 29,
   "metadata": {},
   "outputs": [
    {
     "data": {
      "text/plain": [
       "['New York', 'Paris']"
      ]
     },
     "execution_count": 29,
     "metadata": {},
     "output_type": "execute_result"
    }
   ],
   "source": [
    "cities =['London', 'Cairo', 'New York', 'Paris', 'Manila', 'Rio dejenairo', 'San Francisco', 'Bay Area']\n",
    "cities[0:-4]\n",
    "cities[2:4]"
   ]
  },
  {
   "cell_type": "markdown",
   "metadata": {},
   "source": [
    "As a shortcut, you can leave out one or both of the indexes on either side of the colon in the slice. Leaving out the first index is the same as using 0,or the beginning of the list. Leaving out the second index is the same as\n",
    "using the length of the list, which will slice to the end of the list."
   ]
  },
  {
   "cell_type": "code",
   "execution_count": 32,
   "metadata": {},
   "outputs": [
    {
     "data": {
      "text/plain": [
       "['London',\n",
       " 'Cairo',\n",
       " 'New York',\n",
       " 'Paris',\n",
       " 'Manila',\n",
       " 'Rio dejenairo',\n",
       " 'San Francisco',\n",
       " 'Bay Area']"
      ]
     },
     "execution_count": 32,
     "metadata": {},
     "output_type": "execute_result"
    }
   ],
   "source": [
    "cities =['London', 'Cairo', 'New York', 'Paris', 'Manila', 'Rio dejenairo', 'San Francisco', 'Bay Area']\n",
    "cities[:3]\n",
    "cities[2:]\n",
    "cities[:]"
   ]
  },
  {
   "cell_type": "markdown",
   "metadata": {},
   "source": [
    "### Getting a List’s Length with len( )\n",
    "The len( ) function will return the number of values that are in a list value passed to it, just like it can count the number of characters in a string value."
   ]
  },
  {
   "cell_type": "code",
   "execution_count": 33,
   "metadata": {},
   "outputs": [
    {
     "data": {
      "text/plain": [
       "8"
      ]
     },
     "execution_count": 33,
     "metadata": {},
     "output_type": "execute_result"
    }
   ],
   "source": [
    "cities =['London', 'Cairo', 'New York', 'Paris', 'Manila', 'Rio dejenairo', 'San Francisco', 'Bay Area']\n",
    "len(cities)"
   ]
  },
  {
   "cell_type": "markdown",
   "metadata": {},
   "source": [
    "### Changing Values in a List with Indexes\n",
    "\n",
    "Normally a variable name goes on the left side of an assignment statement, like eggs = 42 . However, you can also use an index of a list to change the value at that index. For example, eggs[1] = 'blue' means “Assign the\n",
    "value at index 1 in the list eggs to the string 'blue' .”"
   ]
  },
  {
   "cell_type": "code",
   "execution_count": 39,
   "metadata": {},
   "outputs": [
    {
     "data": {
      "text/plain": [
       "['Dubai',\n",
       " 'Cairo',\n",
       " 'New York',\n",
       " 'Paris',\n",
       " 'Doha',\n",
       " 'Rio dejenairo',\n",
       " 'Jordan',\n",
       " 'Bay Area']"
      ]
     },
     "execution_count": 39,
     "metadata": {},
     "output_type": "execute_result"
    }
   ],
   "source": [
    "cities =['London', 'Cairo', 'New York', 'Paris', 'Manila', 'Rio dejenairo', 'San Francisco', 'Bay Area']\n",
    "cities[4] = 'Doha'\n",
    "cities[0] = 'Dubai'\n",
    "cities[-2] = 'Jordan'\n",
    "cities"
   ]
  },
  {
   "cell_type": "markdown",
   "metadata": {},
   "source": [
    "### List Concatenation and List Replication\n",
    "\n",
    "The **+ operator** can combine two lists to create a new list value in the same way it combines two strings into a new string value. The __* operator__ can also be used with a list and an integer value to replicate the list."
   ]
  },
  {
   "cell_type": "code",
   "execution_count": 40,
   "metadata": {},
   "outputs": [
    {
     "data": {
      "text/plain": [
       "[1, 2, 3, 'A', 'B', 'C']"
      ]
     },
     "execution_count": 40,
     "metadata": {},
     "output_type": "execute_result"
    }
   ],
   "source": [
    "[1, 2, 3] + ['A', 'B', 'C']"
   ]
  },
  {
   "cell_type": "code",
   "execution_count": 41,
   "metadata": {},
   "outputs": [
    {
     "data": {
      "text/plain": [
       "['x', 'y', 'z', 'x', 'y', 'z', 'x', 'y', 'z', 'x', 'y', 'z']"
      ]
     },
     "execution_count": 41,
     "metadata": {},
     "output_type": "execute_result"
    }
   ],
   "source": [
    "['x', 'y', 'z'] * 4"
   ]
  },
  {
   "cell_type": "code",
   "execution_count": 43,
   "metadata": {},
   "outputs": [
    {
     "data": {
      "text/plain": [
       "['Arsenal', 'Chelsea', 'Spurs', 'West Ham', 'Burnley', 'Liverpool']"
      ]
     },
     "execution_count": 43,
     "metadata": {},
     "output_type": "execute_result"
    }
   ],
   "source": [
    "clubs = ['Arsenal', 'Chelsea', 'Spurs']\n",
    "clubs = clubs + ['West Ham', 'Burnley', 'Liverpool']\n",
    "clubs"
   ]
  },
  {
   "cell_type": "markdown",
   "metadata": {},
   "source": [
    "### Removing Values from Lists with del Statements\n",
    "\n",
    "The __del statement__ will delete values at an index in a list. All of the values in the list after the deleted value will be moved up one index."
   ]
  },
  {
   "cell_type": "code",
   "execution_count": 46,
   "metadata": {},
   "outputs": [
    {
     "data": {
      "text/plain": [
       "['London', 'Cairo', 'New York', 'Paris', 'Manila']"
      ]
     },
     "execution_count": 46,
     "metadata": {},
     "output_type": "execute_result"
    }
   ],
   "source": [
    "cities =['London', 'Cairo', 'New York', 'Paris', 'Manila', 'Rio dejenairo', 'San Francisco', 'Bay Area']\n",
    "del cities[5]\n",
    "del cities[5]\n",
    "del cities[5]\n",
    "cities"
   ]
  },
  {
   "cell_type": "markdown",
   "metadata": {},
   "source": [
    "### Working with Lists\n",
    "\n",
    "Consider how much duplicate code is in the following program"
   ]
  },
  {
   "cell_type": "code",
   "execution_count": 49,
   "metadata": {},
   "outputs": [
    {
     "name": "stdout",
     "output_type": "stream",
     "text": [
      "Enter the name of cat 1:\n",
      "zapata\n",
      "Enter the name of cat 2:\n",
      "heyley\n",
      "Enter the name of cat 3:\n",
      "simba\n",
      "Enter the name of cat 4:\n",
      "chui\n",
      "Enter the name of cat 5:\n",
      "mongo\n",
      "Enter the name of cat 6:\n",
      "casndra\n",
      "The cats names are:\n",
      "zapata heyley simba chui mongo casndra\n"
     ]
    }
   ],
   "source": [
    "print('Enter the name of cat 1:')\n",
    "catName1 = input()\n",
    "print('Enter the name of cat 2:')\n",
    "catName2 = input()\n",
    "print('Enter the name of cat 3:')\n",
    "catName3 = input()\n",
    "print('Enter the name of cat 4:')\n",
    "catName4 = input()\n",
    "print('Enter the name of cat 5:')\n",
    "catName5 = input()\n",
    "print('Enter the name of cat 6:')\n",
    "catName6 = input()\n",
    "\n",
    "print('The cats names are:')\n",
    "print(catName1 + ' ' + catName2 + ' ' + catName3 + ' ' + catName4 + ' ' + catName5 + ' ' + catName6)"
   ]
  },
  {
   "cell_type": "markdown",
   "metadata": {},
   "source": [
    "Instead of using multiple, repetitive variables, you can use a single variable that contains a list value. This new version uses a single list and can store any number of cats that the user types in"
   ]
  },
  {
   "cell_type": "code",
   "execution_count": 51,
   "metadata": {},
   "outputs": [
    {
     "name": "stdout",
     "output_type": "stream",
     "text": [
      "Enter a name of cat 1(Or enter nothing to stop.):\n",
      "Zapata\n",
      "Enter a name of cat 2(Or enter nothing to stop.):\n",
      "Rango\n",
      "Enter a name of cat 3(Or enter nothing to stop.):\n",
      "Tango\n",
      "Enter a name of cat 4(Or enter nothing to stop.):\n",
      "Rio\n",
      "Enter a name of cat 5(Or enter nothing to stop.):\n",
      "Mario\n",
      "Enter a name of cat 6(Or enter nothing to stop.):\n",
      "Simba\n",
      "Enter a name of cat 7(Or enter nothing to stop.):\n",
      "\n",
      "The cats names are:\n",
      " Zapata\n",
      " Rango\n",
      " Tango\n",
      " Rio\n",
      " Mario\n",
      " Simba\n"
     ]
    }
   ],
   "source": [
    "catNames = [] # assign to an empty list that will be concatenated in with a user input later on\n",
    "\n",
    "while True: # keeps on looping until a user enters nothing\n",
    "    print('Enter a name of cat ' + str(len(catNames) + 1) + '(Or enter nothing to stop.):') # str(len(catNames) + 1) change len to a string\n",
    "    name = input()\n",
    "    if name == '': # it breaks the loop if a user enters nothing\n",
    "        break\n",
    "    catNames = catNames + [name] # list concatenation\n",
    "\n",
    "print('The cats names are:')\n",
    "for name in catNames: # checks the name in catNames list and print out\n",
    "    print(' ' + name)"
   ]
  },
  {
   "cell_type": "markdown",
   "metadata": {},
   "source": [
    "### Using for Loops with Lists\n",
    "\n",
    "Technically, a **for loop** repeats the code block once for each value in a list or list-like value."
   ]
  },
  {
   "cell_type": "code",
   "execution_count": 52,
   "metadata": {},
   "outputs": [
    {
     "name": "stdout",
     "output_type": "stream",
     "text": [
      "0\n",
      "1\n",
      "2\n",
      "3\n"
     ]
    }
   ],
   "source": [
    "for i in range(4):\n",
    "    print(i)"
   ]
  },
  {
   "cell_type": "markdown",
   "metadata": {},
   "source": [
    "This is because the return value from range(4) is a list-like value that Python considers similar to [0, 1, 2, 3] ."
   ]
  },
  {
   "cell_type": "code",
   "execution_count": 54,
   "metadata": {},
   "outputs": [
    {
     "name": "stdout",
     "output_type": "stream",
     "text": [
      "0\n",
      "1\n",
      "2\n",
      "3\n"
     ]
    }
   ],
   "source": [
    "for i in [0, 1, 2, 3]:\n",
    "    print(i)"
   ]
  },
  {
   "cell_type": "markdown",
   "metadata": {},
   "source": [
    "What the previous __for loop__ actually does is loop through its clause with the variable __i__ set to a successive value in the [0, 1, 2, 3] list in each iteration."
   ]
  },
  {
   "cell_type": "markdown",
   "metadata": {},
   "source": []
  }
 ],
 "metadata": {
  "kernelspec": {
   "display_name": "Python 3",
   "language": "python",
   "name": "python3"
  },
  "language_info": {
   "codemirror_mode": {
    "name": "ipython",
    "version": 3
   },
   "file_extension": ".py",
   "mimetype": "text/x-python",
   "name": "python",
   "nbconvert_exporter": "python",
   "pygments_lexer": "ipython3",
   "version": "3.6.8"
  }
 },
 "nbformat": 4,
 "nbformat_minor": 2
}
