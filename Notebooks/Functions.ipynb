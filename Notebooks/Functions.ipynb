{
 "cells": [
  {
   "cell_type": "markdown",
   "metadata": {},
   "source": [
    "## Functions\n",
    "A function is like a mini program within a program.\n",
    "A major purpose of functions is to group code that gets executed multiple times."
   ]
  },
  {
   "cell_type": "code",
   "execution_count": 4,
   "metadata": {},
   "outputs": [
    {
     "name": "stdout",
     "output_type": "stream",
     "text": [
      "President!\n",
      "Jian-Yang!!\n",
      "Hello there.\n",
      "President!\n",
      "Jian-Yang!!\n",
      "Hello there.\n",
      "President!\n",
      "Jian-Yang!!\n",
      "Hello there.\n"
     ]
    }
   ],
   "source": [
    "def hello():\n",
    "    # body of the function\n",
    "    print(\"President!\") \n",
    "    print(\"Jian-Yang!!\")\n",
    "    print(\"Hello there.\")\n",
    "    # body code is executed when the function is called, not when the function is first defined.\n",
    "hello() # calling the function. it will print those 3 outputs\n",
    "hello() # by calling the function 3 times then it will print those output thrice \n",
    "hello() "
   ]
  },
  {
   "cell_type": "markdown",
   "metadata": {},
   "source": [
    "When you call the print() or len() function, you pass in values, called **arguments** in this context, by typing them between the parentheses."
   ]
  },
  {
   "cell_type": "code",
   "execution_count": 8,
   "metadata": {},
   "outputs": [
    {
     "name": "stdout",
     "output_type": "stream",
     "text": [
      "Hello Jian-Yang\n",
      "Hello Dinesh\n"
     ]
    }
   ],
   "source": [
    "def hello(name): # name inside the parenthes is a parameter\n",
    "    print(\"Hello \" + name)\n",
    "# calling the function and passing it with the argument \n",
    "hello('Jian-Yang') # argument here is Jian-Yang\n",
    "hello('Dinesh')"
   ]
  },
  {
   "cell_type": "markdown",
   "metadata": {},
   "source": [
    "A parameter is a variable that an argument is stored in when a function is called. One special thing to note about parameters is that the value stored in a parameter is forgotten when the function returns."
   ]
  },
  {
   "cell_type": "markdown",
   "metadata": {},
   "source": [
    "### Return Values and return Statements\n",
    "\n",
    "When you call the len() function and pass it an argument such as 'Hello', the function call evaluates to the integer value 5 , which is the length of the string you passed it. In general, the value that a function call evaluates to is called the **return value of the function.**"
   ]
  },
  {
   "cell_type": "code",
   "execution_count": 10,
   "metadata": {},
   "outputs": [
    {
     "name": "stdout",
     "output_type": "stream",
     "text": [
      "5\n"
     ]
    }
   ],
   "source": [
    "print(len('Hello')) # 5 is the return value"
   ]
  },
  {
   "cell_type": "markdown",
   "metadata": {},
   "source": [
    "A return statement consists of the following:\n",
    "1. The return keyword\n",
    "2. The value or expression that the function should return\n",
    "\n",
    "When an expression is used with a return statement, the return value is what this expression evaluates to."
   ]
  },
  {
   "cell_type": "code",
   "execution_count": 21,
   "metadata": {},
   "outputs": [
    {
     "name": "stdout",
     "output_type": "stream",
     "text": [
      "Reply hazy try again\n"
     ]
    }
   ],
   "source": [
    "import random\n",
    "\n",
    "def getAnswer(answerNumber):\n",
    "    if answerNumber == 1:\n",
    "        return 'It is certain' # return keyword with an expression\n",
    "    elif answerNumber == 2:\n",
    "        return 'It is decidedly so'\n",
    "    elif answerNumber == 3:\n",
    "        return 'Yes'\n",
    "    elif answerNumber == 4:\n",
    "        return 'Reply hazy try again'\n",
    "    elif answerNumber == 5:\n",
    "        return 'Ask again later'\n",
    "    elif answerNumber == 6:\n",
    "        return 'Concentrate and ask again'\n",
    "    elif answerNumber == 7:\n",
    "        return 'My reply is no'\n",
    "    elif answerNumber == 8:\n",
    "        return 'Outlook not so good'\n",
    "    elif answerNumber == 9:\n",
    "        return 'Very doubtful'\n",
    "    \n",
    "r = random.randint(1, 9)\n",
    "fortune = getAnswer(r) # calling the function with an argument of a random number between 1 to 9\n",
    "print(fortune) # an expression evalutes to the returned value and print out"
   ]
  },
  {
   "cell_type": "markdown",
   "metadata": {},
   "source": [
    "**Note that since you can pass return values as an argument to another function call, you could shorten these three lines:**\n",
    "Remember, expressions are composed of values and operators. A func-\n",
    "tion call can be used in an expression because it evaluates to its return value."
   ]
  },
  {
   "cell_type": "code",
   "execution_count": null,
   "metadata": {},
   "outputs": [],
   "source": [
    "print(getAnswer(random.randint(1, 9)))"
   ]
  },
  {
   "cell_type": "markdown",
   "metadata": {},
   "source": [
    "### The None Value\n",
    "\n",
    "**None**,which represents the absence of a value. None is the only value of the NoneType data type. This value without a value can be helpful when you need to store something that won’t be confused for a real value in a variable."
   ]
  },
  {
   "cell_type": "code",
   "execution_count": 1,
   "metadata": {},
   "outputs": [
    {
     "name": "stdout",
     "output_type": "stream",
     "text": [
      "Hello\n"
     ]
    }
   ],
   "source": [
    "spam = print('Hello')"
   ]
  },
  {
   "cell_type": "code",
   "execution_count": 2,
   "metadata": {},
   "outputs": [
    {
     "data": {
      "text/plain": [
       "True"
      ]
     },
     "execution_count": 2,
     "metadata": {},
     "output_type": "execute_result"
    }
   ],
   "source": [
    "None == spam"
   ]
  },
  {
   "cell_type": "markdown",
   "metadata": {},
   "source": [
    "Behind the scenes, Python adds return None to the end of any function definition with no return statement. This is similar to how a while or for loop implicitly ends with a continue statement. Also, if you use a return statement without a value (that is, just the return keyword by itself), then None is returned."
   ]
  },
  {
   "cell_type": "markdown",
   "metadata": {},
   "source": [
    "### Keyword Arguments and print()\n",
    "\n",
    "**keyword arguments** are identified by the keyword put before them in the function call. Keyword arguments are often used for optional parameters. For example, the print() function has the optional parameters **end** and **sep** to specify what should be printed at the end of its arguments and between its arguments (separating them), respectively."
   ]
  },
  {
   "cell_type": "code",
   "execution_count": 6,
   "metadata": {},
   "outputs": [
    {
     "name": "stdout",
     "output_type": "stream",
     "text": [
      "Hello\n",
      "World\n"
     ]
    }
   ],
   "source": [
    "print('Hello')\n",
    "print('World')"
   ]
  },
  {
   "cell_type": "markdown",
   "metadata": {},
   "source": [
    "The two strings appear on separate lines because the print() function automatically adds a newline character to the end of the string it is passed. However, you can set the end keyword argument to change this to a different\n",
    "string."
   ]
  },
  {
   "cell_type": "code",
   "execution_count": 7,
   "metadata": {},
   "outputs": [
    {
     "name": "stdout",
     "output_type": "stream",
     "text": [
      "HelloWorld\n"
     ]
    }
   ],
   "source": [
    "print('Hello', end='')\n",
    "print('World')"
   ]
  },
  {
   "cell_type": "code",
   "execution_count": 9,
   "metadata": {},
   "outputs": [
    {
     "name": "stdout",
     "output_type": "stream",
     "text": [
      "Jian-Yang Dinesh Gilfoyle\n"
     ]
    }
   ],
   "source": [
    "print('Jian-Yang', 'Dinesh', 'Gilfoyle')"
   ]
  },
  {
   "cell_type": "code",
   "execution_count": 13,
   "metadata": {},
   "outputs": [
    {
     "name": "stdout",
     "output_type": "stream",
     "text": [
      "Jian-Yang,Dinesh,Gilfoyle\n"
     ]
    }
   ],
   "source": [
    "print('Jian-Yang', 'Dinesh', 'Gilfoyle', sep=',')"
   ]
  },
  {
   "cell_type": "markdown",
   "metadata": {},
   "source": [
    "### Local and Global Scope\n",
    "\n",
    "Parameters and variables that are assigned in a called function are said to exist in that function’s **local scope**. Variables that are assigned outside all functions are said to exist in the **global scope**. A variable that exists in a *local scope* is called a **local variable**, while a variable that exists in the *global scope*\n",
    "is called a **global variable**. A variable must be one or the other; it cannot be both local and global.\n",
    "\n",
    "A **local scope** is created whenever a function is called. Any variables assigned in this function exist within the *local scope*. When the function returns, the *local scope* is destroyed, and these variables are forgotten. The next time you call this function, the *local variables* will not remember the values stored in them from the last time the function was called.\n",
    "\n",
    "**Scopes matter for several reasons:**\n",
    "\n",
    "1. Code in the global scope cannot use any local variables.\n",
    "2. However, a local scope can access global variables.\n",
    "3. Code in a function’s local scope cannot use variables in any other local scope.\n",
    "4. You can use the same name for different variables if they are in different scopes.\n",
    "\n",
    "The reason Python has different scopes instead of just making everything a global variable is so that when variables are modified by the code in a particular call to a function, the function interacts with the rest of the program only through its parameters and the return value.\n",
    "\n",
    "While using global variables in small programs is fine, it is a bad habit to rely on global variables as your programs get larger and larger."
   ]
  },
  {
   "cell_type": "code",
   "execution_count": 19,
   "metadata": {},
   "outputs": [
    {
     "ename": "NameError",
     "evalue": "name 'eggs' is not defined",
     "output_type": "error",
     "traceback": [
      "\u001b[0;31m---------------------------------------------------------------------------\u001b[0m",
      "\u001b[0;31mNameError\u001b[0m                                 Traceback (most recent call last)",
      "\u001b[0;32m<ipython-input-19-f3ab90fdaf1c>\u001b[0m in \u001b[0;36m<module>\u001b[0;34m\u001b[0m\n\u001b[1;32m      3\u001b[0m     \u001b[0meggs\u001b[0m \u001b[0;34m=\u001b[0m \u001b[0;36m57\u001b[0m\u001b[0;34m\u001b[0m\u001b[0;34m\u001b[0m\u001b[0m\n\u001b[1;32m      4\u001b[0m \u001b[0mspam\u001b[0m\u001b[0;34m(\u001b[0m\u001b[0;34m)\u001b[0m\u001b[0;34m\u001b[0m\u001b[0;34m\u001b[0m\u001b[0m\n\u001b[0;32m----> 5\u001b[0;31m \u001b[0mprint\u001b[0m\u001b[0;34m(\u001b[0m\u001b[0meggs\u001b[0m\u001b[0;34m)\u001b[0m\u001b[0;34m\u001b[0m\u001b[0;34m\u001b[0m\u001b[0m\n\u001b[0m",
      "\u001b[0;31mNameError\u001b[0m: name 'eggs' is not defined"
     ]
    }
   ],
   "source": [
    "# Local Variables Cannot Be Used in the Global Scope\n",
    "def spam():\n",
    "    eggs = 57 # local scope\n",
    "spam()\n",
    "print(eggs)"
   ]
  },
  {
   "cell_type": "code",
   "execution_count": null,
   "metadata": {},
   "outputs": [],
   "source": [
    "# Local Scopes Cannot Use Variables in Other Local Scopes"
   ]
  }
 ],
 "metadata": {
  "kernelspec": {
   "display_name": "Python 3",
   "language": "python",
   "name": "python3"
  },
  "language_info": {
   "codemirror_mode": {
    "name": "ipython",
    "version": 3
   },
   "file_extension": ".py",
   "mimetype": "text/x-python",
   "name": "python",
   "nbconvert_exporter": "python",
   "pygments_lexer": "ipython3",
   "version": "3.6.8"
  }
 },
 "nbformat": 4,
 "nbformat_minor": 2
}
