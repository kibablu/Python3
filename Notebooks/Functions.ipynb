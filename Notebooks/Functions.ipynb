{
 "cells": [
  {
   "cell_type": "markdown",
   "metadata": {},
   "source": [
    "## Functions\n",
    "A function is like a mini program within a program.\n",
    "A major purpose of functions is to group code that gets executed multiple times."
   ]
  },
  {
   "cell_type": "code",
   "execution_count": 4,
   "metadata": {},
   "outputs": [
    {
     "name": "stdout",
     "output_type": "stream",
     "text": [
      "President!\n",
      "Jian-Yang!!\n",
      "Hello there.\n",
      "President!\n",
      "Jian-Yang!!\n",
      "Hello there.\n",
      "President!\n",
      "Jian-Yang!!\n",
      "Hello there.\n"
     ]
    }
   ],
   "source": [
    "def hello():\n",
    "    # body of the function\n",
    "    print(\"President!\") \n",
    "    print(\"Jian-Yang!!\")\n",
    "    print(\"Hello there.\")\n",
    "    # body code is executed when the function is called, not when the function is first defined.\n",
    "hello() # calling the function. it will print those 3 outputs\n",
    "hello() # by calling the function 3 times then it will print those output thrice \n",
    "hello() "
   ]
  },
  {
   "cell_type": "markdown",
   "metadata": {},
   "source": [
    "When you call the print() or len() function, you pass in values, called **arguments** in this context, by typing them between the parentheses."
   ]
  },
  {
   "cell_type": "code",
   "execution_count": 8,
   "metadata": {},
   "outputs": [
    {
     "name": "stdout",
     "output_type": "stream",
     "text": [
      "Hello Jian-Yang\n",
      "Hello Dinesh\n"
     ]
    }
   ],
   "source": [
    "def hello(name): # name inside the parenthes is a parameter\n",
    "    print(\"Hello \" + name)\n",
    "# calling the function and passing it with the argument \n",
    "hello('Jian-Yang') # argument here is Jian-Yang\n",
    "hello('Dinesh')"
   ]
  },
  {
   "cell_type": "markdown",
   "metadata": {},
   "source": [
    "A parameter is a variable that an argument is stored in when a function is called. One special thing to note about parameters is that the value stored in a parameter is forgotten when the function returns."
   ]
  },
  {
   "cell_type": "markdown",
   "metadata": {},
   "source": [
    "### Return Values and return Statements\n",
    "\n",
    "When you call the len() function and pass it an argument such as 'Hello', the function call evaluates to the integer value 5 , which is the length of the string you passed it. In general, the value that a function call evaluates to is called the **return value of the function.**"
   ]
  },
  {
   "cell_type": "code",
   "execution_count": 10,
   "metadata": {},
   "outputs": [
    {
     "name": "stdout",
     "output_type": "stream",
     "text": [
      "5\n"
     ]
    }
   ],
   "source": [
    "print(len('Hello')) # 5 is the return value"
   ]
  },
  {
   "cell_type": "markdown",
   "metadata": {},
   "source": [
    "A return statement consists of the following:\n",
    "1. The return keyword\n",
    "2. The value or expression that the function should return\n",
    "\n",
    "When an expression is used with a return statement, the return value is what this expression evaluates to."
   ]
  },
  {
   "cell_type": "code",
   "execution_count": 21,
   "metadata": {},
   "outputs": [
    {
     "name": "stdout",
     "output_type": "stream",
     "text": [
      "Reply hazy try again\n"
     ]
    }
   ],
   "source": [
    "import random\n",
    "\n",
    "def getAnswer(answerNumber):\n",
    "    if answerNumber == 1:\n",
    "        return 'It is certain' # return keyword with an expression\n",
    "    elif answerNumber == 2:\n",
    "        return 'It is decidedly so'\n",
    "    elif answerNumber == 3:\n",
    "        return 'Yes'\n",
    "    elif answerNumber == 4:\n",
    "        return 'Reply hazy try again'\n",
    "    elif answerNumber == 5:\n",
    "        return 'Ask again later'\n",
    "    elif answerNumber == 6:\n",
    "        return 'Concentrate and ask again'\n",
    "    elif answerNumber == 7:\n",
    "        return 'My reply is no'\n",
    "    elif answerNumber == 8:\n",
    "        return 'Outlook not so good'\n",
    "    elif answerNumber == 9:\n",
    "        return 'Very doubtful'\n",
    "    \n",
    "r = random.randint(1, 9)\n",
    "fortune = getAnswer(r) # calling the function with an argument of a random number between 1 to 9\n",
    "print(fortune) # an expression evalutes to the returned value and print out"
   ]
  },
  {
   "cell_type": "markdown",
   "metadata": {},
   "source": [
    "**Note that since you can pass return values as an argument to another function call, you could shorten these three lines:**\n",
    "Remember, expressions are composed of values and operators. A func-\n",
    "tion call can be used in an expression because it evaluates to its return value."
   ]
  },
  {
   "cell_type": "code",
   "execution_count": null,
   "metadata": {},
   "outputs": [],
   "source": [
    "print(getAnswer(random.randint(1, 9)))"
   ]
  },
  {
   "cell_type": "markdown",
   "metadata": {},
   "source": [
    "### The None Value\n",
    "\n",
    "**None**,which represents the absence of a value. None is the only value of the NoneType data type. This value without a value can be helpful when you need to store something that won’t be confused for a real value in a variable."
   ]
  },
  {
   "cell_type": "code",
   "execution_count": 1,
   "metadata": {},
   "outputs": [
    {
     "name": "stdout",
     "output_type": "stream",
     "text": [
      "Hello\n"
     ]
    }
   ],
   "source": [
    "spam = print('Hello')"
   ]
  },
  {
   "cell_type": "code",
   "execution_count": 2,
   "metadata": {},
   "outputs": [
    {
     "data": {
      "text/plain": [
       "True"
      ]
     },
     "execution_count": 2,
     "metadata": {},
     "output_type": "execute_result"
    }
   ],
   "source": [
    "None == spam"
   ]
  },
  {
   "cell_type": "markdown",
   "metadata": {},
   "source": [
    "Behind the scenes, Python adds return None to the end of any function definition with no return statement. This is similar to how a while or for loop implicitly ends with a continue statement. Also, if you use a return statement without a value (that is, just the return keyword by itself), then None is returned."
   ]
  },
  {
   "cell_type": "markdown",
   "metadata": {},
   "source": [
    "### Keyword Arguments and print()\n",
    "\n",
    "**keyword arguments** are identified by the keyword put before them in the function call. Keyword arguments are often used for optional parameters. For example, the print() function has the optional parameters **end** and **sep** to specify what should be printed at the end of its arguments and between its arguments (separating them), respectively."
   ]
  },
  {
   "cell_type": "code",
   "execution_count": 6,
   "metadata": {},
   "outputs": [
    {
     "name": "stdout",
     "output_type": "stream",
     "text": [
      "Hello\n",
      "World\n"
     ]
    }
   ],
   "source": [
    "print('Hello')\n",
    "print('World')"
   ]
  },
  {
   "cell_type": "markdown",
   "metadata": {},
   "source": [
    "The two strings appear on separate lines because the print() function automatically adds a newline character to the end of the string it is passed. However, you can set the end keyword argument to change this to a different\n",
    "string."
   ]
  },
  {
   "cell_type": "code",
   "execution_count": 7,
   "metadata": {},
   "outputs": [
    {
     "name": "stdout",
     "output_type": "stream",
     "text": [
      "HelloWorld\n"
     ]
    }
   ],
   "source": [
    "print('Hello', end='')\n",
    "print('World')"
   ]
  },
  {
   "cell_type": "code",
   "execution_count": 9,
   "metadata": {},
   "outputs": [
    {
     "name": "stdout",
     "output_type": "stream",
     "text": [
      "Jian-Yang Dinesh Gilfoyle\n"
     ]
    }
   ],
   "source": [
    "print('Jian-Yang', 'Dinesh', 'Gilfoyle')"
   ]
  },
  {
   "cell_type": "code",
   "execution_count": 13,
   "metadata": {},
   "outputs": [
    {
     "name": "stdout",
     "output_type": "stream",
     "text": [
      "Jian-Yang,Dinesh,Gilfoyle\n"
     ]
    }
   ],
   "source": [
    "print('Jian-Yang', 'Dinesh', 'Gilfoyle', sep=',')"
   ]
  },
  {
   "cell_type": "markdown",
   "metadata": {},
   "source": [
    "### Local and Global Scope\n",
    "\n",
    "Parameters and variables that are assigned in a called function are said to exist in that function’s **local scope**. Variables that are assigned outside all functions are said to exist in the **global scope**. A variable that exists in a *local scope* is called a **local variable**, while a variable that exists in the *global scope*\n",
    "is called a **global variable**. A variable must be one or the other; it cannot be both local and global.\n",
    "\n",
    "A **local scope** is created whenever a function is called. Any variables assigned in this function exist within the *local scope*. When the function returns, the *local scope* is destroyed, and these variables are forgotten. The next time you call this function, the *local variables* will not remember the values stored in them from the last time the function was called.\n",
    "\n",
    "**Scopes matter for several reasons:**\n",
    "\n",
    "1. Code in the global scope cannot use any local variables.\n",
    "2. However, a local scope can access global variables.\n",
    "3. Code in a function’s local scope cannot use variables in any other local scope.\n",
    "4. You can use the same name for different variables if they are in different scopes.\n",
    "\n",
    "The reason Python has different scopes instead of just making everything a global variable is so that when variables are modified by the code in a particular call to a function, the function interacts with the rest of the program only through its parameters and the return value.\n",
    "\n",
    "While using global variables in small programs is fine, it is a bad habit to rely on global variables as your programs get larger and larger."
   ]
  },
  {
   "cell_type": "code",
   "execution_count": 4,
   "metadata": {},
   "outputs": [
    {
     "ename": "NameError",
     "evalue": "name 'eggs' is not defined",
     "output_type": "error",
     "traceback": [
      "\u001b[0;31m---------------------------------------------------------------------------\u001b[0m",
      "\u001b[0;31mNameError\u001b[0m                                 Traceback (most recent call last)",
      "\u001b[0;32m<ipython-input-4-45ed2b26e674>\u001b[0m in \u001b[0;36m<module>\u001b[0;34m\u001b[0m\n\u001b[1;32m      3\u001b[0m     \u001b[0meggs\u001b[0m \u001b[0;34m=\u001b[0m \u001b[0;36m57\u001b[0m \u001b[0;31m# local scope\u001b[0m\u001b[0;34m\u001b[0m\u001b[0;34m\u001b[0m\u001b[0m\n\u001b[1;32m      4\u001b[0m \u001b[0mspam\u001b[0m\u001b[0;34m(\u001b[0m\u001b[0;34m)\u001b[0m\u001b[0;34m\u001b[0m\u001b[0;34m\u001b[0m\u001b[0m\n\u001b[0;32m----> 5\u001b[0;31m \u001b[0mprint\u001b[0m\u001b[0;34m(\u001b[0m\u001b[0meggs\u001b[0m\u001b[0;34m)\u001b[0m\u001b[0;34m\u001b[0m\u001b[0;34m\u001b[0m\u001b[0m\n\u001b[0m",
      "\u001b[0;31mNameError\u001b[0m: name 'eggs' is not defined"
     ]
    }
   ],
   "source": [
    "# Local Variables Cannot Be Used in the Global Scope\n",
    "def spam():\n",
    "    eggs = 57 # local scope\n",
    "spam()\n",
    "print(eggs)"
   ]
  },
  {
   "cell_type": "code",
   "execution_count": 9,
   "metadata": {},
   "outputs": [
    {
     "name": "stdout",
     "output_type": "stream",
     "text": [
      "99\n"
     ]
    }
   ],
   "source": [
    "# Local Scopes Cannot Use Variables in Other Local Scopes\n",
    "def spam():\n",
    "    eggs = 99 # local variable\n",
    "    bacon()\n",
    "    print(eggs)\n",
    "    \n",
    "def bacon():\n",
    "    ham = 101\n",
    "    eggs = 0 # local variable\n",
    "    \n",
    "spam()"
   ]
  },
  {
   "cell_type": "markdown",
   "metadata": {},
   "source": [
    "A new local scope is created whenever a function is called, including when a function is called from another function.\n",
    "The upshot is that local variables in one function are completely separate from the local variables in another function."
   ]
  },
  {
   "cell_type": "code",
   "execution_count": 13,
   "metadata": {},
   "outputs": [
    {
     "name": "stdout",
     "output_type": "stream",
     "text": [
      "42\n",
      "42\n"
     ]
    }
   ],
   "source": [
    "# Global Variables Can Be Read from a Local Scope\n",
    "def spam():\n",
    "    print(eggs)\n",
    "eggs = 42 # global variable\n",
    "spam()\n",
    "print(eggs)"
   ]
  },
  {
   "cell_type": "code",
   "execution_count": 25,
   "metadata": {},
   "outputs": [
    {
     "name": "stdout",
     "output_type": "stream",
     "text": [
      "bacon local\n",
      "spam local\n",
      "bacon local\n",
      "global\n"
     ]
    }
   ],
   "source": [
    "# Local and Global Variables with the Same Name\n",
    "def spam():\n",
    "    eggs = 'spam local' # local scope\n",
    "    print(eggs)\n",
    "\n",
    "def bacon():\n",
    "    eggs = 'bacon local' # local scope\n",
    "    print(eggs)\n",
    "    spam()\n",
    "    print(eggs)\n",
    "    \n",
    "eggs = 'global' # global variable\n",
    "bacon()\n",
    "print(eggs)"
   ]
  },
  {
   "cell_type": "markdown",
   "metadata": {},
   "source": [
    "Avoid using local variables that have the same name as a global variable or another local variable."
   ]
  },
  {
   "cell_type": "markdown",
   "metadata": {},
   "source": [
    "### The global Statement\n",
    "\n",
    "If you need to modify a global variable from within a function, use the **global** statement. If you have a line such as *global eggs* at the top of a function, it tells Python, “In this function, eggs refers to the global variable, so don’t create a local variable with this name."
   ]
  },
  {
   "cell_type": "code",
   "execution_count": 27,
   "metadata": {},
   "outputs": [
    {
     "name": "stdout",
     "output_type": "stream",
     "text": [
      "spams\n"
     ]
    }
   ],
   "source": [
    "def spam():\n",
    "    global eggs\n",
    "    eggs = 'spams'\n",
    "    \n",
    "eggs = 'global'\n",
    "spam()\n",
    "print(eggs)"
   ]
  },
  {
   "cell_type": "markdown",
   "metadata": {},
   "source": [
    "There are four rules to tell whether a variable is in a **local scope or global scope:**\n",
    "1. If a variable is being used in the global scope (that is, outside of all functions), then it is always a global variable.\n",
    "2. If there is a global statement for that variable in a function, it is a global variable.\n",
    "3. Otherwise, if the variable is used in an assignment statement in the function, it is a local variable.\n",
    "4. But if the variable is not used in an assignment statement, it is a global variable."
   ]
  },
  {
   "cell_type": "code",
   "execution_count": 28,
   "metadata": {},
   "outputs": [
    {
     "name": "stdout",
     "output_type": "stream",
     "text": [
      "spams\n"
     ]
    }
   ],
   "source": [
    "def spam():\n",
    "    global eggs\n",
    "    eggs = 'spams' # global variable -- the use of global keyword\n",
    "        \n",
    "def bacon():\n",
    "    eggs = 'bacons' # local variable because there is no assignment statement \n",
    "    \n",
    "def ham():\n",
    "    print(eggs) # global scope because there is no assignment statement or global statement for it in the function.\n",
    "    \n",
    "eggs = 45 # global variable bacause outiside the functions\n",
    "spam()\n",
    "print(eggs)"
   ]
  },
  {
   "cell_type": "markdown",
   "metadata": {},
   "source": [
    "If you try to use a **local variable** in a function before you assign a value to it, as in the following program, Python will give you an error."
   ]
  },
  {
   "cell_type": "code",
   "execution_count": 29,
   "metadata": {},
   "outputs": [
    {
     "ename": "UnboundLocalError",
     "evalue": "local variable 'eggs' referenced before assignment",
     "output_type": "error",
     "traceback": [
      "\u001b[0;31m---------------------------------------------------------------------------\u001b[0m",
      "\u001b[0;31mUnboundLocalError\u001b[0m                         Traceback (most recent call last)",
      "\u001b[0;32m<ipython-input-29-f7b0f3055276>\u001b[0m in \u001b[0;36m<module>\u001b[0;34m\u001b[0m\n\u001b[1;32m      4\u001b[0m \u001b[0;34m\u001b[0m\u001b[0m\n\u001b[1;32m      5\u001b[0m \u001b[0meggs\u001b[0m \u001b[0;34m=\u001b[0m \u001b[0;34m'global'\u001b[0m\u001b[0;34m\u001b[0m\u001b[0;34m\u001b[0m\u001b[0m\n\u001b[0;32m----> 6\u001b[0;31m \u001b[0mspam\u001b[0m\u001b[0;34m(\u001b[0m\u001b[0;34m)\u001b[0m\u001b[0;34m\u001b[0m\u001b[0;34m\u001b[0m\u001b[0m\n\u001b[0m",
      "\u001b[0;32m<ipython-input-29-f7b0f3055276>\u001b[0m in \u001b[0;36mspam\u001b[0;34m()\u001b[0m\n\u001b[1;32m      1\u001b[0m \u001b[0;32mdef\u001b[0m \u001b[0mspam\u001b[0m\u001b[0;34m(\u001b[0m\u001b[0;34m)\u001b[0m\u001b[0;34m:\u001b[0m\u001b[0;34m\u001b[0m\u001b[0;34m\u001b[0m\u001b[0m\n\u001b[0;32m----> 2\u001b[0;31m     \u001b[0mprint\u001b[0m\u001b[0;34m(\u001b[0m\u001b[0meggs\u001b[0m\u001b[0;34m)\u001b[0m \u001b[0;31m# error here\u001b[0m\u001b[0;34m\u001b[0m\u001b[0;34m\u001b[0m\u001b[0m\n\u001b[0m\u001b[1;32m      3\u001b[0m     \u001b[0meggs\u001b[0m \u001b[0;34m=\u001b[0m \u001b[0;34m'spam local'\u001b[0m\u001b[0;34m\u001b[0m\u001b[0;34m\u001b[0m\u001b[0m\n\u001b[1;32m      4\u001b[0m \u001b[0;34m\u001b[0m\u001b[0m\n\u001b[1;32m      5\u001b[0m \u001b[0meggs\u001b[0m \u001b[0;34m=\u001b[0m \u001b[0;34m'global'\u001b[0m\u001b[0;34m\u001b[0m\u001b[0;34m\u001b[0m\u001b[0m\n",
      "\u001b[0;31mUnboundLocalError\u001b[0m: local variable 'eggs' referenced before assignment"
     ]
    }
   ],
   "source": [
    "def spam():\n",
    "    print(eggs) # error here\n",
    "    eggs = 'spam local'\n",
    "    \n",
    "eggs = 'global'\n",
    "spam()"
   ]
  },
  {
   "cell_type": "markdown",
   "metadata": {},
   "source": [
    "### Exception Handling\n",
    "\n",
    "You want the program to detect errors, handle them, and then continue to run."
   ]
  },
  {
   "cell_type": "code",
   "execution_count": 30,
   "metadata": {},
   "outputs": [
    {
     "name": "stdout",
     "output_type": "stream",
     "text": [
      "21.0\n",
      "3.5\n"
     ]
    },
    {
     "ename": "ZeroDivisionError",
     "evalue": "division by zero",
     "output_type": "error",
     "traceback": [
      "\u001b[0;31m---------------------------------------------------------------------------\u001b[0m",
      "\u001b[0;31mZeroDivisionError\u001b[0m                         Traceback (most recent call last)",
      "\u001b[0;32m<ipython-input-30-cce18d473349>\u001b[0m in \u001b[0;36m<module>\u001b[0;34m\u001b[0m\n\u001b[1;32m      4\u001b[0m \u001b[0mprint\u001b[0m\u001b[0;34m(\u001b[0m\u001b[0mspam\u001b[0m\u001b[0;34m(\u001b[0m\u001b[0;36m2\u001b[0m\u001b[0;34m)\u001b[0m\u001b[0;34m)\u001b[0m\u001b[0;34m\u001b[0m\u001b[0;34m\u001b[0m\u001b[0m\n\u001b[1;32m      5\u001b[0m \u001b[0mprint\u001b[0m\u001b[0;34m(\u001b[0m\u001b[0mspam\u001b[0m\u001b[0;34m(\u001b[0m\u001b[0;36m12\u001b[0m\u001b[0;34m)\u001b[0m\u001b[0;34m)\u001b[0m\u001b[0;34m\u001b[0m\u001b[0;34m\u001b[0m\u001b[0m\n\u001b[0;32m----> 6\u001b[0;31m \u001b[0mprint\u001b[0m\u001b[0;34m(\u001b[0m\u001b[0mspam\u001b[0m\u001b[0;34m(\u001b[0m\u001b[0;36m0\u001b[0m\u001b[0;34m)\u001b[0m\u001b[0;34m)\u001b[0m\u001b[0;34m\u001b[0m\u001b[0;34m\u001b[0m\u001b[0m\n\u001b[0m\u001b[1;32m      7\u001b[0m \u001b[0mprint\u001b[0m\u001b[0;34m(\u001b[0m\u001b[0mspam\u001b[0m\u001b[0;34m(\u001b[0m\u001b[0;36m1\u001b[0m\u001b[0;34m)\u001b[0m\u001b[0;34m)\u001b[0m\u001b[0;34m\u001b[0m\u001b[0;34m\u001b[0m\u001b[0m\n",
      "\u001b[0;32m<ipython-input-30-cce18d473349>\u001b[0m in \u001b[0;36mspam\u001b[0;34m(divideBy)\u001b[0m\n\u001b[1;32m      1\u001b[0m \u001b[0;32mdef\u001b[0m \u001b[0mspam\u001b[0m\u001b[0;34m(\u001b[0m\u001b[0mdivideBy\u001b[0m\u001b[0;34m)\u001b[0m\u001b[0;34m:\u001b[0m\u001b[0;34m\u001b[0m\u001b[0;34m\u001b[0m\u001b[0m\n\u001b[0;32m----> 2\u001b[0;31m     \u001b[0;32mreturn\u001b[0m \u001b[0;36m42\u001b[0m \u001b[0;34m/\u001b[0m \u001b[0mdivideBy\u001b[0m\u001b[0;34m\u001b[0m\u001b[0;34m\u001b[0m\u001b[0m\n\u001b[0m\u001b[1;32m      3\u001b[0m \u001b[0;34m\u001b[0m\u001b[0m\n\u001b[1;32m      4\u001b[0m \u001b[0mprint\u001b[0m\u001b[0;34m(\u001b[0m\u001b[0mspam\u001b[0m\u001b[0;34m(\u001b[0m\u001b[0;36m2\u001b[0m\u001b[0;34m)\u001b[0m\u001b[0;34m)\u001b[0m\u001b[0;34m\u001b[0m\u001b[0;34m\u001b[0m\u001b[0m\n\u001b[1;32m      5\u001b[0m \u001b[0mprint\u001b[0m\u001b[0;34m(\u001b[0m\u001b[0mspam\u001b[0m\u001b[0;34m(\u001b[0m\u001b[0;36m12\u001b[0m\u001b[0;34m)\u001b[0m\u001b[0;34m)\u001b[0m\u001b[0;34m\u001b[0m\u001b[0;34m\u001b[0m\u001b[0m\n",
      "\u001b[0;31mZeroDivisionError\u001b[0m: division by zero"
     ]
    }
   ],
   "source": [
    "def spam(divideBy):\n",
    "    return 42 / divideBy\n",
    "\n",
    "print(spam(2))\n",
    "print(spam(12))\n",
    "print(spam(0))\n",
    "print(spam(1))"
   ]
  },
  {
   "cell_type": "markdown",
   "metadata": {},
   "source": [
    "Errors can be handled with **try** and **except** statements. The code that could potentially have an error is put in a **try clause**. The program execution moves to the start of a following except clause if an error happens.\n",
    "\n",
    "When code in a **try clause** causes an error, the program execution immediately moves to the code in the **except clause.** After running that code, the execution continues as normal."
   ]
  },
  {
   "cell_type": "code",
   "execution_count": 31,
   "metadata": {},
   "outputs": [
    {
     "name": "stdout",
     "output_type": "stream",
     "text": [
      "21.0\n",
      "3.5\n",
      "Error: Invalid argument\n",
      "None\n",
      "42.0\n"
     ]
    }
   ],
   "source": [
    "def spam(divideBy):\n",
    "    try:\n",
    "        return 42 / divideBy\n",
    "    except ZeroDivisionError:\n",
    "        print('Error: Invalid argument')\n",
    "        \n",
    "print(spam(2))\n",
    "print(spam(12))\n",
    "print(spam(0))\n",
    "print(spam(1))"
   ]
  },
  {
   "cell_type": "markdown",
   "metadata": {},
   "source": [
    "Note that any errors that occur in function calls in a try block will also be caught.\n",
    "\n",
    "The reason _print(spam(1))_ is never executed is because once the execution jumps to the code in the **except clause,** it does not return to the **try clause**. Instead, it just continues moving down as normal."
   ]
  },
  {
   "cell_type": "code",
   "execution_count": 32,
   "metadata": {},
   "outputs": [
    {
     "name": "stdout",
     "output_type": "stream",
     "text": [
      "21.0\n",
      "3.5\n",
      "Error: Invalid argument\n"
     ]
    }
   ],
   "source": [
    "def spam(divideBy):\n",
    "    return 42 / divideBy\n",
    "  \n",
    "try:       \n",
    "    print(spam(2))\n",
    "    print(spam(12))\n",
    "    print(spam(0))\n",
    "    print(spam(1))\n",
    "except ZeroDivisionError:\n",
    "    print('Error: Invalid argument')"
   ]
  },
  {
   "cell_type": "code",
   "execution_count": 34,
   "metadata": {},
   "outputs": [
    {
     "name": "stdout",
     "output_type": "stream",
     "text": [
      "I'm thinking of a number between 1 and 20\n",
      "Take a guess\n",
      "7\n",
      "Your guess is to low\n",
      "Take a guess\n",
      "12\n",
      "Your guess is to high\n",
      "Take a guess\n",
      "10\n",
      "Your guess is to low\n",
      "Take a guess\n",
      "11\n",
      "Good job! You guessed my number in 4 guesses!\n"
     ]
    }
   ],
   "source": [
    "# This is a guess the number game.\n",
    "import random\n",
    "\n",
    "secretNumber = random.randint(1, 20)\n",
    "print(\"I'm thinking of a number between 1 and 20\")\n",
    "\n",
    "# Ask the player to guess 6 times\n",
    "for guessesTaken in range(1, 7):\n",
    "    print(\"Take a guess\")\n",
    "    guess = int(input()) # changing input to integer \n",
    "    \n",
    "    if guess < secretNumber:\n",
    "        print(\"Your guess is to low\")\n",
    "    elif guess > secretNumber:\n",
    "        print(\"Your guess is to high\")\n",
    "    else:\n",
    "        break # the correct answer -- break out of the loop\n",
    "if guess == secretNumber:\n",
    "    print(\"Good job! You guessed my number in \" + str(guessesTaken) + \" guesses!\")\n",
    "else:\n",
    "    print(\"Nope!. The number I was thinking of was \" + str(secretNumber))"
   ]
  },
  {
   "cell_type": "code",
   "execution_count": 2,
   "metadata": {},
   "outputs": [
    {
     "data": {
      "text/plain": [
       "'Odd'"
      ]
     },
     "execution_count": 2,
     "metadata": {},
     "output_type": "execute_result"
    }
   ],
   "source": [
    "# Even and ODD\n",
    "def collatz(number):\n",
    "    if number % 2 == 0:\n",
    "        return \"Even\"\n",
    "    elif number % 2 == 1:\n",
    "        return \"Odd\"\n",
    "    else:\n",
    "        print(\"Bye\")\n",
    "collatz(969)\n"
   ]
  },
  {
   "cell_type": "code",
   "execution_count": 3,
   "metadata": {},
   "outputs": [
    {
     "name": "stdout",
     "output_type": "stream",
     "text": [
      "Enter a number 3\n",
      "10\n",
      "5\n",
      "16\n",
      "8\n",
      "4\n",
      "2\n",
      "1\n"
     ]
    }
   ],
   "source": [
    "# The Collatz Sequence\n",
    "def collatz(number):\n",
    "    if number % 2 == 0:\n",
    "        print(number // 2)\n",
    "        return number // 2\n",
    "    elif number % 2 == 1:\n",
    "        result = 3 * number + 1\n",
    "        print(result)\n",
    "        return result\n",
    "    \n",
    "n = input(\"Enter a number \")\n",
    "while n != 1: # keeps on looping untill it returns 1\n",
    "    n = collatz(int(n))"
   ]
  },
  {
   "cell_type": "markdown",
   "metadata": {},
   "source": [
    "1. We are asuming a user inputed a number 3.  **line 3**\n",
    "2. 3 is being called on callatz function and change to an integer.  **line 11**\n",
    "3. 3 enters in a for loop. **line 2**\n",
    "4. the loop checks 3 and it is an odd number.  **line 5**\n",
    "5. it prints out 10, since result = 3 * number + 1.  **line 7**\n",
    "6. then 10 is being returned to a while loop, to check if it is not equal to 1.  **line 10**\n",
    "7. since 10 is not equal to 1 it goes back to for loop and repeat **steps 3, 4, 5 and 6** until n is equal to 1"
   ]
  },
  {
   "cell_type": "code",
   "execution_count": 30,
   "metadata": {},
   "outputs": [
    {
     "name": "stdout",
     "output_type": "stream",
     "text": [
      "5\n",
      "16\n",
      "8\n",
      "4\n",
      "2\n",
      "1\n"
     ]
    }
   ],
   "source": [
    "# The Collatz Sequence with Exception\n",
    "def collatz(number):\n",
    "    while number != 1:\n",
    "        if number % 2 == 0:\n",
    "            number = number // 2\n",
    "            print(number)\n",
    "\n",
    "        elif number % 2 == 1:\n",
    "            number = number * 3 + 1\n",
    "            print(number)\n",
    "\n",
    "try:\n",
    "    num = int(input())\n",
    "    collatz(num)\n",
    "except ValueError:\n",
    "    print('Please use whole numbers only.')"
   ]
  },
  {
   "cell_type": "markdown",
   "metadata": {},
   "source": [
    "### Functions\n",
    "\n",
    "From this playlist https://www.youtube.com/watch?v=C9ZEGqGHXms&list=PLlrxD0HtieHhS8VzuMCfQD4uJ9yne1mE6&index=30"
   ]
  },
  {
   "cell_type": "code",
   "execution_count": 1,
   "metadata": {},
   "outputs": [
    {
     "name": "stdout",
     "output_type": "stream",
     "text": [
      "Task completed\n",
      "2020-04-11 07:19:17.578529\n",
      "0\n",
      "1\n",
      "2\n",
      "3\n",
      "4\n",
      "5\n",
      "6\n",
      "7\n",
      "8\n",
      "9\n",
      "10\n",
      "Task completed\n",
      "2020-04-11 07:19:17.580031\n"
     ]
    }
   ],
   "source": [
    "from datetime import datetime\n",
    "\n",
    "# function to print current date and time\n",
    "def printTime():\n",
    "    print('Task completed')\n",
    "    print(datetime.now())\n",
    "    \n",
    "# print timestamps to see how long sections of code\n",
    "# take to run\n",
    "\n",
    "firstName = 'Alexis'\n",
    "printTime()\n",
    "\n",
    "for x in range(0, 11):\n",
    "    print(x)\n",
    "printTime()"
   ]
  },
  {
   "cell_type": "code",
   "execution_count": 3,
   "metadata": {},
   "outputs": [
    {
     "name": "stdout",
     "output_type": "stream",
     "text": [
      "Print first Name\n",
      "2020-04-11 07:22:07.004462\n",
      "0\n",
      "1\n",
      "2\n",
      "3\n",
      "4\n",
      "5\n",
      "6\n",
      "7\n",
      "8\n",
      "9\n",
      "10\n",
      "completed for loop\n",
      "2020-04-11 07:22:07.006624\n"
     ]
    }
   ],
   "source": [
    "from datetime import datetime\n",
    "\n",
    "# function to print current date and time\n",
    "def printTime(taskName):\n",
    "    print(taskName) # passing on the parameter\n",
    "    print(datetime.now())\n",
    "    \n",
    "# print timestamps to see how long sections of code\n",
    "# take to run\n",
    "\n",
    "firstName = 'Alexis'\n",
    "printTime('Print first Name')\n",
    "\n",
    "for x in range(0, 11):\n",
    "    print(x)\n",
    "printTime('completed for loop')"
   ]
  },
  {
   "cell_type": "code",
   "execution_count": 6,
   "metadata": {},
   "outputs": [
    {
     "name": "stdout",
     "output_type": "stream",
     "text": [
      "Enter your first name:Alexis\n",
      "Enter your first name:Sanchez\n",
      "Your Initials are: AS\n"
     ]
    }
   ],
   "source": [
    "# This function will return the first initial of a name\n",
    "def getInitial(name):\n",
    "    initial = name[0:1]\n",
    "    return initial\n",
    "\n",
    "# Ask for someone's name and return the initials\n",
    "firstName = input('Enter your first name:')\n",
    "firstNameInitial = getInitial(firstName)\n",
    "\n",
    "lastName = input('Enter your first name:')\n",
    "lastNameInitial = getInitial(lastName)\n",
    "\n",
    "print('Your Initials are: ' + firstNameInitial + lastNameInitial)"
   ]
  },
  {
   "cell_type": "code",
   "execution_count": 12,
   "metadata": {},
   "outputs": [
    {
     "name": "stdout",
     "output_type": "stream",
     "text": [
      "Enter your first name:alexis\n",
      "Your Initials are: A\n"
     ]
    }
   ],
   "source": [
    "# This function will return the first initial of a name\n",
    "def getInitial(name, forceUppercase):\n",
    "    if forceUppercase:\n",
    "        initial = name[0:1].upper()\n",
    "    else:\n",
    "        initial = name[0:1]\n",
    "    return initial\n",
    "\n",
    "# Ask for someone's name and return the initials\n",
    "firstName = input('Enter your first name:')\n",
    "firstNameInitial = getInitial(firstName, True)\n",
    "\n",
    "# lastName = input('Enter your first name:')\n",
    "# lastNameInitial = getInitial(lastName, True)\n",
    "\n",
    "print('Your Initials are: ' + firstNameInitial)"
   ]
  },
  {
   "cell_type": "code",
   "execution_count": 13,
   "metadata": {},
   "outputs": [
    {
     "name": "stdout",
     "output_type": "stream",
     "text": [
      "Enter your first name:alexis\n",
      "Your Initials are: A\n"
     ]
    }
   ],
   "source": [
    "# This function will return the first initial of a name\n",
    "def getInitial(name, forceUppercase=True): # default parameter\n",
    "    if forceUppercase:\n",
    "        initial = name[0:1].upper()\n",
    "    else:\n",
    "        initial = name[0:1]\n",
    "    return initial\n",
    "\n",
    "# Ask for someone's name and return the initials\n",
    "firstName = input('Enter your first name:')\n",
    "firstNameInitial = getInitial(firstName)\n",
    "\n",
    "# lastName = input('Enter your first name:')\n",
    "# lastNameInitial = getInitial(lastName, True)\n",
    "\n",
    "print('Your Initials are: ' + firstNameInitial)"
   ]
  },
  {
   "cell_type": "code",
   "execution_count": null,
   "metadata": {},
   "outputs": [],
   "source": [
    "reportedCases = 1\n",
    "currentlyInfected = reportedCases * 10\n",
    "# severeImpact = reportedCases * 50\n",
    "\n",
    "\n",
    "def estimatore(data):\n",
    "    while data != 0:\n",
    "        if data <= 1:\n",
    "            data = currentlyInfected\n",
    "            print(data)\n",
    "        else:\n",
    "            pass\n",
    "            \n",
    "        \n",
    "    #return data\n",
    "try:\n",
    "    num = int(input())\n",
    "    collatz(num)\n",
    "except ValueError:\n",
    "    print('Please use whole numbers only.')\n",
    "print(estimatore(4))\n",
    "\n",
    "\n"
   ]
  },
  {
   "cell_type": "code",
   "execution_count": null,
   "metadata": {},
   "outputs": [],
   "source": [
    "# The Collatz Sequence with Exception\n",
    "def collatz(number):\n",
    "    while number != 1:\n",
    "        if number % 2 == 0:\n",
    "            number = number // 2\n",
    "            print(number)\n",
    "\n",
    "        elif number % 2 == 1:\n",
    "            number = number * 3 + 1\n",
    "            print(number)\n",
    "\n",
    "try:\n",
    "    num = int(input())\n",
    "    collatz(num)\n",
    "except ValueError:\n",
    "    print('Please use whole numbers only.')"
   ]
  },
  {
   "cell_type": "code",
   "execution_count": 39,
   "metadata": {},
   "outputs": [
    {
     "name": "stdout",
     "output_type": "stream",
     "text": [
      "Provide Reported Cases in Africa: \n",
      "1000\n",
      "Provide Total Amount Of Beds In Africa: \n",
      "45\n",
      "Provide Current Population in Africa: \n",
      "56000\n",
      "Provide a date to estimate how the economy would be affected: \n",
      " 30\n",
      "Calculate in Days,Weeks or Months?:  \n",
      " weeks\n",
      "Africa has 1000 reported cases \n",
      " \n",
      "There are likely to be 10000 currently infected person(s) in Africa\n",
      "\n",
      "There are also likely to be 50000 unreported cases in Africa\n",
      " \n",
      "5120000 person(s) are likely to be infected in 28 days from now. \n",
      " \n",
      "25600000 person(s) are likely to be infected in 28 days from now considering unreported cases. \n",
      " \n",
      "3840000 severe cases are likely to require Hospitals. \n",
      " \n",
      "We have 29 amount of Beds, There are not enough Beds, and we need 321 more Beds \n",
      " \n",
      "256000 person(s) are likely to require ICU \n",
      " \n",
      "1280000 person(s) are likely to require ICU considering unreported cases \n",
      " \n",
      "We have 102400 amount of Ventilators, There are enough Ventilators. \n",
      " \n",
      "The Economy of Africa is likely to lose 3332266$ daily in 30weeks\n"
     ]
    }
   ],
   "source": [
    "import sys\n",
    "\n",
    "'''a function to get data from user'''\n",
    " \n",
    "def data():\n",
    "    region = str(\"Africa\")\n",
    "    aveAge = float(19.7)\n",
    "    avgDailyIncomeInUSD = float(5.50)\n",
    "    avgDailyIncomePopulation = float(0.71)\n",
    " \n",
    "    # reported cases\n",
    "    \n",
    "    while True:\n",
    "        try:\n",
    "            reportedCases = int(input(\"Provide Reported Cases in \" + str(region) + \": \\n\"))\n",
    "        except ValueError:\n",
    "            print(\"Please enter a valuable answer!! \\n \")\n",
    "            continue\n",
    "        else:\n",
    "            break\n",
    " \n",
    "    # total beds\n",
    "    \n",
    "    while True:\n",
    "        try:\n",
    "            totalHospitalBeds = int(input(\"Provide Total Amount Of Beds In \" + str(region) + \": \\n\"))\n",
    "        except ValueError:\n",
    "            print(\"Please enter a valuable answer!! \\n \")\n",
    "            continue\n",
    "        else:\n",
    "            break\n",
    " \n",
    "    # current population\n",
    "    \n",
    "    while True:\n",
    "        try:\n",
    "            population = int(input(\"Provide Current Population in \" + str(region) + \": \\n\"))\n",
    "        except ValueError:\n",
    "            print(\"Please enter a valuable answer!!\\n \")\n",
    "            continue\n",
    "        else:\n",
    "            break\n",
    " \n",
    "    # time to elapse\n",
    "    \n",
    "    while True:\n",
    "        try:\n",
    "            timeToElapse = int(input(\"Provide a date to estimate how the economy would be affected: \\n \"))\n",
    "        except ValueError:\n",
    "            print(\"Please enter a valuable answer!! \\n \")\n",
    "            continue\n",
    "        else:\n",
    "            break\n",
    " \n",
    " \n",
    "    # period type\n",
    "    \n",
    "    while True:\n",
    "        periodType = input(\"Calculate in Days,Weeks or Months?:  \\n \")\n",
    "        if periodType.lower() not in (\"days\", \"months\", \"weeks\"):\n",
    "            print(\"Please select a valid option \\ntype days,months or weeks! \\n \")\n",
    "        else:\n",
    "            break\n",
    "        if periodType == \"months\":\n",
    "            int(timeToElapse * 30)\n",
    "        elif periodType == \"weeks\":\n",
    "            int(timeToElapse * 7)\n",
    "        else:\n",
    "            break\n",
    " \n",
    "    return region, aveAge, avgDailyIncomeInUSD, reportedCases, avgDailyIncomePopulation, population, \\\n",
    "           totalHospitalBeds, timeToElapse, periodType\n",
    " \n",
    " \n",
    "'''impact function'''\n",
    " \n",
    "def impact(region, aveAge, avgDailyIncomeInUSD, reportedCases, avgDailyIncomePopulation, population, \\\n",
    "           totalHospitalBeds, timeToElapse, periodType):\n",
    "    currentlyInfected = int(reportedCases * 10)\n",
    "    infectionByrequestedTime = int(currentlyInfected * 512)\n",
    "    hospitalBedsByRequestedTime = int(totalHospitalBeds * (1 - 0.35))\n",
    "    casesByrequestedTime = int(infectionByrequestedTime * 0.15)\n",
    "    casesForICUByRequestedTime = int(infectionByrequestedTime * 0.05)\n",
    "    casesForVentilatorsByRequestedTime = int(infectionByrequestedTime * 0.02)\n",
    "    dollarsInFlight = int((infectionByrequestedTime * avgDailyIncomePopulation * avgDailyIncomeInUSD) / timeToElapse)\n",
    " \n",
    "    return currentlyInfected, infectionByrequestedTime, hospitalBedsByRequestedTime, casesByrequestedTime, \\\n",
    "           casesForICUByRequestedTime, casesForVentilatorsByRequestedTime, dollarsInFlight\n",
    " \n",
    " \n",
    "''' severe function to calculate impact cases'''\n",
    " \n",
    "def severeImpact(region, aveAge, avgDailyIncomeInUSD, reportedCases, avgDailyIncomePopulation, population, \\\n",
    "                 totalHospitalBeds, timeToElapse, periodType1):\n",
    "    scurrentlyInfected = int(reportedCases * 50)\n",
    "    sinfectionByrequestedTime = int(scurrentlyInfected * 512)\n",
    "    shospitalBedsByRequestedTime = int(totalHospitalBeds * (1 - 0.35))\n",
    "    scasesByrequestedTime = int(sinfectionByrequestedTime * 0.15)\n",
    "    scasesForICUByRequestedTime = int(sinfectionByrequestedTime * 0.05)\n",
    "    scasesForVentilatorsByRequestedTime = int(sinfectionByrequestedTime * 0.02)\n",
    "    sdollarsInFlight = int((sinfectionByrequestedTime * avgDailyIncomePopulation * avgDailyIncomeInUSD) / timeToElapse)\n",
    " \n",
    "    return scurrentlyInfected, sinfectionByrequestedTime, shospitalBedsByRequestedTime, scasesByrequestedTime, \\\n",
    "           scasesForICUByRequestedTime, scasesForVentilatorsByRequestedTime, sdollarsInFlight\n",
    " \n",
    " \n",
    "'''estimator funtion to print out the results'''\n",
    " \n",
    "def estimator(region, aveAge, avgDailyIncomeInUSD, reportedCases, avgDailyIncomePopulation, population, \\\n",
    "              totalHospitalBeds, timeToElapse, currentlyInfected, infectionByrequestedTime, \\\n",
    "              hospitalBedsByRequestedTime, casesByrequestedTime, casesForICUByRequestedTime, \\\n",
    "              casesForVentilatorsByRequestedTime, dollarsInFlight, scurrentlyInfected, sinfectionByrequestedTime, \\\n",
    "              shospitalBedsByRequestedTime, scasesByrequestedTime, \\\n",
    "              scasesForICUByRequestedTime, scasesForVentilatorsByRequestedTime, sdollarsInFlight, periodType):\n",
    " \n",
    "    print(str(region) + \" has \" + str(reportedCases) + \" reported cases \\n \")\n",
    "    print(\"There are likely to be \" + str(currentlyInfected) + \" currently infected person(s) in \" + str(region) + \"\\n\")\n",
    "    print(\"There are also likely to be \" + str(scurrentlyInfected) + \" unreported cases in \" + str(region) + \"\\n \")\n",
    "    print(str(infectionByrequestedTime) + \" person(s) are likely to be infected in 28 days from now. \\n \")\n",
    "    print(str(\n",
    "        sinfectionByrequestedTime) + \" person(s) are likely to be infected in 28 days from now considering unreported cases. \\n \")\n",
    " \n",
    "    print(str(scasesByrequestedTime) + \" severe cases are likely to require Hospitals. \\n \")\n",
    "    \n",
    "    if (int(shospitalBedsByRequestedTime) < 350):\n",
    "        bedneeded = 350 - shospitalBedsByRequestedTime\n",
    "        amountofbed = \"There are not enough Beds, and we need \" + str(bedneeded) + \" more Beds\"\n",
    "    elif (int(shospitalBedsByRequestedTime) > 350):\n",
    "        amountofbed = \"There are enough Beds\"\n",
    "    elif (int(shospitalBedsByRequestedTime) < 0):\n",
    "        amountofbed = \"Were fucked\"\n",
    "    print(\"We have \" + str(shospitalBedsByRequestedTime) + \" amount of Beds, \" + str(amountofbed) + \" \\n \")\n",
    " \n",
    "    \n",
    " \n",
    "    print(str(casesForICUByRequestedTime) + \" person(s) are likely to require ICU \\n \")\n",
    "    print(str(scasesForICUByRequestedTime) + \" person(s) are likely to require ICU considering unreported cases \\n \")\n",
    " \n",
    "    \n",
    " \n",
    "    if (int(casesForVentilatorsByRequestedTime) < 350):\n",
    "        ventneeded = 350 - scasesForICUByRequestedTime\n",
    "        ventilator = \"There are not enough Ventilators, and we need \" + str(ventneeded) + \" more Ventilators.\"\n",
    " \n",
    "    elif (int(casesForVentilatorsByRequestedTime) > 350):\n",
    "        ventilator = \"There are enough Ventilators.\"\n",
    " \n",
    "    elif (int(casesForVentilatorsByRequestedTime) == 0.0):\n",
    "        ventilator = \"Were soooo fucked\"\n",
    " \n",
    "    print(\"We have \" + str(casesForVentilatorsByRequestedTime) + \" amount of Ventilators, \" + ventilator + \" \\n \")\n",
    " \n",
    "    print(\"The Economy of \" + str(region) + \" is likely to lose \" \"$ daily in \" +  str(sdollarsInFlight) +  \\\n",
    "          str(timeToElapse) + str(periodType))\n",
    " \n",
    " \n",
    "\n",
    " \n",
    "'''main function to assign variables'''\n",
    "\n",
    "def main():\n",
    "    region, aveAge, avgDailyIncomeInUSD, reportedCases, avgDailyIncomePopulation, population, \\\n",
    "    totalHospitalBeds, timeToElapse, periodType = data()\n",
    " \n",
    "    #impact\n",
    "    currentlyInfected, infectionByrequestedTime, hospitalBedsByRequestedTime, casesByrequestedTime, \\\n",
    "    casesForICUByRequestedTime, casesForVentilatorsByRequestedTime, dollarsInFlight = impact(region, aveAge, \\\n",
    "                             avgDailyIncomeInUSD,\n",
    "                             reportedCases,\n",
    "                             avgDailyIncomePopulation,\n",
    "                             population, \\\n",
    "                             totalHospitalBeds,\n",
    "                             timeToElapse, periodType)\n",
    " \n",
    "    #severe\n",
    "    scurrentlyInfected, sinfectionByrequestedTime, shospitalBedsByRequestedTime, scasesByrequestedTime, \\\n",
    "    scasesForICUByRequestedTime, scasesForVentilatorsByRequestedTime, sdollarsInFlight = severeImpact(region, aveAge, \\\n",
    "                              avgDailyIncomeInUSD,\n",
    "                              reportedCases,\n",
    "                              avgDailyIncomePopulation,\n",
    "                              population, \\\n",
    "                              totalHospitalBeds,\n",
    "                              timeToElapse,\n",
    "                              periodType)\n",
    " \n",
    "    \n",
    "    estimator(region, aveAge, avgDailyIncomeInUSD, reportedCases, avgDailyIncomePopulation, population, \\\n",
    "              totalHospitalBeds, timeToElapse, currentlyInfected, infectionByrequestedTime, \\\n",
    "              hospitalBedsByRequestedTime, casesByrequestedTime, casesForICUByRequestedTime, \\\n",
    "              casesForVentilatorsByRequestedTime, dollarsInFlight, scurrentlyInfected, sinfectionByrequestedTime, \\\n",
    "              shospitalBedsByRequestedTime, scasesByrequestedTime, \\\n",
    "              scasesForICUByRequestedTime, scasesForVentilatorsByRequestedTime, sdollarsInFlight, periodType)\n",
    " \n",
    " \n",
    "main()"
   ]
  },
  {
   "cell_type": "markdown",
   "metadata": {},
   "source": [
    "##### "
   ]
  }
 ],
 "metadata": {
  "kernelspec": {
   "display_name": "Python 3",
   "language": "python",
   "name": "python3"
  },
  "language_info": {
   "codemirror_mode": {
    "name": "ipython",
    "version": 3
   },
   "file_extension": ".py",
   "mimetype": "text/x-python",
   "name": "python",
   "nbconvert_exporter": "python",
   "pygments_lexer": "ipython3",
   "version": "3.6.8"
  }
 },
 "nbformat": 4,
 "nbformat_minor": 2
}
