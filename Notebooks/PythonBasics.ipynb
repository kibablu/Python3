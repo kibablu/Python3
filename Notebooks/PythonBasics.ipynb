{
 "cells": [
  {
   "cell_type": "markdown",
   "metadata": {},
   "source": [
    "# <font color=blue>\"And like all skills, the more you program, the better you’ll become.\"</font>\n",
    "\n",
    "## When asking programming questions, remember to do the following:\n",
    "\n",
    "1. Explain what you are trying to do, not just what you did.This lets your helper know if you are on the wrong track.\n",
    "2. Specify the point at which the error happens. Does it occur at the very start of the program or only after you do a    certain action?\n",
    "3. Copy and paste the entire error message and your code to http://pastebin.com/ or http://gist.github.com/\n",
    "4. Explain what you’ve already tried to do to solve your problem.This tells people you’ve already put in some work to figure things out on your own.\n",
    "5. List the version of Python you’re using.Also, say which operating system and version you’re running.\n",
    "6. If the error came up after you made a change to your code, explain exactly what you changed.\n",
    "7. Say whether you’re able to reproduce the error every time you run the program or whether it happens only after you perform certain actions.Explain what those actions are, if so."
   ]
  },
  {
   "cell_type": "markdown",
   "metadata": {},
   "source": [
    "## Storing values in a variables\n",
    "A variable is like a box in the computer’s memory where you can store a single value."
   ]
  },
  {
   "cell_type": "code",
   "execution_count": 18,
   "metadata": {},
   "outputs": [
    {
     "data": {
      "text/plain": [
       "'Goodby'"
      ]
     },
     "execution_count": 18,
     "metadata": {},
     "output_type": "execute_result"
    }
   ],
   "source": [
    "cat = 'Hello'\n",
    "cat = 'Goodby'\n",
    "cat"
   ]
  },
  {
   "cell_type": "code",
   "execution_count": 19,
   "metadata": {},
   "outputs": [
    {
     "data": {
      "text/plain": [
       "54"
      ]
     },
     "execution_count": 19,
     "metadata": {},
     "output_type": "execute_result"
    }
   ],
   "source": [
    "cats = 34\n",
    "mouse = 20\n",
    "cats + mouse"
   ]
  },
  {
   "cell_type": "markdown",
   "metadata": {},
   "source": [
    "## Variable Names\n",
    "\n",
    "1. It can be only one word.\n",
    "2. It can use only letters, numbers, and the underscore ( _ ) character.\n",
    "3. It can’t begin with a number."
   ]
  },
  {
   "cell_type": "code",
   "execution_count": 31,
   "metadata": {},
   "outputs": [
    {
     "name": "stdout",
     "output_type": "stream",
     "text": [
      "Hello World!\n",
      "What is your name?\n",
      "president\n",
      "It's nice to meet you, Mr. president\n",
      "The lenght of your name is:\n",
      "9\n",
      "What is your age?\n",
      "34\n",
      "You will be, 35 in a year\n"
     ]
    }
   ],
   "source": [
    "# This program says hello and asks for my name.\n",
    "print (\"Hello World!\")\n",
    "print (\"What is your name?\")\n",
    "myName = input() # user input data\n",
    "print (\"It's nice to meet you, \" + \"Mr. \" + myName)\n",
    "print(\"The lenght of your name is:\")\n",
    "print (len(myName))\n",
    "print (\"What is your age?\")\n",
    "myAge = input()\n",
    "print (\"You will be, \" + str(int(myAge) + 1) + \" in a year\")"
   ]
  },
  {
   "cell_type": "code",
   "execution_count": 32,
   "metadata": {},
   "outputs": [
    {
     "data": {
      "text/plain": [
       "12"
      ]
     },
     "execution_count": 32,
     "metadata": {},
     "output_type": "execute_result"
    }
   ],
   "source": [
    "len(\"Hello World!\")"
   ]
  },
  {
   "cell_type": "code",
   "execution_count": 30,
   "metadata": {},
   "outputs": [
    {
     "name": "stdout",
     "output_type": "stream",
     "text": [
      "4\n"
     ]
    },
    {
     "data": {
      "text/plain": [
       "str"
      ]
     },
     "execution_count": 30,
     "metadata": {},
     "output_type": "execute_result"
    }
   ],
   "source": [
    "type(input())"
   ]
  },
  {
   "cell_type": "code",
   "execution_count": 43,
   "metadata": {},
   "outputs": [
    {
     "data": {
      "text/plain": [
       "34.14"
      ]
     },
     "execution_count": 43,
     "metadata": {},
     "output_type": "execute_result"
    }
   ],
   "source": [
    "int('67')\n",
    "str(34)\n",
    "float(54)\n",
    "float('34.14')"
   ]
  },
  {
   "cell_type": "code",
   "execution_count": 48,
   "metadata": {},
   "outputs": [
    {
     "data": {
      "text/plain": [
       "False"
      ]
     },
     "execution_count": 48,
     "metadata": {},
     "output_type": "execute_result"
    }
   ],
   "source": [
    "42 == 042.0\n",
    "42 == '42'"
   ]
  },
  {
   "cell_type": "code",
   "execution_count": 54,
   "metadata": {},
   "outputs": [
    {
     "data": {
      "text/plain": [
       "10.65"
      ]
     },
     "execution_count": 54,
     "metadata": {},
     "output_type": "execute_result"
    }
   ],
   "source": [
    "round(10.647, 2) # round off then how many decimals to be rounded off"
   ]
  },
  {
   "cell_type": "markdown",
   "metadata": {},
   "source": [
    "## Basic Strings\n",
    "\n",
    "This is from https://www.youtube.com/watch?v=bQQqxysLIGE&list=PLlrxD0HtieHhS8VzuMCfQD4uJ9yne1mE6&index=11\n",
    "Using the f format"
   ]
  },
  {
   "cell_type": "code",
   "execution_count": 5,
   "metadata": {},
   "outputs": [
    {
     "name": "stdout",
     "output_type": "stream",
     "text": [
      "Please enter your first nameJOHN\n",
      "Please enter your last nameDOE\n",
      "Hello, John Doe\n"
     ]
    }
   ],
   "source": [
    "firstName = input('Please enter your first name')\n",
    "lastName = input('Please enter your last name')\n",
    "print(f'Hello, {firstName.capitalize()} {lastName.capitalize()}')"
   ]
  },
  {
   "cell_type": "code",
   "execution_count": 7,
   "metadata": {},
   "outputs": [
    {
     "name": "stdout",
     "output_type": "stream",
     "text": [
      "28 total days in February\n"
     ]
    }
   ],
   "source": [
    "daysinFebruary = 28\n",
    "print(str(daysinFebruary) + ' total days in February')"
   ]
  },
  {
   "cell_type": "code",
   "execution_count": 9,
   "metadata": {},
   "outputs": [
    {
     "name": "stdout",
     "output_type": "stream",
     "text": [
      "Enter a number5\n",
      "Enter a second number6\n",
      "11\n"
     ]
    }
   ],
   "source": [
    "firstNumber = int(input('Enter a number'))\n",
    "secondNumber = int(input('Enter a second number'))\n",
    "print(firstNumber + secondNumber)"
   ]
  },
  {
   "cell_type": "code",
   "execution_count": 15,
   "metadata": {},
   "outputs": [
    {
     "name": "stdout",
     "output_type": "stream",
     "text": [
      "Today is 2020-04-08 07:20:02.632372\n"
     ]
    }
   ],
   "source": [
    "# importing a library datetime\n",
    "from datetime import datetime\n",
    "currentDate = datetime.now() # from class datetime get function now\n",
    "\n",
    "print('Today is ' + str(currentDate))"
   ]
  },
  {
   "cell_type": "code",
   "execution_count": 17,
   "metadata": {},
   "outputs": [
    {
     "name": "stdout",
     "output_type": "stream",
     "text": [
      "Today is 2020-04-08 07:26:07.069548\n",
      "Yesterday was 2020-04-07 07:26:07.069548\n"
     ]
    }
   ],
   "source": [
    "# importing a library datetime\n",
    "from datetime import datetime, timedelta\n",
    "today = datetime.now() # from class datetime get function now\n",
    "\n",
    "print('Today is ' + str(today))\n",
    "\n",
    "oneDay = timedelta(days=1)\n",
    "yesterday = today - oneDay\n",
    "print('Yesterday was ' + str(yesterday))"
   ]
  },
  {
   "cell_type": "code",
   "execution_count": 18,
   "metadata": {},
   "outputs": [
    {
     "name": "stdout",
     "output_type": "stream",
     "text": [
      "Day: 8\n",
      "Month: 4\n",
      "Year: 2020\n"
     ]
    }
   ],
   "source": [
    "from datetime import datetime\n",
    "today = datetime.now()\n",
    "\n",
    "print('Day: ' + str(today.day))\n",
    "print('Month: ' + str(today.month))\n",
    "print('Year: ' + str(today.year))"
   ]
  },
  {
   "cell_type": "code",
   "execution_count": 24,
   "metadata": {},
   "outputs": [
    {
     "name": "stdout",
     "output_type": "stream",
     "text": [
      "Please enter your birthday (dd/mm/yyyy)?7/8/1990\n",
      "Your Birthday is 7/8/1990\n"
     ]
    }
   ],
   "source": [
    "from datetime import datetime, timedelta\n",
    "\n",
    "birthday = input('Please enter your birthday (dd/mm/yyyy)?')\n",
    "\n",
    "birthdayDate = datetime.strptime(birthday, '%d/%m/%Y')\n",
    "print('Your Birthday is ' + str(birthday))"
   ]
  },
  {
   "cell_type": "markdown",
   "metadata": {},
   "source": [
    "## Error Handling\n",
    "\n",
    "Error Hanling - an error that you can not pridict example; a permission issue\n",
    "\n",
    "Debuging - aware of the errors"
   ]
  },
  {
   "cell_type": "markdown",
   "metadata": {},
   "source": [
    "### Error Types\n",
    "\n",
    "1. Syntax errors     \n",
    "-This won't run at all, you will get invalid syntax\n",
    "\n",
    "2. Runtime errors   \n",
    "-Code that fails when run \n",
    "\n",
    "3. Logic errors      \n",
    "-This code won't run at all"
   ]
  },
  {
   "cell_type": "code",
   "execution_count": null,
   "metadata": {},
   "outputs": [],
   "source": []
  }
 ],
 "metadata": {
  "kernelspec": {
   "display_name": "Python 3",
   "language": "python",
   "name": "python3"
  },
  "language_info": {
   "codemirror_mode": {
    "name": "ipython",
    "version": 3
   },
   "file_extension": ".py",
   "mimetype": "text/x-python",
   "name": "python",
   "nbconvert_exporter": "python",
   "pygments_lexer": "ipython3",
   "version": "3.6.8"
  }
 },
 "nbformat": 4,
 "nbformat_minor": 2
}
