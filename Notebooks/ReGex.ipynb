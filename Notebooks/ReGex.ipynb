{
 "cells": [
  {
   "cell_type": "markdown",
   "metadata": {},
   "source": [
    "## Pattern Matching with Regular Expression"
   ]
  },
  {
   "cell_type": "markdown",
   "metadata": {},
   "source": [
    "Regular Expression allow you to specify a pattern of text to search for."
   ]
  },
  {
   "cell_type": "markdown",
   "metadata": {},
   "source": [
    "### Finding Patterns of Text Without Regular Expressions\n",
    "\n",
    "Say you want to find a phone number in a string.You know the pattern:three numbers, a hyphen, three numbers, a hyphen, and four numbers.Here’s an example: 415-555-4242.Let’s use a function named isPhoneNumber() to check whether a string matches this pattern, returning either True or False ."
   ]
  },
  {
   "cell_type": "code",
   "execution_count": 2,
   "metadata": {},
   "outputs": [
    {
     "data": {
      "text/plain": [
       "True"
      ]
     },
     "execution_count": 2,
     "metadata": {},
     "output_type": "execute_result"
    }
   ],
   "source": [
    "# describe more about .isdecimal()\n",
    "'2'.isdecimal()"
   ]
  },
  {
   "cell_type": "code",
   "execution_count": 3,
   "metadata": {},
   "outputs": [
    {
     "data": {
      "text/plain": [
       "False"
      ]
     },
     "execution_count": 3,
     "metadata": {},
     "output_type": "execute_result"
    }
   ],
   "source": [
    "not '2'.isdecimal()"
   ]
  },
  {
   "cell_type": "code",
   "execution_count": 9,
   "metadata": {},
   "outputs": [
    {
     "name": "stdout",
     "output_type": "stream",
     "text": [
      "434-434-5678 is a phone number?\n",
      "True\n"
     ]
    }
   ],
   "source": [
    "def isPhoneNumber(text):\n",
    "    if len(text) != 12: # check if the length of text is 12\n",
    "        return False\n",
    "    for i in range(0, 3): # loop through the first 3 character\n",
    "        if not text[i].isdecimal(): # checks if digits in [i] are not numeric character and return false\n",
    "            return False\n",
    "    if text[3] != '-':\n",
    "        return False\n",
    "    for i in range(4,7):\n",
    "        if not text[i].isdecimal():\n",
    "            return False\n",
    "    if text[7] != '-':\n",
    "        return False\n",
    "    for i in range(8,12):\n",
    "        if not text[i].isdecimal():\n",
    "            return False\n",
    "    return True # retun true is all checks are ok\n",
    "\n",
    "print('434-434-5678 is a phone number?')\n",
    "print(isPhoneNumber('434-434-5678'))"
   ]
  },
  {
   "cell_type": "code",
   "execution_count": 10,
   "metadata": {},
   "outputs": [
    {
     "name": "stdout",
     "output_type": "stream",
     "text": [
      "False\n"
     ]
    }
   ],
   "source": [
    "print(isPhoneNumber('44-434-5678'))"
   ]
  },
  {
   "cell_type": "code",
   "execution_count": 11,
   "metadata": {},
   "outputs": [
    {
     "name": "stdout",
     "output_type": "stream",
     "text": [
      "False\n"
     ]
    }
   ],
   "source": [
    "print(isPhoneNumber('Wash- wash'))"
   ]
  },
  {
   "cell_type": "code",
   "execution_count": 12,
   "metadata": {},
   "outputs": [
    {
     "name": "stdout",
     "output_type": "stream",
     "text": [
      "Phone number found: 434-434-5678\n",
      "Phone number found: 434-434-5678\n",
      "Done\n"
     ]
    }
   ],
   "source": [
    "message = 'Call me at 434-434-5678 tomorrow. 434-434-5678 is my office'\n",
    "for i in range(len(message)):\n",
    "    chunk = message[i:i+12]\n",
    "    if isPhoneNumber(chunk):\n",
    "        print('Phone number found: ' + chunk)\n",
    "print('Done')"
   ]
  },
  {
   "cell_type": "markdown",
   "metadata": {},
   "source": [
    "#### Explanation of line 12 code\n",
    "\n",
    "On each iteration of the for loop, a new chunk of 12 characters from message is assigned to the variable chunk. For example, on the first iteration, i is 0, and chunk is assigned message[0:12] (that is, the string 'Call me at 4').On the next iteration, i is 1, and chunk is assigned message[1:13] (the string\n",
    "'all me at 41').You pass chunk to isPhoneNumber() to see whether it matches the phone number pattern, and if so, you print the chunk.Continue to loop through message, and eventually the 12 characters in chunk will be a phone number.The loop goes through the entire string, testing each 12-character piece and printing any chunk it finds that satisfies isPhoneNumber().Once we’re done going through message, we print Done ."
   ]
  },
  {
   "cell_type": "markdown",
   "metadata": {},
   "source": [
    "### Finding Patterns of Text with Regular Expressions"
   ]
  },
  {
   "cell_type": "code",
   "execution_count": null,
   "metadata": {},
   "outputs": [],
   "source": []
  }
 ],
 "metadata": {
  "kernelspec": {
   "display_name": "Python 3",
   "language": "python",
   "name": "python3"
  },
  "language_info": {
   "codemirror_mode": {
    "name": "ipython",
    "version": 3
   },
   "file_extension": ".py",
   "mimetype": "text/x-python",
   "name": "python",
   "nbconvert_exporter": "python",
   "pygments_lexer": "ipython3",
   "version": "3.6.8"
  }
 },
 "nbformat": 4,
 "nbformat_minor": 2
}
