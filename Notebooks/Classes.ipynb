{
 "cells": [
  {
   "cell_type": "markdown",
   "metadata": {},
   "source": [
    "Learning classes from https://www.programmer-books.com/python-crash-course-pdf/"
   ]
  },
  {
   "cell_type": "markdown",
   "metadata": {},
   "source": [
    "# Classes"
   ]
  },
  {
   "cell_type": "markdown",
   "metadata": {},
   "source": [
    "In object-oriented programming you write classes that represent real world things and situations, and you create objects based on these classes.When you write a class, you define the general behavior that a whole category of objects can have.\n",
    "\n",
    "When you create individual objects from the class, each object is automatically equipped with the general behavior; you can then give each object whatever unique traits you desire.\n",
    "\n",
    "Making an object from a class is called __instantiation__."
   ]
  },
  {
   "cell_type": "markdown",
   "metadata": {},
   "source": [
    "## Creating and Using a Class"
   ]
  },
  {
   "cell_type": "code",
   "execution_count": 4,
   "metadata": {},
   "outputs": [],
   "source": [
    "# dog class\n",
    "class Dog(): # define a class Dog\n",
    "    def __init__(self, name, age): # initialize name and age attributes, special method \n",
    "        self.name = name # attributes \n",
    "        self.age = age\n",
    "        \n",
    "    def sit(self): # method of class Dog\n",
    "        print(self.name.title() + \" is now sitting.\") # calling attributes of class Dog\n",
    "        \n",
    "    def rollOver(self):\n",
    "        print(self.name.title() + \" rolled over\")\n",
    "        \n",
    "# attributes are Nouns\n",
    "# methods are Verbs\n",
    "# to access attributes and methods in a Class just do: \n",
    "# instanceName.attributeName \n",
    "# instanceName.method "
   ]
  },
  {
   "cell_type": "markdown",
   "metadata": {},
   "source": [
    "__Explanation__\n",
    "\n",
    "By convention, capitalized names refer to classes in Python."
   ]
  },
  {
   "cell_type": "markdown",
   "metadata": {},
   "source": [
    "The parentheses in the class definition are empty because we’re creating this class from scratch __(line 2)__\n",
    "\n",
    "The __init__( ) Method is a function that’s part of a class is a method.\n",
    "\n",
    "The __init__() method at __(line 3)__ is a special method Python runs automatically whenever we create a new instance based on the Dog class.\n",
    "\n",
    "We define the __init__( ) method to have three parameters: self, name, and age.__(line 3)__ The self parameter is required in the method definition, and it must come first before the other parameters.It must be included in the definition __(line 4)__ because when Python calls this __init__( ) method later (to create an instance of Dog), the method call will automatically pass the self argument.\n",
    "\n",
    "_Every method call associated with a class automatically passes self, which is a reference to the instance itself; it gives the individual instance access to the attributes and methods in the class. When we make an instance of Dog, Python will call the __init__() method from the Dog class.We’ll pass Dog() a name and an age as arguments; self is passed automatically, so we don’t need to pass it.Whenever we want to make an instance from the Dog class,\n",
    "we’ll provide values for only the last two parameters, name and age._\n",
    "\n",
    "The two variables defined at __(line 4-5)__ each have the prefix self. Any variable prefixed with self is available to every method in the class, and we’ll also be able to access these variables through any instance created from the class. self.name = name takes the value stored in the parameter name and stores it in the variable name, which is then attached to the instance being created. The same process happens with self.age = age Variables that are accessible through instances like this are called attributes.\n",
    "\n",
    "The Dog class has two other methods defined: sit() and roll_over() __(line7-11)__.Because these methods don’t need additional information like a name or age, we just define them to have one parameter, __self__. The instances we create later will have access to these methods.In other words, they’ll be able to sit and roll over.For now, sit() and roll_over() don’t do much."
   ]
  },
  {
   "cell_type": "markdown",
   "metadata": {},
   "source": [
    "### Making an Instance from a Class\n",
    "\n",
    "Think of a class as a set of instructions for how to make an instance.The class Dog is a set of instructions that tells Python how to make individual instances representing specific dogs."
   ]
  },
  {
   "cell_type": "code",
   "execution_count": 7,
   "metadata": {},
   "outputs": [
    {
     "name": "stdout",
     "output_type": "stream",
     "text": [
      "My dog's name is Zombie.\n",
      "My dog is 3 years old.\n"
     ]
    }
   ],
   "source": [
    "myDog = Dog('zombie', 3) # instance of a class, calling the Dog class and passing on 2 arguments\n",
    "\n",
    "print(\"My dog's name is \" + myDog.name.title() + \".\") # calling attributes of class Dog\n",
    "print(\"My dog is \" + str(myDog.age) + \" years old.\")"
   ]
  },
  {
   "cell_type": "markdown",
   "metadata": {},
   "source": [
    "At __(line 1)__ we tell Python to create a dog whose name is 'zombie' and\n",
    "whose age is 3. When Python reads this line, it calls the __init__( ) method in Dog with the arguments 'zombie' and 3. The __init__( ) method creates an instance representing this particular dog and sets the name and age attributes\n",
    "using the values we provided. The __init__( ) method has no explicit return statement, but Python automatically returns an instance representing this dog.We store that instance in the variable __myDog__. The naming convention is helpful here: we can usually assume that a capitalized name like Dog refers\n",
    "to a __class__, and a camelcase name like __myDog__ refers to a single instance created from a class."
   ]
  },
  {
   "cell_type": "markdown",
   "metadata": {},
   "source": [
    "### Accessing Attributes\n",
    "\n",
    "To access the attributes of an instance, you use __dot notation__. At __(line 3-4)__ we access the value of myDog’s attribute name by writing:"
   ]
  },
  {
   "cell_type": "code",
   "execution_count": 8,
   "metadata": {},
   "outputs": [
    {
     "data": {
      "text/plain": [
       "'zombie'"
      ]
     },
     "execution_count": 8,
     "metadata": {},
     "output_type": "execute_result"
    }
   ],
   "source": [
    "myDog.name # accessing attributes with dot (.) example myDog.name"
   ]
  },
  {
   "cell_type": "markdown",
   "metadata": {},
   "source": [
    "Dot notation is used often in Python.This syntax demonstrates how Python finds an attribute’s value.Here Python looks at the instance myDog and then finds the attribute __name__ associated with myDog.This is the same attribute referred to as __self.name__ in the class Dog."
   ]
  },
  {
   "cell_type": "markdown",
   "metadata": {},
   "source": [
    "### Calling Methods"
   ]
  },
  {
   "cell_type": "markdown",
   "metadata": {},
   "source": [
    "After we create an instance from the class Dog , we can use __dot notation__ to call any method defined in Dog.\n",
    "\n",
    "To call a method, give the name of the __instance__ (in this case, myDog) and the method you want to call, separated by a dot. When Python reads myDog.sit(), it looks for the method sit() in the class Dog and runs that\n",
    "code."
   ]
  },
  {
   "cell_type": "code",
   "execution_count": 1,
   "metadata": {},
   "outputs": [
    {
     "ename": "NameError",
     "evalue": "name 'myDog' is not defined",
     "output_type": "error",
     "traceback": [
      "\u001b[0;31m---------------------------------------------------------------------------\u001b[0m",
      "\u001b[0;31mNameError\u001b[0m                                 Traceback (most recent call last)",
      "\u001b[0;32m<ipython-input-1-3943bfc48e17>\u001b[0m in \u001b[0;36m<module>\u001b[0;34m\u001b[0m\n\u001b[0;32m----> 1\u001b[0;31m \u001b[0mmyDog\u001b[0m\u001b[0;34m.\u001b[0m\u001b[0msit\u001b[0m\u001b[0;34m(\u001b[0m\u001b[0;34m)\u001b[0m \u001b[0;31m# calling a method with dot (.)\u001b[0m\u001b[0;34m\u001b[0m\u001b[0;34m\u001b[0m\u001b[0m\n\u001b[0m\u001b[1;32m      2\u001b[0m \u001b[0mmyDog\u001b[0m\u001b[0;34m.\u001b[0m\u001b[0mrollOver\u001b[0m\u001b[0;34m(\u001b[0m\u001b[0;34m)\u001b[0m\u001b[0;34m\u001b[0m\u001b[0;34m\u001b[0m\u001b[0m\n",
      "\u001b[0;31mNameError\u001b[0m: name 'myDog' is not defined"
     ]
    }
   ],
   "source": [
    "myDog.sit() # calling a method with dot (.)\n",
    "myDog.rollOver() "
   ]
  },
  {
   "cell_type": "markdown",
   "metadata": {},
   "source": [
    "### Creating Multiple Instances"
   ]
  },
  {
   "cell_type": "code",
   "execution_count": 3,
   "metadata": {},
   "outputs": [
    {
     "name": "stdout",
     "output_type": "stream",
     "text": [
      "My dog's name is Zombie.\n",
      "My dog is 3 years old.\n",
      "Zombie is now sitting.\n",
      "\n",
      "Your dog's name is Mary.\n",
      "Your dog is 2 years old.\n",
      "Mary is now sitting.\n"
     ]
    }
   ],
   "source": [
    "# dog class\n",
    "class Dog(): # define a class Dog\n",
    "    def __init__(self, name, age): # initialize name and age attributes, special method \n",
    "        self.name = name # attributes \n",
    "        self.age = age\n",
    "        \n",
    "    def sit(self): # method of class Dog\n",
    "        print(self.name.title() + \" is now sitting.\")\n",
    "        \n",
    "    def rollOver(self):\n",
    "        print(self.name.title() + \" rolled over\")\n",
    "        \n",
    "myDog = Dog('zombie', 3) # instance of a class, calling the Dog class and passing on 2 arguments\n",
    "yourDog = Dog('mary', 2)\n",
    "\n",
    "print(\"My dog's name is \" + myDog.name.title() + \".\") # calling attributes of class Dog\n",
    "print(\"My dog is \" + str(myDog.age) + \" years old.\")\n",
    "myDog.sit() # calling a method sit()\n",
    "\n",
    "print(\"\\nYour dog's name is \" + yourDog.name.title() + \".\")\n",
    "print(\"Your dog is \" + str(yourDog.age) + \" years old.\")\n",
    "yourDog.sit()"
   ]
  },
  {
   "cell_type": "markdown",
   "metadata": {},
   "source": [
    "### Working with Classes and Instances"
   ]
  },
  {
   "cell_type": "markdown",
   "metadata": {},
   "source": [
    "### The Car Class\n",
    "\n",
    "Let’s write a new class representing a car. Our class will store information about the kind of car we’re working with, and it will have a method that summarizes this information"
   ]
  },
  {
   "cell_type": "code",
   "execution_count": 4,
   "metadata": {},
   "outputs": [
    {
     "name": "stdout",
     "output_type": "stream",
     "text": [
      "2016 Audi A4\n"
     ]
    }
   ],
   "source": [
    "class Car():\n",
    "    def __init__(self, make, model, year): # special method\n",
    "        self.make = make # attributes\n",
    "        self.model = model\n",
    "        self.year = year\n",
    "        \n",
    "    def getDescriptiveName(self): # method\n",
    "        longName = str(self.year) + \" \" + self.make + \" \" + self.model\n",
    "        return longName.title()\n",
    "    \n",
    "myNewCar = Car('audi', 'a4', 2016) # an instance of class Car\n",
    "\n",
    "print(myNewCar.getDescriptiveName()) # calling a method "
   ]
  },
  {
   "cell_type": "markdown",
   "metadata": {},
   "source": [
    "__Explanation__\n",
    "\n",
    "The __init__() method takes in these parameters and stores them in the attributes that will be associated with instances made from this class. When we make a new Car instance, we’ll need to specify a make, model, and year for our instance.\n",
    "\n",
    "**line 7** \n",
    "We define a method called **getDescriptiveName()** that puts a car’s year, make, and model into one string neatly describing the car.This will spare us from having to print each attribute’s value individually.To work with the\n",
    "attribute values in this method, we use self.make, self.model, and self.year.\n",
    "\n",
    "**line 11** \n",
    "We make an instance from the **Car class** and store it in the variable **myNewCar**. Then we call **getDescriptiveName()** to show what kind of car we have"
   ]
  },
  {
   "cell_type": "markdown",
   "metadata": {},
   "source": [
    "### Setting a Default Value for an Attribute\n",
    "\n",
    "Every attribute in a class needs an initial value, even if that value is 0 or an empty string. In some cases, such as when setting a default value, it makes sense to specify this initial value in the body of the __init__() method; if you do this for an attribute, you don’t have to include a parameter for that attribute.\n"
   ]
  },
  {
   "cell_type": "code",
   "execution_count": 9,
   "metadata": {},
   "outputs": [
    {
     "name": "stdout",
     "output_type": "stream",
     "text": [
      "2016 Audi A4\n",
      "This car has 0 miles on it.\n"
     ]
    }
   ],
   "source": [
    "class Car():\n",
    "    def __init__(self, make, model, year): # special method\n",
    "        \"\"\"Initialize attributes to describe a car.\"\"\"\n",
    "        self.make = make \n",
    "        self.model = model\n",
    "        self.year = year\n",
    "        self.odometerReading = 0 # default value for odemeterReading attributes\n",
    "        \n",
    "    def getDescriptiveName(self): # method\n",
    "        longName = str(self.year) + \" \" + self.make + \" \" + self.model\n",
    "        return longName.title()\n",
    "    \n",
    "    def readOdometer(self): \n",
    "        \"\"\"print a statement showing the car's mileage\"\"\"\n",
    "        print(\"This car has \" + str(self.odometerReading) + \" miles on it.\")\n",
    "    \n",
    "myNewCar = Car('audi', 'a4', 2016) # an instance of class Car\n",
    "print(myNewCar.getDescriptiveName()) # calling a method \n",
    "\n",
    "myNewCar.readOdometer()"
   ]
  },
  {
   "cell_type": "markdown",
   "metadata": {},
   "source": [
    "__Explanation__\n",
    "\n",
    "when Python calls the __init__() method to create a new instance, it stores the make, model, and year values as attributes like it did in the previous example. Then Python creates a new attribute\n",
    "called **odometerReading** and sets its initial value to __0__. We also have a new method called **readOdometer()** that makes it easy to read a car’s\n",
    "mileage.\n",
    "\n",
    "Our car starts with a mileage of 0:"
   ]
  },
  {
   "cell_type": "markdown",
   "metadata": {},
   "source": [
    "### Modifying Attribute Values\n",
    "You can change an attribute’s value in three ways:\n",
    "1. you can change the value directly through an instance\n",
    "2. set the value through a method\n",
    "3. increment the value (add a certain amount to it) through a method"
   ]
  },
  {
   "cell_type": "markdown",
   "metadata": {},
   "source": [
    "#### Modifying an Attribute’s Value Directly\n",
    "The simplest way to modify the value of an attribute is to access the attri-\n",
    "bute directly through an instance."
   ]
  },
  {
   "cell_type": "code",
   "execution_count": 2,
   "metadata": {},
   "outputs": [
    {
     "name": "stdout",
     "output_type": "stream",
     "text": [
      "2016 Audi A4\n",
      "This car has 23 miles on it.\n"
     ]
    }
   ],
   "source": [
    "\"\"\"modifying an attribute's value directly\"\"\"\n",
    "\n",
    "class Car():\n",
    "    def __init__(self, make, model, year): # special method\n",
    "        \"\"\"Initialize attributes to describe a car.\"\"\"\n",
    "        self.make = make \n",
    "        self.model = model\n",
    "        self.year = year\n",
    "        self.odometerReading = 0 # default value for odemeterReading attributes\n",
    "        \n",
    "    def getDescriptiveName(self): # method\n",
    "        longName = str(self.year) + \" \" + self.make + \" \" + self.model\n",
    "        return longName.title()\n",
    "    \n",
    "    def readOdometer(self): \n",
    "        \"\"\"print a statement showing the car's mileage\"\"\"\n",
    "        print(\"This car has \" + str(self.odometerReading) + \" miles on it.\")\n",
    "    \n",
    "myNewCar = Car('audi', 'a4', 2016) # an instance of class Car\n",
    "print(myNewCar.getDescriptiveName()) # calling a method \n",
    "\n",
    "myNewCar.odometerReading = 23 # attribute modified directly \n",
    "myNewCar.readOdometer()"
   ]
  },
  {
   "cell_type": "markdown",
   "metadata": {},
   "source": [
    "__Explanation__\n",
    "\n",
    "**line 22** we use dot notation to access the car’s __odometerReading__ and set its value directly.This line tells Python to take the instance\n",
    "__myNewCar__, find the attribute __odometerReading__ associated with it, and set the value of that attribute to 23"
   ]
  },
  {
   "cell_type": "markdown",
   "metadata": {},
   "source": [
    "#### Modifying an Attribute’s Value Through a Method\n",
    "It can be helpful to have methods that update certain attributes for you. Instead of accessing the attribute directly, you pass the new value to a method that handles the updating internally."
   ]
  },
  {
   "cell_type": "code",
   "execution_count": 5,
   "metadata": {},
   "outputs": [
    {
     "name": "stdout",
     "output_type": "stream",
     "text": [
      "2016 Audi A4\n",
      "This car has 23 miles on it.\n"
     ]
    }
   ],
   "source": [
    "\"\"\"Modifying an Attribute’s Value Through a Method\"\"\"\n",
    "\n",
    "class Car():\n",
    "    def __init__(self, make, model, year): # special method\n",
    "        \"\"\"Initialize attributes to describe a car.\"\"\"\n",
    "        self.make = make \n",
    "        self.model = model\n",
    "        self.year = year\n",
    "        self.odometerReading = 0 # default value for odemeterReading attributes\n",
    "        \n",
    "    def getDescriptiveName(self): # method\n",
    "        longName = str(self.year) + \" \" + self.make + \" \" + self.model\n",
    "        return longName.title()\n",
    "    \n",
    "    def readOdometer(self): \n",
    "        \"\"\"print a statement showing the car's mileage\"\"\"\n",
    "        print(\"This car has \" + str(self.odometerReading) + \" miles on it.\")\n",
    "        \n",
    "    def updateOdometer(self, mileage): # attribute modified through a method\n",
    "        \"\"\"Set the odometer reading to the given value\"\"\"\n",
    "        self.odometerReading = mileage\n",
    "    \n",
    "myNewCar = Car('audi', 'a4', 2016) # an instance of class Car\n",
    "print(myNewCar.getDescriptiveName()) # calling a method \n",
    "\n",
    "myNewCar.updateOdometer(23) # attribute updated by calling a method\n",
    "myNewCar.readOdometer()"
   ]
  },
  {
   "cell_type": "markdown",
   "metadata": {},
   "source": [
    "The only modification to __Car__ is the addition of __updateOdometer__ method. This method takes in a _mileage_ value and stores it in _self.odometerReading_. We call  __updateOdometer ()__ and give it _23_ as an argument (corresponding\n",
    "to the mileage parameter in the method definition). It sets the _odometerReading_ to 23, and readOdometer() prints the reading"
   ]
  },
  {
   "cell_type": "markdown",
   "metadata": {},
   "source": [
    "We can extend the method updateOdometer() to do additional work every time the odometer reading is modified. Let’s add a little logic to make sure no one tries to roll back the odometer reading"
   ]
  },
  {
   "cell_type": "code",
   "execution_count": 26,
   "metadata": {},
   "outputs": [
    {
     "name": "stdout",
     "output_type": "stream",
     "text": [
      "2016 Audi A4\n",
      "This car has 23 miles on it.\n"
     ]
    }
   ],
   "source": [
    "\"\"\"add a little logic to make sure no one tries to roll back the odometer reading\"\"\"\n",
    "\n",
    "class Car():\n",
    "    def __init__(self, make, model, year): # special method\n",
    "        \"\"\"Initialize attributes to describe a car.\"\"\"\n",
    "        self.make = make \n",
    "        self.model = model\n",
    "        self.year = year\n",
    "        self.odometerReading = 0 # default value for odemeterReading attributes\n",
    "        \n",
    "    def getDescriptiveName(self): # method\n",
    "        longName = str(self.year) + \" \" + self.make + \" \" + self.model\n",
    "        return longName.title()\n",
    "    \n",
    "    def readOdometer(self): \n",
    "        \"\"\"print a statement showing the car's mileage\"\"\"\n",
    "        print(\"This car has \" + str(self.odometerReading) + \" miles on it.\")\n",
    "        \n",
    "    def updateOdometer(self, mileage): # attribute modified through a method\n",
    "        \"\"\"\n",
    "        Set the odometer reading to the given \n",
    "        Reject the change if it attempts to roll the odometer backvalue.\n",
    "        \"\"\"\n",
    "        if mileage >= self.odometerReading:\n",
    "            self.odometerReading = mileage\n",
    "        else:\n",
    "            print(\"You can't roll back odometer\")\n",
    "    \n",
    "myNewCar = Car('audi', 'a4', 2016) # an instance of class Car\n",
    "print(myNewCar.getDescriptiveName()) # calling a method \n",
    "\n",
    "myNewCar.updateOdometer(23) # attribute updated by calling a method\n",
    "myNewCar.readOdometer()\n",
    "\n",
    "# to see changes change the value of self.odometerReading to less than 23 and greater than 23"
   ]
  },
  {
   "cell_type": "markdown",
   "metadata": {},
   "source": [
    "#### Incrementing an Attribute’s Value Through a Method\n",
    "Sometimes you’ll want to increment an attribute’s value by a certain amount rather than set an entirely new value. Say we buy a used car and put 100 miles on it between the time we buy it and the time we register it."
   ]
  },
  {
   "cell_type": "code",
   "execution_count": 30,
   "metadata": {},
   "outputs": [
    {
     "name": "stdout",
     "output_type": "stream",
     "text": [
      "2013 Subaru Outback\n",
      "This car has 23500 miles on it.\n",
      "This car has 23600 miles on it.\n"
     ]
    }
   ],
   "source": [
    "\"\"\"Incrementing an Attribute’s Value Through a Method\"\"\"\n",
    "\n",
    "class Car():\n",
    "    def __init__(self, make, model, year): # special method\n",
    "        \"\"\"Initialize attributes to describe a car.\"\"\"\n",
    "        self.make = make \n",
    "        self.model = model\n",
    "        self.year = year\n",
    "        self.odometerReading = 0 # default value for odemeterReading attributes\n",
    "        \n",
    "    def getDescriptiveName(self): # method\n",
    "        longName = str(self.year) + \" \" + self.make + \" \" + self.model\n",
    "        return longName.title()\n",
    "    \n",
    "    def readOdometer(self): \n",
    "        \"\"\"print a statement showing the car's mileage\"\"\"\n",
    "        print(\"This car has \" + str(self.odometerReading) + \" miles on it.\")\n",
    "        \n",
    "    def updateOdometer(self, mileage): # attribute modified through a method\n",
    "        \"\"\"Set the odometer reading to the given value\"\"\"\n",
    "        self.odometerReading = mileage\n",
    "        \n",
    "    def incrementOdometer(self, miles):\n",
    "        self.odometerReading += miles # attribute incremented through a method\n",
    "    \n",
    "myUsedCar = Car('Subaru', 'outback', 2013)\n",
    "print(myUsedCar.getDescriptiveName())\n",
    "\n",
    "myUsedCar.updateOdometer(23500)\n",
    "myUsedCar.readOdometer()\n",
    "\n",
    "myUsedCar.incrementOdometer(100)\n",
    "myUsedCar.readOdometer()"
   ]
  },
  {
   "cell_type": "markdown",
   "metadata": {},
   "source": [
    "__Explanation__\n",
    "\n",
    "The new method __incrementOdometer()__takes in a number of miles, and adds this value to self.odometerReading. We create a used car, __myUsedCar__. We set its odometer to 23,500 by calling _updateOdometer()_ method and passing it 23500. We call __incrementOdometer()__ and pass it 100 to add the 100 miles that we drove between buying the car and registering it:"
   ]
  },
  {
   "cell_type": "markdown",
   "metadata": {},
   "source": [
    "### Inheritance"
   ]
  },
  {
   "cell_type": "markdown",
   "metadata": {},
   "source": [
    "When one class inherits from another, it automatically takes on all the attributes and methods of the first class.\n",
    "The original class is called the parent class, and the new class is the child class. The child class inherits every attribute and method from its parent class but is also free to define new attributes and methods of its own."
   ]
  },
  {
   "cell_type": "markdown",
   "metadata": {},
   "source": [
    "#### The __init__() Method for a Child Class\n",
    "The first task Python has when creating an instance from a child class is to assign values to all attributes in the parent class. To do this, the __init__() method for a child class needs help from its parent class."
   ]
  },
  {
   "cell_type": "code",
   "execution_count": 2,
   "metadata": {},
   "outputs": [
    {
     "name": "stdout",
     "output_type": "stream",
     "text": [
      "2016 Tesla Model S\n"
     ]
    }
   ],
   "source": [
    "class Car():\n",
    "    \"\"\"A simple attempt to represent a car\"\"\"\n",
    "    \n",
    "    def __init__(self, make, model, year):\n",
    "        self.make = make\n",
    "        self.model = model\n",
    "        self.year = year\n",
    "        self.odemeterReading = 0\n",
    "        \n",
    "    def getDescriptiveName(self):\n",
    "        logName = str(self.year) + ' ' + self.make + ' ' + self.model\n",
    "        return logName.title()\n",
    "    \n",
    "    def readOdemeter(self):\n",
    "        print(\"This car has \" + str(self.odemeterReading) + \" miles on it\")\n",
    "        \n",
    "    def updateOdemeter(self, mileage):\n",
    "        if mileage >= self.odemeterReading:\n",
    "            self.odemeterReading = mileage\n",
    "        else:\n",
    "            print(\"You can't roll back an Odemeter!\")\n",
    "    \n",
    "    def incrementOdemeter(self, miles):\n",
    "        self.odemeterReading += miles\n",
    "        \n",
    "class ElecricCar(Car): # inheritance \n",
    "    \"\"\"Represent aspects of a car, specific to electric vehicles.\"\"\"\n",
    "    \n",
    "    def __init__(self, make, model, year):\n",
    "        \"\"\"Initialize attributes of the parent class.\"\"\"\n",
    "        super().__init__(make, model, year)\n",
    "        \n",
    "myTesla = ElecricCar(\"Tesla\", \"Model S\", 2016) # instace of a class\n",
    "print(myTesla.getDescriptiveName())"
   ]
  },
  {
   "cell_type": "markdown",
   "metadata": {},
   "source": [
    "__Explanation__\n",
    "\n",
    "At _line 1_ we start with Car . When you create a child class, the parent class\n",
    "must be part of the current file and must appear before the child class in\n",
    "the file. At _ine 25_ we define the child class, ElectricCar . The name of the parent\n",
    "class must be included in parentheses in the definition of the child class.\n",
    "The __init__() method at _line 28_ takes in the information required to make a Car\n",
    "instance.\n",
    "The __super() function__ at _line 30_ is a special function that helps Python make\n",
    "connections between the parent and child class. This line tells Python to\n",
    "call the __init__() method from ElectricCar ’s parent class, which gives an\n",
    "ElectricCar instance all the attributes of its parent class. The name super\n",
    "comes from a convention of calling the parent class a superclass and the\n",
    "child class a subclass."
   ]
  },
  {
   "cell_type": "markdown",
   "metadata": {},
   "source": [
    "#### Defining Attributes and Methods for the Child Class"
   ]
  },
  {
   "cell_type": "markdown",
   "metadata": {},
   "source": [
    "Once you have a child class that inherits from a parent class, you can add\n",
    "any new attributes and methods necessary to differentiate the child class\n",
    "from the parent class.\n",
    "Let’s add an attribute that’s specific to electric cars (a battery, for\n",
    "example) and a method to report on this attribute. We’ll store the battery\n",
    "size and write a method that prints a description of the battery:"
   ]
  },
  {
   "cell_type": "code",
   "execution_count": 3,
   "metadata": {},
   "outputs": [
    {
     "name": "stdout",
     "output_type": "stream",
     "text": [
      "2016 Tesla Model S\n",
      "This car has a 70-kWh battery.\n"
     ]
    }
   ],
   "source": [
    "class Car():\n",
    "    \"\"\"A simple attempt to represent a car\"\"\"\n",
    "    \n",
    "    def __init__(self, make, model, year):\n",
    "        self.make = make\n",
    "        self.model = model\n",
    "        self.year = year\n",
    "        self.odemeterReading = 0\n",
    "        \n",
    "    def getDescriptiveName(self):\n",
    "        logName = str(self.year) + ' ' + self.make + ' ' + self.model\n",
    "        return logName.title()\n",
    "    \n",
    "    def readOdemeter(self):\n",
    "        print(\"This car has \" + str(self.odemeterReading) + \" miles on it\")\n",
    "        \n",
    "    def updateOdemeter(self, mileage):\n",
    "        if mileage >= self.odemeterReading:\n",
    "            self.odemeterReading = mileage\n",
    "        else:\n",
    "            print(\"You can't roll back an Odemeter!\")\n",
    "    \n",
    "    def incrementOdemeter(self, miles):\n",
    "        self.odemeterReading += miles\n",
    "        \n",
    "class ElectricCar(Car): # inheritance \n",
    "    \"\"\"Represent aspects of a car, specific to electric vehicles.\"\"\"\n",
    "    \n",
    "    def __init__(self, make, model, year):\n",
    "        \"\"\"\n",
    "        Initialize attributes of the parent class\n",
    "        Then initialize attributes specific to an electric car.\n",
    "        \"\"\"\n",
    "        super().__init__(make, model, year) # special method for inheritance\n",
    "        self.batterySize = 70\n",
    "        \n",
    "    def describeBattery(self):\n",
    "        print(\"This car has a \" + str(self.batterySize) + \"-kWh battery.\")\n",
    "        \n",
    "myTesla = ElectricCar(\"Tesla\", \"Model S\", 2016) # instace of a class\n",
    "print(myTesla.getDescriptiveName())\n",
    "myTesla.describeBattery()"
   ]
  },
  {
   "cell_type": "markdown",
   "metadata": {},
   "source": [
    "__Explanation__\n",
    "\n",
    "We add a new attribute __self.batterySize__ and set its initial value to,\n",
    "say, 70 . This attribute will be associated with all instances created from the\n",
    "ElectricCar class but won’t be associated with any instances of Car . We also\n",
    "add a method called __describeBattery()__ that prints information about the\n",
    "battery. When we call this method, we get a description that is clearly\n",
    "specific to an electric car\n"
   ]
  },
  {
   "cell_type": "markdown",
   "metadata": {},
   "source": [
    "#### Overriding Methods from the Parent Class"
   ]
  },
  {
   "cell_type": "markdown",
   "metadata": {},
   "source": [
    "You can override any method from the parent class that doesn’t fit what\n",
    "you’re trying to model with the child class. To do this, you define a method\n",
    "in the child class with the same name as the method you want to override\n",
    "in the parent class. Python will disregard the parent class method and only\n",
    "pay attention to the method you define in the child class.\n",
    "Say the class __Car__ had a method called __fillGasTank().__ This method is\n",
    "meaningless for an all-electric vehicle, so you might want to override this\n",
    "method.\n",
    "\n",
    "Now if someone tries to call __fillGasTank().__  with an electric car, Python\n",
    "will ignore the method __fillGasTank().__  in __Car__ and run this code instead. When\n",
    "you use inheritance, you can make your child classes retain what you need\n",
    "and override anything you don’t need from the parent class.\n",
    "\n"
   ]
  },
  {
   "cell_type": "markdown",
   "metadata": {},
   "source": [
    "#### Instances as Attributes"
   ]
  },
  {
   "cell_type": "markdown",
   "metadata": {},
   "source": [
    "When modeling something from the real world in code, you may find that\n",
    "you’re adding more and more detail to a class. You’ll find that you have a\n",
    "growing list of attributes and methods and that your files are becoming\n",
    "lengthy. In these situations, you might recognize that part of one class can\n",
    "be written as a separate class. You can break your large class into smaller\n",
    "classes that work together."
   ]
  },
  {
   "cell_type": "code",
   "execution_count": 10,
   "metadata": {},
   "outputs": [
    {
     "name": "stdout",
     "output_type": "stream",
     "text": [
      "2016 Tesla Model S\n",
      "This car has a 70-kWh battery\n"
     ]
    }
   ],
   "source": [
    "class Car():\n",
    "    \"\"\"A simple attempt to represent a car\"\"\"\n",
    "    \n",
    "    def __init__(self, make, model, year):\n",
    "        self.make = make\n",
    "        self.model = model\n",
    "        self.year = year\n",
    "        self.odemeterReading = 0\n",
    "        \n",
    "    def getDescriptiveName(self):\n",
    "        logName = str(self.year) + ' ' + self.make + ' ' + self.model\n",
    "        return logName.title()\n",
    "    \n",
    "    def readOdemeter(self):\n",
    "        print(\"This car has \" + str(self.odemeterReading) + \" miles on it\")\n",
    "        \n",
    "    def updateOdemeter(self, mileage):\n",
    "        if mileage >= self.odemeterReading:\n",
    "            self.odemeterReading = mileage\n",
    "        else:\n",
    "            print(\"You can't roll back an Odemeter!\")\n",
    "    \n",
    "    def incrementOdemeter(self, miles):\n",
    "        self.odemeterReading += miles\n",
    "        \n",
    "class Battery():\n",
    "    \"\"\"A simple attempt to model a battery for an electric car\"\"\"\n",
    "    \n",
    "    def __init__(self, batterySize=70):\n",
    "        \"\"\"Initialize the battery's attributes\"\"\"\n",
    "        self.batterySize = batterySize\n",
    "        \n",
    "    def describeBattery(self):\n",
    "        print(\"This car has a \" + str(self.batterySize) + \"-kWh battery\")\n",
    "        \n",
    "class ElectricCar(Car): # inheritance \n",
    "    \"\"\"Represent aspects of a car, specific to electric vehicles.\"\"\"\n",
    "    \n",
    "    def __init__(self, make, model, year):\n",
    "        \"\"\"\n",
    "        Initialize attributes of the parent class\n",
    "        Then initialize attributes specific to an electric car.\n",
    "        \"\"\"\n",
    "        super().__init__(make, model, year) # special method for inheritance\n",
    "        self.battery = Battery()\n",
    "        \n",
    "myTesla = ElectricCar(\"Tesla\", \"Model S\", 2016) # instace of a class\n",
    "print(myTesla.getDescriptiveName())\n",
    "myTesla.battery.describeBattery() # calling battery attribute and Battery's method"
   ]
  },
  {
   "cell_type": "markdown",
   "metadata": {},
   "source": [
    "__Explanation__\n",
    "\n",
    "We define a new class called ***Battery*** that doesn’t inherit from any\n",
    "other class. The ***__init__()*** method that has one parameter, ***batterySize*** , in\n",
    "addition to self. This is an optional parameter that sets the battery’s size to\n",
    "70 if no value is provided. The method ***describeBattery()*** has been moved\n",
    "to this class as well.\n",
    "\n",
    "In the ***ElectricCar class***, we now add an attribute called ***self.battery***.\n",
    "This line tells Python to create a new instance of Battery (with a default size\n",
    "of 70, because we’re not specifying a value) and store that instance in the\n",
    "attribute ***self.battery***. This will happen every time the ***__init__()*** method\n",
    "is called; any ***ElectricCar*** instance will now have a ***Battery*** instance created\n",
    "automatically. We create an electric car and store it in the variable ***myTesla***. When\n",
    "we want to describe the battery, we need to work through the car’s battery\n",
    "attribute."
   ]
  },
  {
   "cell_type": "code",
   "execution_count": 11,
   "metadata": {},
   "outputs": [
    {
     "name": "stdout",
     "output_type": "stream",
     "text": [
      "This car has a 70-kWh battery\n"
     ]
    }
   ],
   "source": [
    "myTesla.battery.describeBattery() # calling battery attribute and Battery's method"
   ]
  },
  {
   "cell_type": "markdown",
   "metadata": {},
   "source": [
    "__Explanation__\n",
    "\n",
    "This line tells Python to look at the instance ***myTesla*** , find its __battery__\n",
    "attribute, and call the method ___describeBattery()___ that’s associated with the\n",
    "__Battery__ instance stored in the attribute."
   ]
  },
  {
   "cell_type": "code",
   "execution_count": 12,
   "metadata": {},
   "outputs": [
    {
     "name": "stdout",
     "output_type": "stream",
     "text": [
      "2016 Tesla Model S\n",
      "This car has a 70-kWh battery\n",
      "This car can go approximately 240 miles on a full charge\n"
     ]
    }
   ],
   "source": [
    "class Car():\n",
    "    \"\"\"A simple attempt to represent a car\"\"\"\n",
    "    \n",
    "    def __init__(self, make, model, year):\n",
    "        self.make = make\n",
    "        self.model = model\n",
    "        self.year = year\n",
    "        self.odemeterReading = 0\n",
    "        \n",
    "    def getDescriptiveName(self):\n",
    "        logName = str(self.year) + ' ' + self.make + ' ' + self.model\n",
    "        return logName.title()\n",
    "    \n",
    "    def readOdemeter(self):\n",
    "        print(\"This car has \" + str(self.odemeterReading) + \" miles on it\")\n",
    "        \n",
    "    def updateOdemeter(self, mileage):\n",
    "        if mileage >= self.odemeterReading:\n",
    "            self.odemeterReading = mileage\n",
    "        else:\n",
    "            print(\"You can't roll back an Odemeter!\")\n",
    "    \n",
    "    def incrementOdemeter(self, miles):\n",
    "        self.odemeterReading += miles\n",
    "        \n",
    "class Battery():\n",
    "    \"\"\"A simple attempt to model a battery for an electric car\"\"\"\n",
    "    \n",
    "    def __init__(self, batterySize=70):\n",
    "        \"\"\"Initialize the battery's attributes\"\"\"\n",
    "        self.batterySize = batterySize\n",
    "        \n",
    "    def describeBattery(self):\n",
    "        print(\"This car has a \" + str(self.batterySize) + \"-kWh battery\")\n",
    "        \n",
    "    def getRange(self):\n",
    "        \"\"\"Print a statement about the range this battery provides.\"\"\"\n",
    "        if self.batterySize == 70:\n",
    "            range = 240\n",
    "        elif self.batterySize == 85:\n",
    "            range = 270\n",
    "            \n",
    "        message = \"This car can go approximately \" + str(range)\n",
    "        message += \" miles on a full charge\"\n",
    "        print(message)\n",
    "        \n",
    "class ElectricCar(Car): # inheritance \n",
    "    \"\"\"Represent aspects of a car, specific to electric vehicles.\"\"\"\n",
    "    \n",
    "    def __init__(self, make, model, year):\n",
    "        \"\"\"\n",
    "        Initialize attributes of the parent class\n",
    "        Then initialize attributes specific to an electric car.\n",
    "        \"\"\"\n",
    "        super().__init__(make, model, year) # special method for inheritance\n",
    "        self.battery = Battery()\n",
    "        \n",
    "myTesla = ElectricCar(\"Tesla\", \"Model S\", 2016) # instace of a class\n",
    "print(myTesla.getDescriptiveName())\n",
    "myTesla.battery.describeBattery() # calling battery attribute and Battery's method\n",
    "myTesla.battery.getRange()"
   ]
  },
  {
   "cell_type": "markdown",
   "metadata": {},
   "source": [
    "__Explanation__\n",
    "\n",
    "The new method ***getRange()*** performs some simple analysis. If the\n",
    "battery’s capacity is 70 kWh, ***getRange()*** sets the range to 240 miles, and if\n",
    "the capacity is 85 kWh, it sets the range to 270 miles. It then reports this\n",
    "value. When we want to use this method, we again have to call it through\n",
    "the car’s battery attribute."
   ]
  },
  {
   "cell_type": "markdown",
   "metadata": {},
   "source": [
    "### Importing Classes\n",
    "### Importing a Single Class"
   ]
  },
  {
   "cell_type": "code",
   "execution_count": 13,
   "metadata": {},
   "outputs": [
    {
     "ename": "ModuleNotFoundError",
     "evalue": "No module named 'car'",
     "output_type": "error",
     "traceback": [
      "\u001b[0;31m---------------------------------------------------------------------------\u001b[0m",
      "\u001b[0;31mModuleNotFoundError\u001b[0m                       Traceback (most recent call last)",
      "\u001b[0;32m<ipython-input-13-3282b2cc0372>\u001b[0m in \u001b[0;36m<module>\u001b[0;34m\u001b[0m\n\u001b[0;32m----> 1\u001b[0;31m \u001b[0;32mfrom\u001b[0m \u001b[0mcar\u001b[0m \u001b[0;32mimport\u001b[0m \u001b[0mCar\u001b[0m\u001b[0;34m\u001b[0m\u001b[0;34m\u001b[0m\u001b[0m\n\u001b[0m\u001b[1;32m      2\u001b[0m \u001b[0;34m\u001b[0m\u001b[0m\n\u001b[1;32m      3\u001b[0m \u001b[0mmyNewCar\u001b[0m \u001b[0;34m=\u001b[0m \u001b[0mCar\u001b[0m\u001b[0;34m(\u001b[0m\u001b[0;34m'audi'\u001b[0m\u001b[0;34m,\u001b[0m \u001b[0;34m'a4'\u001b[0m\u001b[0;34m,\u001b[0m \u001b[0;36m2016\u001b[0m\u001b[0;34m)\u001b[0m\u001b[0;34m\u001b[0m\u001b[0;34m\u001b[0m\u001b[0m\n\u001b[1;32m      4\u001b[0m \u001b[0mprint\u001b[0m\u001b[0;34m(\u001b[0m\u001b[0mmyNewCar\u001b[0m\u001b[0;34m.\u001b[0m\u001b[0mgetDescriptiveName\u001b[0m\u001b[0;34m(\u001b[0m\u001b[0;34m)\u001b[0m\u001b[0;34m)\u001b[0m\u001b[0;34m\u001b[0m\u001b[0;34m\u001b[0m\u001b[0m\n\u001b[1;32m      5\u001b[0m \u001b[0;34m\u001b[0m\u001b[0m\n",
      "\u001b[0;31mModuleNotFoundError\u001b[0m: No module named 'car'"
     ]
    }
   ],
   "source": [
    "from car import Car # importing the Car class from car.py file\n",
    "\n",
    "myNewCar = Car('audi', 'a4', 2016)\n",
    "print(myNewCar.getDescriptiveName())\n",
    "\n",
    "myNewCar.odemeterReading = 23\n",
    "myNewCar.readOdemeter()"
   ]
  },
  {
   "cell_type": "markdown",
   "metadata": {},
   "source": [
    "__Explanation__\n",
    "\n",
    "The import statement tells Python to open the car module and\n",
    "import the class Car . Now we can use the Car class as if it were defined in\n",
    "this file.\n"
   ]
  },
  {
   "cell_type": "markdown",
   "metadata": {},
   "source": [
    "### Storing Multiple Classes in a Module"
   ]
  },
  {
   "cell_type": "markdown",
   "metadata": {},
   "source": [
    "You can store as many classes as you need in a single module, although\n",
    "each class in a module should be related somehow.\n"
   ]
  },
  {
   "cell_type": "code",
   "execution_count": 14,
   "metadata": {},
   "outputs": [
    {
     "ename": "ModuleNotFoundError",
     "evalue": "No module named 'car'",
     "output_type": "error",
     "traceback": [
      "\u001b[0;31m---------------------------------------------------------------------------\u001b[0m",
      "\u001b[0;31mModuleNotFoundError\u001b[0m                       Traceback (most recent call last)",
      "\u001b[0;32m<ipython-input-14-7556f5687d9c>\u001b[0m in \u001b[0;36m<module>\u001b[0;34m\u001b[0m\n\u001b[0;32m----> 1\u001b[0;31m \u001b[0;32mfrom\u001b[0m \u001b[0mcar\u001b[0m \u001b[0;32mimport\u001b[0m \u001b[0mElecrticCar\u001b[0m\u001b[0;34m\u001b[0m\u001b[0;34m\u001b[0m\u001b[0m\n\u001b[0m\u001b[1;32m      2\u001b[0m \u001b[0;34m\u001b[0m\u001b[0m\n\u001b[1;32m      3\u001b[0m \u001b[0mmyTesla\u001b[0m \u001b[0;34m=\u001b[0m \u001b[0mElectricCar\u001b[0m\u001b[0;34m(\u001b[0m\u001b[0;34m\"Tesla\"\u001b[0m\u001b[0;34m,\u001b[0m \u001b[0;34m\"Model S\"\u001b[0m\u001b[0;34m,\u001b[0m \u001b[0;36m2016\u001b[0m\u001b[0;34m)\u001b[0m \u001b[0;31m# instace of a class\u001b[0m\u001b[0;34m\u001b[0m\u001b[0;34m\u001b[0m\u001b[0m\n\u001b[1;32m      4\u001b[0m \u001b[0;34m\u001b[0m\u001b[0m\n\u001b[1;32m      5\u001b[0m \u001b[0mprint\u001b[0m\u001b[0;34m(\u001b[0m\u001b[0mmyTesla\u001b[0m\u001b[0;34m.\u001b[0m\u001b[0mgetDescriptiveName\u001b[0m\u001b[0;34m(\u001b[0m\u001b[0;34m)\u001b[0m\u001b[0;34m)\u001b[0m\u001b[0;34m\u001b[0m\u001b[0;34m\u001b[0m\u001b[0m\n",
      "\u001b[0;31mModuleNotFoundError\u001b[0m: No module named 'car'"
     ]
    }
   ],
   "source": [
    "from car import ElecrticCar\n",
    "\n",
    "myTesla = ElectricCar(\"Tesla\", \"Model S\", 2016) # instace of a class\n",
    "\n",
    "print(myTesla.getDescriptiveName())\n",
    "myTesla.battery.describeBattery() # calling battery attribute and Battery's method\n",
    "myTesla.battery.getRange()"
   ]
  },
  {
   "cell_type": "markdown",
   "metadata": {},
   "source": [
    "### Importing Multiple Classes from a Module"
   ]
  },
  {
   "cell_type": "code",
   "execution_count": null,
   "metadata": {},
   "outputs": [],
   "source": [
    "from car import Car, ElectricCar\n",
    "\n",
    "myBeetle = Car('volkswagen', 'beetle', 2016)\n",
    "print(myBeetle.getDescriptiveName())\n",
    "\n",
    "myTesla = ElectricCar('tesla', 'roadster', 2016)\n",
    "print(my_tesla.getDescriptiveName())"
   ]
  },
  {
   "cell_type": "markdown",
   "metadata": {},
   "source": [
    "### Importing an Entire Module"
   ]
  },
  {
   "cell_type": "markdown",
   "metadata": {},
   "source": [
    "You can also import an entire module and then access the classes you need\n",
    "using dot notation. This approach is simple and results in code that is easy\n",
    "to read. Because every call that creates an instance of a class includes the\n",
    "module name, you won’t have naming conflicts with any names used in the\n",
    "current file."
   ]
  },
  {
   "cell_type": "code",
   "execution_count": null,
   "metadata": {},
   "outputs": [],
   "source": [
    "import car\n",
    "\n",
    "myBeetle = car.Car('volkswagen', 'beetle', 2016) # accessing the class using dot notation\n",
    "print(myBeetle.getDescriptiveName())\n",
    "\n",
    "myTesla = car.ElectricCar('tesla', 'roadster', 2016)\n",
    "print(my_tesla.getDescriptiveName())"
   ]
  },
  {
   "cell_type": "markdown",
   "metadata": {},
   "source": [
    "### Importing All Classes from a Module"
   ]
  },
  {
   "cell_type": "code",
   "execution_count": 15,
   "metadata": {},
   "outputs": [
    {
     "ename": "ModuleNotFoundError",
     "evalue": "No module named 'car'",
     "output_type": "error",
     "traceback": [
      "\u001b[0;31m---------------------------------------------------------------------------\u001b[0m",
      "\u001b[0;31mModuleNotFoundError\u001b[0m                       Traceback (most recent call last)",
      "\u001b[0;32m<ipython-input-15-465c4d7e9487>\u001b[0m in \u001b[0;36m<module>\u001b[0;34m\u001b[0m\n\u001b[0;32m----> 1\u001b[0;31m \u001b[0;32mfrom\u001b[0m \u001b[0mcar\u001b[0m \u001b[0;32mimport\u001b[0m \u001b[0;34m*\u001b[0m\u001b[0;34m\u001b[0m\u001b[0;34m\u001b[0m\u001b[0m\n\u001b[0m",
      "\u001b[0;31mModuleNotFoundError\u001b[0m: No module named 'car'"
     ]
    }
   ],
   "source": [
    "from car import *"
   ]
  },
  {
   "cell_type": "markdown",
   "metadata": {},
   "source": [
    "__Explanation__\n",
    "\n",
    "This method is not recommended for two reasons. First, it’s helpful\n",
    "to be able to read the import statements at the top of a file and get a clear\n",
    "sense of which classes a program uses. With this approach it’s unclear which\n",
    "classes you’re using from the module. This approach can also lead to confu-\n",
    "sion with names in the file. If you accidentally import a class with the same\n",
    "name as something else in your program file, you can create errors that are\n",
    "hard to diagnose."
   ]
  },
  {
   "cell_type": "markdown",
   "metadata": {},
   "source": [
    "### Importing a Module into a Module"
   ]
  },
  {
   "cell_type": "markdown",
   "metadata": {},
   "source": [
    "When you store your classes in several modules,\n",
    "you may find that a class in one module depends on a class in another module. When this happens, you can import the required class into the first\n",
    "module"
   ]
  },
  {
   "cell_type": "code",
   "execution_count": null,
   "metadata": {},
   "outputs": [],
   "source": [
    "from car import Car\n",
    "from electricCar import ElectricCar\n",
    "\n",
    "myBeetle = Car('volkswagen', 'beetle', 2016)\n",
    "print(my_beetle.getDescriptiveName())\n",
    "myTesla = ElectricCar('tesla', 'roadster', 2016)\n",
    "print(myTesla.getDescriptiveName())"
   ]
  },
  {
   "cell_type": "markdown",
   "metadata": {},
   "source": [
    "__Finding Your Own Workflow__\n",
    "\n",
    "As you can see, Python gives you many options for how to structure code\n",
    "in a large project. It’s important to know all these possibilities so you can\n",
    "determine the best ways to organize your projects as well as understand\n",
    "other people’s projects.\n",
    "When you’re starting out, keep your code structure simple. Try\n",
    "doing everything in one file and moving your classes to separate modules\n",
    "once everything is working. If you like how modules and files interact, try\n",
    "storing your classes in modules when you start a project. Find an approach\n",
    "that lets you write code that works, and go from there."
   ]
  },
  {
   "cell_type": "markdown",
   "metadata": {},
   "source": [
    "### The Python Standard Library"
   ]
  },
  {
   "cell_type": "markdown",
   "metadata": {},
   "source": [
    "The Python standard library is a set of modules included with every Python\n",
    "installation."
   ]
  },
  {
   "cell_type": "code",
   "execution_count": 19,
   "metadata": {},
   "outputs": [
    {
     "name": "stdout",
     "output_type": "stream",
     "text": [
      "Jen's favorite language is Python.\n",
      "Sarah's favorite language is C.\n",
      "Edward's favorite language is Ruby.\n",
      "Phil's favorite language is Python.\n"
     ]
    }
   ],
   "source": [
    "from collections import OrderedDict\n",
    "\n",
    "favoriteLanguages = OrderedDict()\n",
    "\n",
    "favoriteLanguages['jen'] = 'python'\n",
    "favoriteLanguages['sarah'] = 'c'\n",
    "favoriteLanguages['edward'] = 'ruby'\n",
    "favoriteLanguages['phil'] = 'python'\n",
    "\n",
    "for name, language in favoriteLanguages.items(): \n",
    "    print(name.title() + \"'s favorite language is \" + language.title() + \".\")\n"
   ]
  },
  {
   "cell_type": "markdown",
   "metadata": {},
   "source": [
    "__Explanation__\n",
    "\n",
    "We begin by importing the ***OrderedDict*** class from the module\n",
    "***collections***. We create an instance of the OrderedDict class\n",
    "and store this instance in _favoriteLanguages_ . Notice there are no curly\n",
    "brackets; the call to OrderedDict() creates an empty ordered dictionary\n",
    "for us and stores it in _favoriteLanguages_ . We then add each name and language to _favoriteLanguages_ one at a time. Now when we loop through\n",
    "_favoriteLanguages_ , we know we’ll always get responses back in the order they were added"
   ]
  },
  {
   "cell_type": "markdown",
   "metadata": {},
   "source": [
    "## Styling Classes"
   ]
  },
  {
   "cell_type": "markdown",
   "metadata": {},
   "source": [
    "A few styling issues related to classes are worth clarifying, especially as your\n",
    "programs become more complicated.\n",
    "Class names should be written in ***CamelCaps***. To do this, capitalize the\n",
    "first letter of each word in the name, and don’t use underscores. Instance\n",
    "and module names should be written in lowercase with underscores between\n",
    "words.\n",
    "Every class should have a docstring immediately following the class defi-\n",
    "nition. The docstring should be a brief description of what the class does,\n",
    "and you should follow the same formatting conventions you used for writing\n",
    "docstrings in functions. Each module should also have a docstring describ-\n",
    "ing what the classes in a module can be used for.\n",
    "You can use blank lines to organize code, but don’t use them exces-\n",
    "sively. Within a class you can use one blank line between methods, and\n",
    "within a module you can use two blank lines to separate classes.\n",
    "If you need to import a module from the standard library and a module\n",
    "that you wrote, place the import statement for the standard library module first. Then add a blank line and the import statement for the module you\n",
    "wrote. In programs with multiple import statements, this convention makes\n",
    "it easier to see where the different modules used in the program come from.\n"
   ]
  },
  {
   "cell_type": "code",
   "execution_count": null,
   "metadata": {},
   "outputs": [],
   "source": []
  }
 ],
 "metadata": {
  "kernelspec": {
   "display_name": "Python 3",
   "language": "python",
   "name": "python3"
  },
  "language_info": {
   "codemirror_mode": {
    "name": "ipython",
    "version": 3
   },
   "file_extension": ".py",
   "mimetype": "text/x-python",
   "name": "python",
   "nbconvert_exporter": "python",
   "pygments_lexer": "ipython3",
   "version": "3.6.8"
  }
 },
 "nbformat": 4,
 "nbformat_minor": 2
}
