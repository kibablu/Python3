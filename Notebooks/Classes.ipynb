{
 "cells": [
  {
   "cell_type": "markdown",
   "metadata": {},
   "source": [
    "Learning classes from https://www.programmer-books.com/python-crash-course-pdf/"
   ]
  },
  {
   "cell_type": "markdown",
   "metadata": {},
   "source": [
    "# Classes"
   ]
  },
  {
   "cell_type": "markdown",
   "metadata": {},
   "source": [
    "In object-oriented programming you write classes that represent real world things and situations, and you create objects based on these classes.When you write a class, you define the general behavior that a whole category of objects can have.\n",
    "\n",
    "When you create individual objects from the class, each object is automatically equipped with the general behavior; you can then give each object whatever unique traits you desire.\n",
    "\n",
    "Making an object from a class is called __instantiation__."
   ]
  },
  {
   "cell_type": "markdown",
   "metadata": {},
   "source": [
    "## Creating and Using a Class"
   ]
  },
  {
   "cell_type": "code",
   "execution_count": 4,
   "metadata": {},
   "outputs": [],
   "source": [
    "# dog class\n",
    "class Dog(): # define a class Dog\n",
    "    def __init__(self, name, age): # initialize name and age attributes, special method \n",
    "        self.name = name # attributes \n",
    "        self.age = age\n",
    "        \n",
    "    def sit(self): # method of class Dog\n",
    "        print(self.name.title() + \" is now sitting.\") # calling attributes of class Dog\n",
    "        \n",
    "    def rollOver(self):\n",
    "        print(self.name.title() + \" rolled over\")\n",
    "        \n",
    "# attributes are Nouns\n",
    "# methods are Verbs\n",
    "# to access attributes and methods in a Class just do: \n",
    "# instanceName.attributeName \n",
    "# instanceName.method "
   ]
  },
  {
   "cell_type": "markdown",
   "metadata": {},
   "source": [
    "__Explanation__\n",
    "\n",
    "By convention, capitalized names refer to classes in Python."
   ]
  },
  {
   "cell_type": "markdown",
   "metadata": {},
   "source": [
    "The parentheses in the class definition are empty because we’re creating this class from scratch __(line 2)__\n",
    "\n",
    "The __init__( ) Method is a function that’s part of a class is a method.\n",
    "\n",
    "The __init__() method at __(line 3)__ is a special method Python runs automatically whenever we create a new instance based on the Dog class.\n",
    "\n",
    "We define the __init__( ) method to have three parameters: self, name, and age.__(line 3)__ The self parameter is required in the method definition, and it must come first before the other parameters.It must be included in the definition __(line 4)__ because when Python calls this __init__( ) method later (to create an instance of Dog), the method call will automatically pass the self argument.\n",
    "\n",
    "_Every method call associated with a class automatically passes self, which is a reference to the instance itself; it gives the individual instance access to the attributes and methods in the class. When we make an instance of Dog, Python will call the __init__() method from the Dog class.We’ll pass Dog() a name and an age as arguments; self is passed automatically, so we don’t need to pass it.Whenever we want to make an instance from the Dog class,\n",
    "we’ll provide values for only the last two parameters, name and age._\n",
    "\n",
    "The two variables defined at __(line 4-5)__ each have the prefix self. Any variable prefixed with self is available to every method in the class, and we’ll also be able to access these variables through any instance created from the class. self.name = name takes the value stored in the parameter name and stores it in the variable name, which is then attached to the instance being created. The same process happens with self.age = age Variables that are accessible through instances like this are called attributes.\n",
    "\n",
    "The Dog class has two other methods defined: sit() and roll_over() __(line7-11)__.Because these methods don’t need additional information like a name or age, we just define them to have one parameter, __self__. The instances we create later will have access to these methods.In other words, they’ll be able to sit and roll over.For now, sit() and roll_over() don’t do much."
   ]
  },
  {
   "cell_type": "markdown",
   "metadata": {},
   "source": [
    "### Making an Instance from a Class\n",
    "\n",
    "Think of a class as a set of instructions for how to make an instance.The class Dog is a set of instructions that tells Python how to make individual instances representing specific dogs."
   ]
  },
  {
   "cell_type": "code",
   "execution_count": 7,
   "metadata": {},
   "outputs": [
    {
     "name": "stdout",
     "output_type": "stream",
     "text": [
      "My dog's name is Zombie.\n",
      "My dog is 3 years old.\n"
     ]
    }
   ],
   "source": [
    "myDog = Dog('zombie', 3) # instance of a class, calling the Dog class and passing on 2 arguments\n",
    "\n",
    "print(\"My dog's name is \" + myDog.name.title() + \".\") # calling attributes of class Dog\n",
    "print(\"My dog is \" + str(myDog.age) + \" years old.\")"
   ]
  },
  {
   "cell_type": "markdown",
   "metadata": {},
   "source": [
    "At __(line 1)__ we tell Python to create a dog whose name is 'zombie' and\n",
    "whose age is 3. When Python reads this line, it calls the __init__( ) method in Dog with the arguments 'zombie' and 3. The __init__( ) method creates an instance representing this particular dog and sets the name and age attributes\n",
    "using the values we provided. The __init__( ) method has no explicit return statement, but Python automatically returns an instance representing this dog.We store that instance in the variable __myDog__. The naming convention is helpful here: we can usually assume that a capitalized name like Dog refers\n",
    "to a __class__, and a camelcase name like __myDog__ refers to a single instance created from a class."
   ]
  },
  {
   "cell_type": "markdown",
   "metadata": {},
   "source": [
    "### Accessing Attributes\n",
    "\n",
    "To access the attributes of an instance, you use __dot notation__. At __(line 3-4)__ we access the value of myDog’s attribute name by writing:"
   ]
  },
  {
   "cell_type": "code",
   "execution_count": 8,
   "metadata": {},
   "outputs": [
    {
     "data": {
      "text/plain": [
       "'zombie'"
      ]
     },
     "execution_count": 8,
     "metadata": {},
     "output_type": "execute_result"
    }
   ],
   "source": [
    "myDog.name # accessing attributes with dot (.) example myDog.name"
   ]
  },
  {
   "cell_type": "markdown",
   "metadata": {},
   "source": [
    "Dot notation is used often in Python.This syntax demonstrates how Python finds an attribute’s value.Here Python looks at the instance myDog and then finds the attribute __name__ associated with myDog.This is the same attribute referred to as __self.name__ in the class Dog."
   ]
  },
  {
   "cell_type": "markdown",
   "metadata": {},
   "source": [
    "### Calling Methods"
   ]
  },
  {
   "cell_type": "markdown",
   "metadata": {},
   "source": [
    "After we create an instance from the class Dog , we can use __dot notation__ to call any method defined in Dog.\n",
    "\n",
    "To call a method, give the name of the __instance__ (in this case, myDog) and the method you want to call, separated by a dot. When Python reads myDog.sit(), it looks for the method sit() in the class Dog and runs that\n",
    "code."
   ]
  },
  {
   "cell_type": "code",
   "execution_count": 1,
   "metadata": {},
   "outputs": [
    {
     "ename": "NameError",
     "evalue": "name 'myDog' is not defined",
     "output_type": "error",
     "traceback": [
      "\u001b[0;31m---------------------------------------------------------------------------\u001b[0m",
      "\u001b[0;31mNameError\u001b[0m                                 Traceback (most recent call last)",
      "\u001b[0;32m<ipython-input-1-3943bfc48e17>\u001b[0m in \u001b[0;36m<module>\u001b[0;34m\u001b[0m\n\u001b[0;32m----> 1\u001b[0;31m \u001b[0mmyDog\u001b[0m\u001b[0;34m.\u001b[0m\u001b[0msit\u001b[0m\u001b[0;34m(\u001b[0m\u001b[0;34m)\u001b[0m \u001b[0;31m# calling a method with dot (.)\u001b[0m\u001b[0;34m\u001b[0m\u001b[0;34m\u001b[0m\u001b[0m\n\u001b[0m\u001b[1;32m      2\u001b[0m \u001b[0mmyDog\u001b[0m\u001b[0;34m.\u001b[0m\u001b[0mrollOver\u001b[0m\u001b[0;34m(\u001b[0m\u001b[0;34m)\u001b[0m\u001b[0;34m\u001b[0m\u001b[0;34m\u001b[0m\u001b[0m\n",
      "\u001b[0;31mNameError\u001b[0m: name 'myDog' is not defined"
     ]
    }
   ],
   "source": [
    "myDog.sit() # calling a method with dot (.)\n",
    "myDog.rollOver() "
   ]
  },
  {
   "cell_type": "markdown",
   "metadata": {},
   "source": [
    "### Creating Multiple Instances"
   ]
  },
  {
   "cell_type": "code",
   "execution_count": 3,
   "metadata": {},
   "outputs": [
    {
     "name": "stdout",
     "output_type": "stream",
     "text": [
      "My dog's name is Zombie.\n",
      "My dog is 3 years old.\n",
      "Zombie is now sitting.\n",
      "\n",
      "Your dog's name is Mary.\n",
      "Your dog is 2 years old.\n",
      "Mary is now sitting.\n"
     ]
    }
   ],
   "source": [
    "# dog class\n",
    "class Dog(): # define a class Dog\n",
    "    def __init__(self, name, age): # initialize name and age attributes, special method \n",
    "        self.name = name # attributes \n",
    "        self.age = age\n",
    "        \n",
    "    def sit(self): # method of class Dog\n",
    "        print(self.name.title() + \" is now sitting.\")\n",
    "        \n",
    "    def rollOver(self):\n",
    "        print(self.name.title() + \" rolled over\")\n",
    "        \n",
    "myDog = Dog('zombie', 3) # instance of a class, calling the Dog class and passing on 2 arguments\n",
    "yourDog = Dog('mary', 2)\n",
    "\n",
    "print(\"My dog's name is \" + myDog.name.title() + \".\") # calling attributes of class Dog\n",
    "print(\"My dog is \" + str(myDog.age) + \" years old.\")\n",
    "myDog.sit() # calling a method sit()\n",
    "\n",
    "print(\"\\nYour dog's name is \" + yourDog.name.title() + \".\")\n",
    "print(\"Your dog is \" + str(yourDog.age) + \" years old.\")\n",
    "yourDog.sit()"
   ]
  },
  {
   "cell_type": "markdown",
   "metadata": {},
   "source": [
    "### Working with Classes and Instances"
   ]
  },
  {
   "cell_type": "markdown",
   "metadata": {},
   "source": [
    "### The Car Class\n",
    "\n",
    "Let’s write a new class representing a car. Our class will store information about the kind of car we’re working with, and it will have a method that summarizes this information"
   ]
  },
  {
   "cell_type": "code",
   "execution_count": 4,
   "metadata": {},
   "outputs": [
    {
     "name": "stdout",
     "output_type": "stream",
     "text": [
      "2016 Audi A4\n"
     ]
    }
   ],
   "source": [
    "class Car():\n",
    "    def __init__(self, make, model, year): # special method\n",
    "        self.make = make # attributes\n",
    "        self.model = model\n",
    "        self.year = year\n",
    "        \n",
    "    def getDescriptiveName(self): # method\n",
    "        longName = str(self.year) + \" \" + self.make + \" \" + self.model\n",
    "        return longName.title()\n",
    "    \n",
    "myNewCar = Car('audi', 'a4', 2016) # an instance of class Car\n",
    "\n",
    "print(myNewCar.getDescriptiveName()) # calling a method "
   ]
  },
  {
   "cell_type": "markdown",
   "metadata": {},
   "source": [
    "__Explanation__\n",
    "\n",
    "The __init__() method takes in these parameters and stores them in the attributes that will be associated with instances made from this class. When we make a new Car instance, we’ll need to specify a make, model, and year for our instance.\n",
    "\n",
    "**line 7** \n",
    "We define a method called **getDescriptiveName()** that puts a car’s year, make, and model into one string neatly describing the car.This will spare us from having to print each attribute’s value individually.To work with the\n",
    "attribute values in this method, we use self.make, self.model, and self.year.\n",
    "\n",
    "**line 11** \n",
    "We make an instance from the **Car class** and store it in the variable **myNewCar**. Then we call **getDescriptiveName()** to show what kind of car we have"
   ]
  },
  {
   "cell_type": "markdown",
   "metadata": {},
   "source": [
    "### Setting a Default Value for an Attribute\n",
    "\n",
    "Every attribute in a class needs an initial value, even if that value is 0 or an empty string. In some cases, such as when setting a default value, it makes sense to specify this initial value in the body of the __init__() method; if you do this for an attribute, you don’t have to include a parameter for that attribute.\n"
   ]
  },
  {
   "cell_type": "code",
   "execution_count": 9,
   "metadata": {},
   "outputs": [
    {
     "name": "stdout",
     "output_type": "stream",
     "text": [
      "2016 Audi A4\n",
      "This car has 0 miles on it.\n"
     ]
    }
   ],
   "source": [
    "class Car():\n",
    "    def __init__(self, make, model, year): # special method\n",
    "        \"\"\"Initialize attributes to describe a car.\"\"\"\n",
    "        self.make = make \n",
    "        self.model = model\n",
    "        self.year = year\n",
    "        self.odometerReading = 0 # default value for odemeterReading attributes\n",
    "        \n",
    "    def getDescriptiveName(self): # method\n",
    "        longName = str(self.year) + \" \" + self.make + \" \" + self.model\n",
    "        return longName.title()\n",
    "    \n",
    "    def readOdometer(self): \n",
    "        \"\"\"print a statement showing the car's mileage\"\"\"\n",
    "        print(\"This car has \" + str(self.odometerReading) + \" miles on it.\")\n",
    "    \n",
    "myNewCar = Car('audi', 'a4', 2016) # an instance of class Car\n",
    "print(myNewCar.getDescriptiveName()) # calling a method \n",
    "\n",
    "myNewCar.readOdometer()"
   ]
  },
  {
   "cell_type": "markdown",
   "metadata": {},
   "source": [
    "__Explanation__\n",
    "\n",
    "when Python calls the __init__() method to create a new instance, it stores the make, model, and year values as attributes like it did in the previous example. Then Python creates a new attribute\n",
    "called **odometerReading** and sets its initial value to __0__. We also have a new method called **readOdometer()** that makes it easy to read a car’s\n",
    "mileage.\n",
    "\n",
    "Our car starts with a mileage of 0:"
   ]
  },
  {
   "cell_type": "markdown",
   "metadata": {},
   "source": [
    "### Modifying Attribute Values\n",
    "You can change an attribute’s value in three ways:\n",
    "1. you can change the value directly through an instance\n",
    "2. set the value through a method\n",
    "3. increment the value (add a certain amount to it) through a method"
   ]
  },
  {
   "cell_type": "markdown",
   "metadata": {},
   "source": [
    "#### Modifying an Attribute’s Value Directly\n",
    "The simplest way to modify the value of an attribute is to access the attri-\n",
    "bute directly through an instance."
   ]
  },
  {
   "cell_type": "code",
   "execution_count": 2,
   "metadata": {},
   "outputs": [
    {
     "name": "stdout",
     "output_type": "stream",
     "text": [
      "2016 Audi A4\n",
      "This car has 23 miles on it.\n"
     ]
    }
   ],
   "source": [
    "\"\"\"modifying an attribute's value directly\"\"\"\n",
    "\n",
    "class Car():\n",
    "    def __init__(self, make, model, year): # special method\n",
    "        \"\"\"Initialize attributes to describe a car.\"\"\"\n",
    "        self.make = make \n",
    "        self.model = model\n",
    "        self.year = year\n",
    "        self.odometerReading = 0 # default value for odemeterReading attributes\n",
    "        \n",
    "    def getDescriptiveName(self): # method\n",
    "        longName = str(self.year) + \" \" + self.make + \" \" + self.model\n",
    "        return longName.title()\n",
    "    \n",
    "    def readOdometer(self): \n",
    "        \"\"\"print a statement showing the car's mileage\"\"\"\n",
    "        print(\"This car has \" + str(self.odometerReading) + \" miles on it.\")\n",
    "    \n",
    "myNewCar = Car('audi', 'a4', 2016) # an instance of class Car\n",
    "print(myNewCar.getDescriptiveName()) # calling a method \n",
    "\n",
    "myNewCar.odometerReading = 23 # attribute modified directly \n",
    "myNewCar.readOdometer()"
   ]
  },
  {
   "cell_type": "markdown",
   "metadata": {},
   "source": [
    "__Explanation__\n",
    "\n",
    "**line 22** we use dot notation to access the car’s __odometerReading__ and set its value directly.This line tells Python to take the instance\n",
    "__myNewCar__, find the attribute __odometerReading__ associated with it, and set the value of that attribute to 23"
   ]
  },
  {
   "cell_type": "markdown",
   "metadata": {},
   "source": [
    "#### Modifying an Attribute’s Value Through a Method\n",
    "It can be helpful to have methods that update certain attributes for you. Instead of accessing the attribute directly, you pass the new value to a method that handles the updating internally."
   ]
  },
  {
   "cell_type": "code",
   "execution_count": 5,
   "metadata": {},
   "outputs": [
    {
     "name": "stdout",
     "output_type": "stream",
     "text": [
      "2016 Audi A4\n",
      "This car has 23 miles on it.\n"
     ]
    }
   ],
   "source": [
    "\"\"\"Modifying an Attribute’s Value Through a Method\"\"\"\n",
    "\n",
    "class Car():\n",
    "    def __init__(self, make, model, year): # special method\n",
    "        \"\"\"Initialize attributes to describe a car.\"\"\"\n",
    "        self.make = make \n",
    "        self.model = model\n",
    "        self.year = year\n",
    "        self.odometerReading = 0 # default value for odemeterReading attributes\n",
    "        \n",
    "    def getDescriptiveName(self): # method\n",
    "        longName = str(self.year) + \" \" + self.make + \" \" + self.model\n",
    "        return longName.title()\n",
    "    \n",
    "    def readOdometer(self): \n",
    "        \"\"\"print a statement showing the car's mileage\"\"\"\n",
    "        print(\"This car has \" + str(self.odometerReading) + \" miles on it.\")\n",
    "        \n",
    "    def updateOdometer(self, mileage): # attribute modified through a method\n",
    "        \"\"\"Set the odometer reading to the given value\"\"\"\n",
    "        self.odometerReading = mileage\n",
    "    \n",
    "myNewCar = Car('audi', 'a4', 2016) # an instance of class Car\n",
    "print(myNewCar.getDescriptiveName()) # calling a method \n",
    "\n",
    "myNewCar.updateOdometer(23) # attribute updated by calling a method\n",
    "myNewCar.readOdometer()"
   ]
  },
  {
   "cell_type": "markdown",
   "metadata": {},
   "source": [
    "The only modification to __Car__ is the addition of __updateOdometer__ method. This method takes in a _mileage_ value and stores it in _self.odometerReading_. We call  __updateOdometer ()__ and give it _23_ as an argument (corresponding\n",
    "to the mileage parameter in the method definition). It sets the _odometerReading_ to 23, and readOdometer() prints the reading"
   ]
  },
  {
   "cell_type": "markdown",
   "metadata": {},
   "source": [
    "We can extend the method updateOdometer() to do additional work every time the odometer reading is modified. Let’s add a little logic to make sure no one tries to roll back the odometer reading"
   ]
  },
  {
   "cell_type": "code",
   "execution_count": 26,
   "metadata": {},
   "outputs": [
    {
     "name": "stdout",
     "output_type": "stream",
     "text": [
      "2016 Audi A4\n",
      "This car has 23 miles on it.\n"
     ]
    }
   ],
   "source": [
    "\"\"\"add a little logic to make sure no one tries to roll back the odometer reading\"\"\"\n",
    "\n",
    "class Car():\n",
    "    def __init__(self, make, model, year): # special method\n",
    "        \"\"\"Initialize attributes to describe a car.\"\"\"\n",
    "        self.make = make \n",
    "        self.model = model\n",
    "        self.year = year\n",
    "        self.odometerReading = 0 # default value for odemeterReading attributes\n",
    "        \n",
    "    def getDescriptiveName(self): # method\n",
    "        longName = str(self.year) + \" \" + self.make + \" \" + self.model\n",
    "        return longName.title()\n",
    "    \n",
    "    def readOdometer(self): \n",
    "        \"\"\"print a statement showing the car's mileage\"\"\"\n",
    "        print(\"This car has \" + str(self.odometerReading) + \" miles on it.\")\n",
    "        \n",
    "    def updateOdometer(self, mileage): # attribute modified through a method\n",
    "        \"\"\"\n",
    "        Set the odometer reading to the given \n",
    "        Reject the change if it attempts to roll the odometer backvalue.\n",
    "        \"\"\"\n",
    "        if mileage >= self.odometerReading:\n",
    "            self.odometerReading = mileage\n",
    "        else:\n",
    "            print(\"You can't roll back odometer\")\n",
    "    \n",
    "myNewCar = Car('audi', 'a4', 2016) # an instance of class Car\n",
    "print(myNewCar.getDescriptiveName()) # calling a method \n",
    "\n",
    "myNewCar.updateOdometer(23) # attribute updated by calling a method\n",
    "myNewCar.readOdometer()\n",
    "\n",
    "# to see changes change the value of self.odometerReading to less than 23 and greater than 23"
   ]
  },
  {
   "cell_type": "markdown",
   "metadata": {},
   "source": [
    "#### Incrementing an Attribute’s Value Through a Method\n",
    "Sometimes you’ll want to increment an attribute’s value by a certain amount rather than set an entirely new value. Say we buy a used car and put 100 miles on it between the time we buy it and the time we register it."
   ]
  },
  {
   "cell_type": "code",
   "execution_count": 30,
   "metadata": {},
   "outputs": [
    {
     "name": "stdout",
     "output_type": "stream",
     "text": [
      "2013 Subaru Outback\n",
      "This car has 23500 miles on it.\n",
      "This car has 23600 miles on it.\n"
     ]
    }
   ],
   "source": [
    "\"\"\"Incrementing an Attribute’s Value Through a Method\"\"\"\n",
    "\n",
    "class Car():\n",
    "    def __init__(self, make, model, year): # special method\n",
    "        \"\"\"Initialize attributes to describe a car.\"\"\"\n",
    "        self.make = make \n",
    "        self.model = model\n",
    "        self.year = year\n",
    "        self.odometerReading = 0 # default value for odemeterReading attributes\n",
    "        \n",
    "    def getDescriptiveName(self): # method\n",
    "        longName = str(self.year) + \" \" + self.make + \" \" + self.model\n",
    "        return longName.title()\n",
    "    \n",
    "    def readOdometer(self): \n",
    "        \"\"\"print a statement showing the car's mileage\"\"\"\n",
    "        print(\"This car has \" + str(self.odometerReading) + \" miles on it.\")\n",
    "        \n",
    "    def updateOdometer(self, mileage): # attribute modified through a method\n",
    "        \"\"\"Set the odometer reading to the given value\"\"\"\n",
    "        self.odometerReading = mileage\n",
    "        \n",
    "    def incrementOdometer(self, miles):\n",
    "        self.odometerReading += miles # attribute incremented through a method\n",
    "    \n",
    "myUsedCar = Car('Subaru', 'outback', 2013)\n",
    "print(myUsedCar.getDescriptiveName())\n",
    "\n",
    "myUsedCar.updateOdometer(23500)\n",
    "myUsedCar.readOdometer()\n",
    "\n",
    "myUsedCar.incrementOdometer(100)\n",
    "myUsedCar.readOdometer()"
   ]
  },
  {
   "cell_type": "markdown",
   "metadata": {},
   "source": [
    "__Explanation__\n",
    "\n",
    "The new method __incrementOdometer()__takes in a number of miles, and adds this value to self.odometerReading. We create a used car, __myUsedCar__. We set its odometer to 23,500 by calling _updateOdometer()_ method and passing it 23500. We call __incrementOdometer()__ and pass it 100 to add the 100 miles that we drove between buying the car and registering it:"
   ]
  },
  {
   "cell_type": "code",
   "execution_count": null,
   "metadata": {},
   "outputs": [],
   "source": []
  }
 ],
 "metadata": {
  "kernelspec": {
   "display_name": "Python 3",
   "language": "python",
   "name": "python3"
  },
  "language_info": {
   "codemirror_mode": {
    "name": "ipython",
    "version": 3
   },
   "file_extension": ".py",
   "mimetype": "text/x-python",
   "name": "python",
   "nbconvert_exporter": "python",
   "pygments_lexer": "ipython3",
   "version": "3.6.8"
  }
 },
 "nbformat": 4,
 "nbformat_minor": 2
}
